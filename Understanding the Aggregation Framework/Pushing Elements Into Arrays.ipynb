{
 "cells": [
  {
   "cell_type": "code",
   "execution_count": 1,
   "id": "04ca7f03",
   "metadata": {},
   "outputs": [
    {
     "data": {
      "text/plain": [
       "<pymongo.results.InsertManyResult at 0x7f57557d0e20>"
      ]
     },
     "execution_count": 1,
     "metadata": {},
     "output_type": "execute_result"
    }
   ],
   "source": [
    "from pymongo import MongoClient\n",
    "from pprint import pprint\n",
    "import json\n",
    "\n",
    "client = MongoClient(\"localhost\", 27017)\n",
    "client.drop_database(\"userData\")\n",
    "\n",
    "db = client.userData\n",
    "with open(\"array-data.json\") as f:\n",
    "    file_data = json.load(f)\n",
    "db.friends.insert_many(file_data)\n"
   ]
  },
  {
   "cell_type": "code",
   "execution_count": 2,
   "id": "87f94dd6",
   "metadata": {},
   "outputs": [
    {
     "name": "stdout",
     "output_type": "stream",
     "text": [
      "{'_id': {'age': 30}, 'all_hobbies': [['Eating', 'Data Analytics']]}\n",
      "{'_id': {'age': 29},\n",
      " 'all_hobbies': [['Sports', 'Cooking'], ['Cooking', 'Skiing']]}\n"
     ]
    }
   ],
   "source": [
    "for x in db.friends.aggregate(\n",
    "    [\n",
    "        {\n",
    "            \"$group\": {\"_id\": {\"age\": \"$age\"}, \"all_hobbies\": {\"$push\": \"$hobbies\"}},\n",
    "        },\n",
    "    ]\n",
    "):\n",
    "    pprint(x)\n"
   ]
  },
  {
   "cell_type": "code",
   "execution_count": 3,
   "id": "dc0434ef",
   "metadata": {},
   "outputs": [],
   "source": [
    "client.close()\n"
   ]
  }
 ],
 "metadata": {
  "kernelspec": {
   "display_name": "Python 3 (ipykernel)",
   "language": "python",
   "name": "python3"
  },
  "language_info": {
   "codemirror_mode": {
    "name": "ipython",
    "version": 3
   },
   "file_extension": ".py",
   "mimetype": "text/x-python",
   "name": "python",
   "nbconvert_exporter": "python",
   "pygments_lexer": "ipython3",
   "version": "3.10.6"
  }
 },
 "nbformat": 4,
 "nbformat_minor": 5
}
