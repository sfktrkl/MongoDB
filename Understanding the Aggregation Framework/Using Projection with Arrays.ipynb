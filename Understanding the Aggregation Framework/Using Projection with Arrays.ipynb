{
 "cells": [
  {
   "cell_type": "code",
   "execution_count": 21,
   "id": "04ca7f03",
   "metadata": {},
   "outputs": [
    {
     "data": {
      "text/plain": [
       "<pymongo.results.InsertManyResult at 0x7f5456c6f220>"
      ]
     },
     "execution_count": 21,
     "metadata": {},
     "output_type": "execute_result"
    }
   ],
   "source": [
    "from pymongo import MongoClient\n",
    "from pprint import pprint\n",
    "import json\n",
    "\n",
    "client = MongoClient(\"localhost\", 27017)\n",
    "client.drop_database(\"userData\")\n",
    "\n",
    "db = client.userData\n",
    "with open(\"array-data.json\") as f:\n",
    "    file_data = json.load(f)\n",
    "db.friends.insert_many(file_data)\n"
   ]
  },
  {
   "cell_type": "code",
   "execution_count": 22,
   "id": "87f94dd6",
   "metadata": {},
   "outputs": [
    {
     "name": "stdout",
     "output_type": "stream",
     "text": [
      "{'exam_score': [{'difficulty': 6, 'score': 62.1}], 'num_scores': 3}\n",
      "{'exam_score': [{'difficulty': 2, 'score': 74.3}], 'num_scores': 3}\n",
      "{'exam_score': [{'difficulty': 8, 'score': 44.2}], 'num_scores': 3}\n"
     ]
    }
   ],
   "source": [
    "for x in db.friends.aggregate(\n",
    "    [\n",
    "        {\n",
    "            \"$project\": {\n",
    "                \"_id\": 0,\n",
    "                \"num_scores\": {\"$size\": \"$examScores\"},\n",
    "                \"exam_score\": {\"$slice\": [\"$examScores\", 2, 1]},\n",
    "            }\n",
    "        }\n",
    "    ]\n",
    "):\n",
    "    pprint(x)\n"
   ]
  },
  {
   "cell_type": "code",
   "execution_count": 23,
   "id": "dc0434ef",
   "metadata": {},
   "outputs": [],
   "source": [
    "client.close()\n"
   ]
  }
 ],
 "metadata": {
  "kernelspec": {
   "display_name": "Python 3 (ipykernel)",
   "language": "python",
   "name": "python3"
  },
  "language_info": {
   "codemirror_mode": {
    "name": "ipython",
    "version": 3
   },
   "file_extension": ".py",
   "mimetype": "text/x-python",
   "name": "python",
   "nbconvert_exporter": "python",
   "pygments_lexer": "ipython3",
   "version": "3.10.6"
  }
 },
 "nbformat": 4,
 "nbformat_minor": 5
}
