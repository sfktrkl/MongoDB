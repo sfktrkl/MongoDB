{
 "cells": [
  {
   "cell_type": "code",
   "execution_count": 17,
   "id": "04ca7f03",
   "metadata": {},
   "outputs": [
    {
     "data": {
      "text/plain": [
       "<pymongo.results.InsertManyResult at 0x7fe4a6bd0310>"
      ]
     },
     "execution_count": 17,
     "metadata": {},
     "output_type": "execute_result"
    }
   ],
   "source": [
    "from pymongo import MongoClient\n",
    "from pprint import pprint\n",
    "import json\n",
    "\n",
    "client = MongoClient(\"localhost\", 27017)\n",
    "client.drop_database(\"userData\")\n",
    "\n",
    "db = client.userData\n",
    "with open(\"people.json\") as f:\n",
    "    file_data = json.load(f)\n",
    "db.users.insert_many(file_data)\n"
   ]
  },
  {
   "cell_type": "code",
   "execution_count": 18,
   "id": "87f94dd6",
   "metadata": {},
   "outputs": [
    {
     "name": "stdout",
     "output_type": "stream",
     "text": [
      "{'birthday': datetime.datetime(1945, 1, 1, 22, 35, 55), 'name': 'pierre boyer'}\n",
      "{'birthday': datetime.datetime(1945, 1, 10, 3, 5, 21), 'name': 'emile noel'}\n",
      "{'birthday': datetime.datetime(1945, 1, 13, 17, 4, 33),\n",
      " 'name': 'torgeir apeland'}\n",
      "{'birthday': datetime.datetime(1945, 1, 17, 22, 13, 14), 'name': 'igor kvistad'}\n",
      "{'birthday': datetime.datetime(1945, 1, 22, 6, 16, 30),\n",
      " 'name': 'mariusz gabler'}\n"
     ]
    }
   ],
   "source": [
    "for x in db.users.aggregate(\n",
    "    [\n",
    "        {\"$match\": {\"gender\": \"male\"}},\n",
    "        {\n",
    "            \"$project\": {\n",
    "                \"_id\": 0,\n",
    "                \"name\": {\"$concat\": [\"$name.first\", \" \", \"$name.last\"]},\n",
    "                \"birthday\": {\"$toDate\": \"$dob.date\"},\n",
    "            }\n",
    "        },\n",
    "        {\"$sort\": {\"birthday\": 1}},\n",
    "        {\"$skip\": 10},\n",
    "        {\"$limit\": 5},\n",
    "    ]\n",
    "):\n",
    "    pprint(x)\n"
   ]
  },
  {
   "cell_type": "code",
   "execution_count": 19,
   "id": "dc0434ef",
   "metadata": {},
   "outputs": [],
   "source": [
    "client.close()\n"
   ]
  }
 ],
 "metadata": {
  "kernelspec": {
   "display_name": "Python 3 (ipykernel)",
   "language": "python",
   "name": "python3"
  },
  "language_info": {
   "codemirror_mode": {
    "name": "ipython",
    "version": 3
   },
   "file_extension": ".py",
   "mimetype": "text/x-python",
   "name": "python",
   "nbconvert_exporter": "python",
   "pygments_lexer": "ipython3",
   "version": "3.10.6"
  }
 },
 "nbformat": 4,
 "nbformat_minor": 5
}
