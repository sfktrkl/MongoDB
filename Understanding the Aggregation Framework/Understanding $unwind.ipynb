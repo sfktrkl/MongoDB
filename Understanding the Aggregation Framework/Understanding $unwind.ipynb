{
 "cells": [
  {
   "cell_type": "code",
   "execution_count": 4,
   "id": "04ca7f03",
   "metadata": {},
   "outputs": [
    {
     "data": {
      "text/plain": [
       "<pymongo.results.InsertManyResult at 0x7feafea4fe50>"
      ]
     },
     "execution_count": 4,
     "metadata": {},
     "output_type": "execute_result"
    }
   ],
   "source": [
    "from pymongo import MongoClient\n",
    "from pprint import pprint\n",
    "import json\n",
    "\n",
    "client = MongoClient(\"localhost\", 27017)\n",
    "client.drop_database(\"userData\")\n",
    "\n",
    "db = client.userData\n",
    "with open(\"array-data.json\") as f:\n",
    "    file_data = json.load(f)\n",
    "db.friends.insert_many(file_data)\n"
   ]
  },
  {
   "cell_type": "code",
   "execution_count": 5,
   "id": "87f94dd6",
   "metadata": {},
   "outputs": [
    {
     "name": "stdout",
     "output_type": "stream",
     "text": [
      "{'_id': {'age': 30}, 'all_hobbies': ['Eating', 'Data Analytics']}\n",
      "{'_id': {'age': 29}, 'all_hobbies': ['Cooking', 'Sports', 'Skiing']}\n"
     ]
    }
   ],
   "source": [
    "for x in db.friends.aggregate(\n",
    "    [\n",
    "        {\"$unwind\": \"$hobbies\"},\n",
    "        {\n",
    "            \"$group\": {\n",
    "                \"_id\": {\"age\": \"$age\"},\n",
    "                \"all_hobbies\": {\"$addToSet\": \"$hobbies\"},\n",
    "            },\n",
    "        },\n",
    "    ]\n",
    "):\n",
    "    pprint(x)\n"
   ]
  },
  {
   "cell_type": "code",
   "execution_count": 6,
   "id": "dc0434ef",
   "metadata": {},
   "outputs": [],
   "source": [
    "client.close()\n"
   ]
  }
 ],
 "metadata": {
  "kernelspec": {
   "display_name": "Python 3 (ipykernel)",
   "language": "python",
   "name": "python3"
  },
  "language_info": {
   "codemirror_mode": {
    "name": "ipython",
    "version": 3
   },
   "file_extension": ".py",
   "mimetype": "text/x-python",
   "name": "python",
   "nbconvert_exporter": "python",
   "pygments_lexer": "ipython3",
   "version": "3.10.6"
  }
 },
 "nbformat": 4,
 "nbformat_minor": 5
}
