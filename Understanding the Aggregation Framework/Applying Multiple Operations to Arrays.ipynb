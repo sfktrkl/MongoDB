{
 "cells": [
  {
   "cell_type": "code",
   "execution_count": 29,
   "id": "04ca7f03",
   "metadata": {},
   "outputs": [
    {
     "data": {
      "text/plain": [
       "<pymongo.results.InsertManyResult at 0x7f788582c550>"
      ]
     },
     "execution_count": 29,
     "metadata": {},
     "output_type": "execute_result"
    }
   ],
   "source": [
    "from pymongo import MongoClient\n",
    "from pprint import pprint\n",
    "import json\n",
    "\n",
    "client = MongoClient(\"localhost\", 27017)\n",
    "client.drop_database(\"userData\")\n",
    "\n",
    "db = client.userData\n",
    "with open(\"array-data.json\") as f:\n",
    "    file_data = json.load(f)\n",
    "db.friends.insert_many(file_data)\n"
   ]
  },
  {
   "cell_type": "code",
   "execution_count": 30,
   "id": "87f94dd6",
   "metadata": {},
   "outputs": [
    {
     "name": "stdout",
     "output_type": "stream",
     "text": [
      "{'_id': ObjectId('64570702d8954984f8e038f8'), 'max_score': 88.5, 'name': 'Max'}\n",
      "{'_id': ObjectId('64570702d8954984f8e038fa'),\n",
      " 'max_score': 75.1,\n",
      " 'name': 'Maria'}\n",
      "{'_id': ObjectId('64570702d8954984f8e038f9'), 'max_score': 74.3, 'name': 'Manu'}\n"
     ]
    }
   ],
   "source": [
    "for x in db.friends.aggregate(\n",
    "    [\n",
    "        {\"$unwind\": \"$examScores\"},\n",
    "        {\"$project\": {\"_id\": 1, \"name\": 1, \"score\": \"$examScores.score\"}},\n",
    "        {\"$sort\": {\"examScores\": -1}},\n",
    "        {\n",
    "            \"$group\": {\n",
    "                \"_id\": \"$_id\",\n",
    "                \"name\": {\"$first\": \"$name\"},\n",
    "                \"max_score\": {\"$max\": \"$score\"},\n",
    "            }\n",
    "        },\n",
    "        {\"$sort\": {\"max_score\": -1}},\n",
    "    ]\n",
    "):\n",
    "    pprint(x)\n"
   ]
  },
  {
   "cell_type": "code",
   "execution_count": 31,
   "id": "dc0434ef",
   "metadata": {},
   "outputs": [],
   "source": [
    "client.close()\n"
   ]
  }
 ],
 "metadata": {
  "kernelspec": {
   "display_name": "Python 3 (ipykernel)",
   "language": "python",
   "name": "python3"
  },
  "language_info": {
   "codemirror_mode": {
    "name": "ipython",
    "version": 3
   },
   "file_extension": ".py",
   "mimetype": "text/x-python",
   "name": "python",
   "nbconvert_exporter": "python",
   "pygments_lexer": "ipython3",
   "version": "3.10.6"
  }
 },
 "nbformat": 4,
 "nbformat_minor": 5
}
