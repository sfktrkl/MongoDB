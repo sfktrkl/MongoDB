{
 "cells": [
  {
   "cell_type": "code",
   "execution_count": 23,
   "id": "04ca7f03",
   "metadata": {},
   "outputs": [
    {
     "data": {
      "text/plain": [
       "<pymongo.results.InsertManyResult at 0x7f6d9dca5ed0>"
      ]
     },
     "execution_count": 23,
     "metadata": {},
     "output_type": "execute_result"
    }
   ],
   "source": [
    "from pymongo import MongoClient\n",
    "from pprint import pprint\n",
    "import json\n",
    "\n",
    "client = MongoClient(\"localhost\", 27017)\n",
    "client.drop_database(\"userData\")\n",
    "\n",
    "db = client.userData\n",
    "with open(\"people.json\") as f:\n",
    "    file_data = json.load(f)\n",
    "db.users.insert_many(file_data)\n"
   ]
  },
  {
   "cell_type": "code",
   "execution_count": 24,
   "id": "87f94dd6",
   "metadata": {},
   "outputs": [],
   "source": [
    "for x in db.users.aggregate(\n",
    "    [\n",
    "        {\n",
    "            \"$project\": {\n",
    "                \"_id\": 0,\n",
    "                \"location\": {\n",
    "                    \"type\": \"Point\",\n",
    "                    \"coordinates\": [\n",
    "                        {\n",
    "                            \"$convert\": {\n",
    "                                \"input\": \"$location.coordinates.longitude\",\n",
    "                                \"to\": \"double\",\n",
    "                                \"onError\": 0.0,\n",
    "                                \"onNull\": 0.0,\n",
    "                            }\n",
    "                        },\n",
    "                        {\n",
    "                            \"$convert\": {\n",
    "                                \"input\": \"$location.coordinates.latitude\",\n",
    "                                \"to\": \"double\",\n",
    "                                \"onError\": 0.0,\n",
    "                                \"onNull\": 0.0,\n",
    "                            }\n",
    "                        },\n",
    "                    ],\n",
    "                },\n",
    "            }\n",
    "        },\n",
    "        {\"$out\": \"transformedLocations\"},\n",
    "    ]\n",
    "):\n",
    "    pprint(x)\n"
   ]
  },
  {
   "cell_type": "code",
   "execution_count": 25,
   "id": "cffa3045",
   "metadata": {},
   "outputs": [
    {
     "data": {
      "text/plain": [
       "'location_2dsphere'"
      ]
     },
     "execution_count": 25,
     "metadata": {},
     "output_type": "execute_result"
    }
   ],
   "source": [
    "db.transformedLocations.create_index([(\"location\", \"2dsphere\")])\n"
   ]
  },
  {
   "cell_type": "code",
   "execution_count": 26,
   "id": "7202f9da",
   "metadata": {},
   "outputs": [
    {
     "name": "stdout",
     "output_type": "stream",
     "text": [
      "{'_id': ObjectId('64570d9eb842f828816fc882'),\n",
      " 'distance': 26473.52536319881,\n",
      " 'location': {'coordinates': [-18.5996, -42.6128], 'type': 'Point'}}\n"
     ]
    }
   ],
   "source": [
    "for x in db.transformedLocations.aggregate(\n",
    "    [\n",
    "        {\n",
    "            \"$geoNear\": {\n",
    "                \"near\": {\"type\": \"Point\", \"coordinates\": [-18.4, -42.8]},\n",
    "                \"maxDistance\": 100000,\n",
    "                \"distanceField\": \"distance\",\n",
    "            }\n",
    "        }\n",
    "    ]\n",
    "):\n",
    "    pprint(x)\n"
   ]
  },
  {
   "cell_type": "code",
   "execution_count": 27,
   "id": "dc0434ef",
   "metadata": {},
   "outputs": [],
   "source": [
    "client.close()\n"
   ]
  }
 ],
 "metadata": {
  "kernelspec": {
   "display_name": "Python 3 (ipykernel)",
   "language": "python",
   "name": "python3"
  },
  "language_info": {
   "codemirror_mode": {
    "name": "ipython",
    "version": 3
   },
   "file_extension": ".py",
   "mimetype": "text/x-python",
   "name": "python",
   "nbconvert_exporter": "python",
   "pygments_lexer": "ipython3",
   "version": "3.10.6"
  }
 },
 "nbformat": 4,
 "nbformat_minor": 5
}
