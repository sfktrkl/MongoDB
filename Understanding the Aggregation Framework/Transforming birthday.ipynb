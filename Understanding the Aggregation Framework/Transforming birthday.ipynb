{
 "cells": [
  {
   "cell_type": "code",
   "execution_count": 5,
   "id": "04ca7f03",
   "metadata": {},
   "outputs": [
    {
     "data": {
      "text/plain": [
       "<pymongo.results.InsertManyResult at 0x7ff99eb73fd0>"
      ]
     },
     "execution_count": 5,
     "metadata": {},
     "output_type": "execute_result"
    }
   ],
   "source": [
    "from pymongo import MongoClient\n",
    "from pprint import pprint\n",
    "import json\n",
    "\n",
    "client = MongoClient(\"localhost\", 27017)\n",
    "client.drop_database(\"userData\")\n",
    "\n",
    "db = client.userData\n",
    "with open(\"people.json\") as f:\n",
    "    file_data = json.load(f)\n",
    "db.users.insert_many(file_data)\n"
   ]
  },
  {
   "cell_type": "code",
   "execution_count": 6,
   "id": "87f94dd6",
   "metadata": {},
   "outputs": [
    {
     "name": "stdout",
     "output_type": "stream",
     "text": [
      "{'age': 59, 'birthday': datetime.datetime(1959, 2, 19, 23, 56, 23)}\n",
      "{'age': 33, 'birthday': datetime.datetime(1984, 9, 30, 1, 20, 26)}\n",
      "{'age': 29, 'birthday': datetime.datetime(1988, 10, 17, 3, 45, 4)}\n",
      "{'age': 30, 'birthday': datetime.datetime(1988, 5, 27, 0, 14, 3)}\n",
      "{'age': 47, 'birthday': datetime.datetime(1971, 3, 28, 4, 47, 21)}\n"
     ]
    }
   ],
   "source": [
    "for x in db.users.aggregate(\n",
    "    [\n",
    "        {\n",
    "            \"$project\": {\n",
    "                \"_id\": 0,\n",
    "                \"birthday\": {\"$convert\": {\"input\": \"$dob.date\", \"to\": \"date\"}},\n",
    "                \"age\": \"$dob.age\",\n",
    "            }\n",
    "        },\n",
    "        {\"$limit\": 5},\n",
    "    ]\n",
    "):\n",
    "    pprint(x)\n"
   ]
  },
  {
   "cell_type": "code",
   "execution_count": 7,
   "id": "4c08e9a9",
   "metadata": {},
   "outputs": [
    {
     "name": "stdout",
     "output_type": "stream",
     "text": [
      "{'age': 59, 'birthday': datetime.datetime(1959, 2, 19, 23, 56, 23)}\n",
      "{'age': 33, 'birthday': datetime.datetime(1984, 9, 30, 1, 20, 26)}\n",
      "{'age': 29, 'birthday': datetime.datetime(1988, 10, 17, 3, 45, 4)}\n",
      "{'age': 30, 'birthday': datetime.datetime(1988, 5, 27, 0, 14, 3)}\n",
      "{'age': 47, 'birthday': datetime.datetime(1971, 3, 28, 4, 47, 21)}\n"
     ]
    }
   ],
   "source": [
    "for x in db.users.aggregate(\n",
    "    [\n",
    "        {\n",
    "            \"$project\": {\n",
    "                \"_id\": 0,\n",
    "                \"birthday\": {\"$toDate\": \"$dob.date\"},\n",
    "                \"age\": \"$dob.age\",\n",
    "            }\n",
    "        },\n",
    "        {\"$limit\": 5},\n",
    "    ]\n",
    "):\n",
    "    pprint(x)\n"
   ]
  },
  {
   "cell_type": "code",
   "execution_count": 8,
   "id": "dc0434ef",
   "metadata": {},
   "outputs": [],
   "source": [
    "client.close()\n"
   ]
  }
 ],
 "metadata": {
  "kernelspec": {
   "display_name": "Python 3 (ipykernel)",
   "language": "python",
   "name": "python3"
  },
  "language_info": {
   "codemirror_mode": {
    "name": "ipython",
    "version": 3
   },
   "file_extension": ".py",
   "mimetype": "text/x-python",
   "name": "python",
   "nbconvert_exporter": "python",
   "pygments_lexer": "ipython3",
   "version": "3.10.6"
  }
 },
 "nbformat": 4,
 "nbformat_minor": 5
}
