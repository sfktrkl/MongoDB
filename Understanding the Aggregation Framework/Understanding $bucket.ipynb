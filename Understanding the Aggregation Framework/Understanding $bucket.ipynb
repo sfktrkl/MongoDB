{
 "cells": [
  {
   "cell_type": "code",
   "execution_count": 4,
   "id": "04ca7f03",
   "metadata": {},
   "outputs": [
    {
     "data": {
      "text/plain": [
       "<pymongo.results.InsertManyResult at 0x7faa7434ffd0>"
      ]
     },
     "execution_count": 4,
     "metadata": {},
     "output_type": "execute_result"
    }
   ],
   "source": [
    "from pymongo import MongoClient\n",
    "from pprint import pprint\n",
    "import json\n",
    "\n",
    "client = MongoClient(\"localhost\", 27017)\n",
    "client.drop_database(\"userData\")\n",
    "\n",
    "db = client.userData\n",
    "with open(\"people.json\") as f:\n",
    "    file_data = json.load(f)\n",
    "db.users.insert_many(file_data)\n"
   ]
  },
  {
   "cell_type": "code",
   "execution_count": 5,
   "id": "87f94dd6",
   "metadata": {},
   "outputs": [
    {
     "name": "stdout",
     "output_type": "stream",
     "text": [
      "{'_id': 18, 'age_avg': 25.101382488479263, 'num_people': 868}\n",
      "{'_id': 30, 'age_avg': 34.51758241758242, 'num_people': 910}\n",
      "{'_id': 40, 'age_avg': 44.42265795206972, 'num_people': 918}\n",
      "{'_id': 50, 'age_avg': 54.533811475409834, 'num_people': 976}\n",
      "{'_id': 60, 'age_avg': 66.55798192771084, 'num_people': 1328}\n"
     ]
    }
   ],
   "source": [
    "for x in db.users.aggregate(\n",
    "    [\n",
    "        {\n",
    "            \"$bucket\": {\n",
    "                \"groupBy\": \"$dob.age\",\n",
    "                \"boundaries\": [18, 30, 40, 50, 60, 80],\n",
    "                \"output\": {\n",
    "                    \"num_people\": {\"$sum\": 1},\n",
    "                    \"age_avg\": {\"$avg\": \"$dob.age\"},\n",
    "                },\n",
    "            }\n",
    "        },\n",
    "        {\"$limit\": 5},\n",
    "    ]\n",
    "):\n",
    "    pprint(x)\n"
   ]
  },
  {
   "cell_type": "code",
   "execution_count": 6,
   "id": "29106e1c",
   "metadata": {},
   "outputs": [
    {
     "name": "stdout",
     "output_type": "stream",
     "text": [
      "{'_id': {'max': 32, 'min': 21},\n",
      " 'age_avg': 25.99616122840691,\n",
      " 'num_people': 1042}\n",
      "{'_id': {'max': 43, 'min': 32},\n",
      " 'age_avg': 36.97722772277228,\n",
      " 'num_people': 1010}\n",
      "{'_id': {'max': 54, 'min': 43},\n",
      " 'age_avg': 47.98838334946757,\n",
      " 'num_people': 1033}\n",
      "{'_id': {'max': 65, 'min': 54},\n",
      " 'age_avg': 58.99342105263158,\n",
      " 'num_people': 1064}\n",
      "{'_id': {'max': 74, 'min': 65}, 'age_avg': 69.11515863689776, 'num_people': 851}\n"
     ]
    }
   ],
   "source": [
    "for x in db.users.aggregate(\n",
    "    [\n",
    "        {\n",
    "            \"$bucketAuto\": {\n",
    "                \"groupBy\": \"$dob.age\",\n",
    "                \"buckets\": 5,\n",
    "                \"output\": {\n",
    "                    \"num_people\": {\"$sum\": 1},\n",
    "                    \"age_avg\": {\"$avg\": \"$dob.age\"},\n",
    "                },\n",
    "            }\n",
    "        },\n",
    "        {\"$limit\": 5},\n",
    "    ]\n",
    "):\n",
    "    pprint(x)\n"
   ]
  },
  {
   "cell_type": "code",
   "execution_count": 7,
   "id": "dc0434ef",
   "metadata": {},
   "outputs": [],
   "source": [
    "client.close()\n"
   ]
  }
 ],
 "metadata": {
  "kernelspec": {
   "display_name": "Python 3 (ipykernel)",
   "language": "python",
   "name": "python3"
  },
  "language_info": {
   "codemirror_mode": {
    "name": "ipython",
    "version": 3
   },
   "file_extension": ".py",
   "mimetype": "text/x-python",
   "name": "python",
   "nbconvert_exporter": "python",
   "pygments_lexer": "ipython3",
   "version": "3.10.6"
  }
 },
 "nbformat": 4,
 "nbformat_minor": 5
}
