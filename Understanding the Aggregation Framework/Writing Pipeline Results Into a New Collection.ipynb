{
 "cells": [
  {
   "cell_type": "code",
   "execution_count": 4,
   "id": "04ca7f03",
   "metadata": {},
   "outputs": [
    {
     "data": {
      "text/plain": [
       "<pymongo.results.InsertManyResult at 0x7f01bc253fd0>"
      ]
     },
     "execution_count": 4,
     "metadata": {},
     "output_type": "execute_result"
    }
   ],
   "source": [
    "from pymongo import MongoClient\n",
    "from pprint import pprint\n",
    "import json\n",
    "\n",
    "client = MongoClient(\"localhost\", 27017)\n",
    "client.drop_database(\"userData\")\n",
    "\n",
    "db = client.userData\n",
    "with open(\"people.json\") as f:\n",
    "    file_data = json.load(f)\n",
    "db.users.insert_many(file_data)\n"
   ]
  },
  {
   "cell_type": "code",
   "execution_count": 5,
   "id": "87f94dd6",
   "metadata": {},
   "outputs": [],
   "source": [
    "for x in db.users.aggregate(\n",
    "    [\n",
    "        {\n",
    "            \"$project\": {\n",
    "                \"_id\": 0,\n",
    "                \"location\": {\n",
    "                    \"type\": \"Point\",\n",
    "                    \"coordinates\": [\n",
    "                        {\n",
    "                            \"$convert\": {\n",
    "                                \"input\": \"$location.coordinates.longitude\",\n",
    "                                \"to\": \"double\",\n",
    "                                \"onError\": 0.0,\n",
    "                                \"onNull\": 0.0,\n",
    "                            }\n",
    "                        },\n",
    "                        {\n",
    "                            \"$convert\": {\n",
    "                                \"input\": \"$location.coordinates.latitude\",\n",
    "                                \"to\": \"double\",\n",
    "                                \"onError\": 0.0,\n",
    "                                \"onNull\": 0.0,\n",
    "                            }\n",
    "                        },\n",
    "                    ],\n",
    "                },\n",
    "            }\n",
    "        },\n",
    "        {\"$out\": \"transformedLocations\"},\n",
    "    ]\n",
    "):\n",
    "    pprint(x)\n"
   ]
  },
  {
   "cell_type": "code",
   "execution_count": 6,
   "id": "a6adc96b",
   "metadata": {},
   "outputs": [
    {
     "data": {
      "text/plain": [
       "{'_id': ObjectId('64570c7db842f828816f52e3'),\n",
       " 'location': {'type': 'Point', 'coordinates': [-31.0208, -29.8113]}}"
      ]
     },
     "execution_count": 6,
     "metadata": {},
     "output_type": "execute_result"
    }
   ],
   "source": [
    "db.transformedLocations.find_one()\n"
   ]
  },
  {
   "cell_type": "code",
   "execution_count": 7,
   "id": "dc0434ef",
   "metadata": {},
   "outputs": [],
   "source": [
    "client.close()\n"
   ]
  }
 ],
 "metadata": {
  "kernelspec": {
   "display_name": "Python 3 (ipykernel)",
   "language": "python",
   "name": "python3"
  },
  "language_info": {
   "codemirror_mode": {
    "name": "ipython",
    "version": 3
   },
   "file_extension": ".py",
   "mimetype": "text/x-python",
   "name": "python",
   "nbconvert_exporter": "python",
   "pygments_lexer": "ipython3",
   "version": "3.10.6"
  }
 },
 "nbformat": 4,
 "nbformat_minor": 5
}
