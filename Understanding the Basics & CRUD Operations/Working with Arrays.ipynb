{
 "cells": [
  {
   "cell_type": "code",
   "execution_count": 21,
   "id": "04ca7f03",
   "metadata": {},
   "outputs": [
    {
     "data": {
      "text/plain": [
       "['admin', 'config', 'local', 'shop']"
      ]
     },
     "execution_count": 21,
     "metadata": {},
     "output_type": "execute_result"
    }
   ],
   "source": [
    "from pymongo import MongoClient\n",
    "from pprint import pprint\n",
    "import json\n",
    "\n",
    "client = MongoClient(\"localhost\", 27017)\n",
    "client.drop_database(\"flights\")\n",
    "client.list_database_names()\n"
   ]
  },
  {
   "cell_type": "code",
   "execution_count": 22,
   "id": "0a1e598e",
   "metadata": {},
   "outputs": [
    {
     "data": {
      "text/plain": [
       "[]"
      ]
     },
     "execution_count": 22,
     "metadata": {},
     "output_type": "execute_result"
    }
   ],
   "source": [
    "db = client.flights\n",
    "db.list_collection_names()\n"
   ]
  },
  {
   "cell_type": "code",
   "execution_count": 23,
   "id": "88b58f8b",
   "metadata": {},
   "outputs": [
    {
     "data": {
      "text/plain": [
       "[ObjectId('644ef31a812ad57cdea9716a'),\n",
       " ObjectId('644ef31a812ad57cdea9716b'),\n",
       " ObjectId('644ef31a812ad57cdea9716c'),\n",
       " ObjectId('644ef31a812ad57cdea9716d'),\n",
       " ObjectId('644ef31a812ad57cdea9716e'),\n",
       " ObjectId('644ef31a812ad57cdea9716f'),\n",
       " ObjectId('644ef31a812ad57cdea97170'),\n",
       " ObjectId('644ef31a812ad57cdea97171'),\n",
       " ObjectId('644ef31a812ad57cdea97172'),\n",
       " ObjectId('644ef31a812ad57cdea97173'),\n",
       " ObjectId('644ef31a812ad57cdea97174'),\n",
       " ObjectId('644ef31a812ad57cdea97175'),\n",
       " ObjectId('644ef31a812ad57cdea97176'),\n",
       " ObjectId('644ef31a812ad57cdea97177'),\n",
       " ObjectId('644ef31a812ad57cdea97178'),\n",
       " ObjectId('644ef31a812ad57cdea97179'),\n",
       " ObjectId('644ef31a812ad57cdea9717a'),\n",
       " ObjectId('644ef31a812ad57cdea9717b'),\n",
       " ObjectId('644ef31a812ad57cdea9717c'),\n",
       " ObjectId('644ef31a812ad57cdea9717d'),\n",
       " ObjectId('644ef31a812ad57cdea9717e')]"
      ]
     },
     "execution_count": 23,
     "metadata": {},
     "output_type": "execute_result"
    }
   ],
   "source": [
    "with open(\"passengers.json\") as f:\n",
    "    file_data = json.load(f)\n",
    "db.passengers.insert_many(file_data).inserted_ids\n"
   ]
  },
  {
   "cell_type": "code",
   "execution_count": 24,
   "id": "cb9de80a",
   "metadata": {},
   "outputs": [
    {
     "name": "stdout",
     "output_type": "stream",
     "text": [
      "{'_id': ObjectId('644ef31a812ad57cdea9716a'),\n",
      " 'age': 29,\n",
      " 'name': 'Max Schwarzmueller'}\n",
      "{'_id': ObjectId('644ef31a812ad57cdea9716b'), 'age': 30, 'name': 'Manu Lorenz'}\n",
      "{'_id': ObjectId('644ef31a812ad57cdea9716c'), 'age': 35, 'name': 'Chris Hayton'}\n",
      "{'_id': ObjectId('644ef31a812ad57cdea9716d'),\n",
      " 'age': 28,\n",
      " 'name': 'Sandeep Kumar'}\n",
      "{'_id': ObjectId('644ef31a812ad57cdea9716e'), 'age': 30, 'name': 'Maria Jones'}\n",
      "{'_id': ObjectId('644ef31a812ad57cdea9716f'),\n",
      " 'age': 27,\n",
      " 'name': 'Alexandra Maier'}\n",
      "{'_id': ObjectId('644ef31a812ad57cdea97170'),\n",
      " 'age': 47,\n",
      " 'name': 'Dr. Phil Evans'}\n",
      "{'_id': ObjectId('644ef31a812ad57cdea97171'),\n",
      " 'age': 33,\n",
      " 'name': 'Sandra Brugge'}\n",
      "{'_id': ObjectId('644ef31a812ad57cdea97172'),\n",
      " 'age': 29,\n",
      " 'name': 'Elisabeth Mayr'}\n",
      "{'_id': ObjectId('644ef31a812ad57cdea97173'), 'age': 41, 'name': 'Frank Cube'}\n",
      "{'_id': ObjectId('644ef31a812ad57cdea97174'),\n",
      " 'age': 48,\n",
      " 'name': 'Karandeep Alun'}\n",
      "{'_id': ObjectId('644ef31a812ad57cdea97175'),\n",
      " 'age': 39,\n",
      " 'name': 'Michaela Drayer'}\n",
      "{'_id': ObjectId('644ef31a812ad57cdea97176'),\n",
      " 'age': 22,\n",
      " 'name': 'Bernd Hoftstadt'}\n",
      "{'_id': ObjectId('644ef31a812ad57cdea97177'), 'age': 44, 'name': 'Scott Tolib'}\n",
      "{'_id': ObjectId('644ef31a812ad57cdea97178'),\n",
      " 'age': 41,\n",
      " 'name': 'Freddy Melver'}\n",
      "{'_id': ObjectId('644ef31a812ad57cdea97179'), 'age': 35, 'name': 'Alexis Bohed'}\n",
      "{'_id': ObjectId('644ef31a812ad57cdea9717a'),\n",
      " 'age': 27,\n",
      " 'name': 'Melanie Palace'}\n",
      "{'_id': ObjectId('644ef31a812ad57cdea9717b'), 'age': 35, 'name': 'Armin Glutch'}\n",
      "{'_id': ObjectId('644ef31a812ad57cdea9717c'), 'age': 53, 'name': 'Klaus Arber'}\n",
      "{'_id': ObjectId('644ef31a812ad57cdea9717d'),\n",
      " 'age': 68,\n",
      " 'name': 'Albert Twostone'}\n",
      "{'_id': ObjectId('644ef31a812ad57cdea9717e'), 'age': 38, 'name': 'Gordon Black'}\n"
     ]
    }
   ],
   "source": [
    "for x in db.passengers.find():\n",
    "    pprint(x)\n"
   ]
  },
  {
   "cell_type": "code",
   "execution_count": 25,
   "id": "596a23f2",
   "metadata": {},
   "outputs": [
    {
     "data": {
      "text/plain": [
       "{'_id': ObjectId('644ef31a812ad57cdea9717e'),\n",
       " 'name': 'Gordon Black',\n",
       " 'age': 38}"
      ]
     },
     "execution_count": 25,
     "metadata": {},
     "output_type": "execute_result"
    }
   ],
   "source": [
    "db.passengers.find_one({\"name\": \"Gordon Black\"})\n"
   ]
  },
  {
   "cell_type": "code",
   "execution_count": 26,
   "id": "9f792009",
   "metadata": {},
   "outputs": [
    {
     "data": {
      "text/plain": [
       "1"
      ]
     },
     "execution_count": 26,
     "metadata": {},
     "output_type": "execute_result"
    }
   ],
   "source": [
    "db.passengers.update_one(\n",
    "    {\"name\": \"Gordon Black\"}, {\"$set\": {\"hobbies\": [\"sports\", \"cooking\"]}}\n",
    ").modified_count\n"
   ]
  },
  {
   "cell_type": "code",
   "execution_count": 27,
   "id": "a21b18e8",
   "metadata": {},
   "outputs": [
    {
     "data": {
      "text/plain": [
       "{'_id': ObjectId('644ef31a812ad57cdea9717e'),\n",
       " 'name': 'Gordon Black',\n",
       " 'age': 38,\n",
       " 'hobbies': ['sports', 'cooking']}"
      ]
     },
     "execution_count": 27,
     "metadata": {},
     "output_type": "execute_result"
    }
   ],
   "source": [
    "db.passengers.find_one({\"name\": \"Gordon Black\"})\n"
   ]
  },
  {
   "cell_type": "code",
   "execution_count": 28,
   "id": "dc0434ef",
   "metadata": {},
   "outputs": [],
   "source": [
    "client.close()\n"
   ]
  }
 ],
 "metadata": {
  "kernelspec": {
   "display_name": "Python 3 (ipykernel)",
   "language": "python",
   "name": "python3"
  },
  "language_info": {
   "codemirror_mode": {
    "name": "ipython",
    "version": 3
   },
   "file_extension": ".py",
   "mimetype": "text/x-python",
   "name": "python",
   "nbconvert_exporter": "python",
   "pygments_lexer": "ipython3",
   "version": "3.10.6"
  }
 },
 "nbformat": 4,
 "nbformat_minor": 5
}
