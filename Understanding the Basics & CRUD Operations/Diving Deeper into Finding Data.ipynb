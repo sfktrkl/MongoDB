{
 "cells": [
  {
   "cell_type": "code",
   "execution_count": 1,
   "id": "04ca7f03",
   "metadata": {},
   "outputs": [
    {
     "data": {
      "text/plain": [
       "['admin', 'config', 'local', 'shop']"
      ]
     },
     "execution_count": 1,
     "metadata": {},
     "output_type": "execute_result"
    }
   ],
   "source": [
    "from pymongo import MongoClient\n",
    "from pprint import pprint\n",
    "\n",
    "client = MongoClient(\"localhost\", 27017)\n",
    "client.drop_database(\"flights\")\n",
    "client.list_database_names()\n"
   ]
  },
  {
   "cell_type": "code",
   "execution_count": 2,
   "id": "0a1e598e",
   "metadata": {},
   "outputs": [
    {
     "data": {
      "text/plain": [
       "[]"
      ]
     },
     "execution_count": 2,
     "metadata": {},
     "output_type": "execute_result"
    }
   ],
   "source": [
    "db = client.flights\n",
    "db.list_collection_names()\n"
   ]
  },
  {
   "cell_type": "code",
   "execution_count": 3,
   "id": "88b58f8b",
   "metadata": {},
   "outputs": [],
   "source": [
    "for x in db.flight_data.find():\n",
    "    pprint(x)\n"
   ]
  },
  {
   "cell_type": "code",
   "execution_count": 4,
   "id": "a0b1e309",
   "metadata": {},
   "outputs": [
    {
     "data": {
      "text/plain": [
       "[ObjectId('644eebf7b85074f2ef78c672'), ObjectId('644eebf7b85074f2ef78c673')]"
      ]
     },
     "execution_count": 4,
     "metadata": {},
     "output_type": "execute_result"
    }
   ],
   "source": [
    "db.flight_data.insert_many(\n",
    "    [\n",
    "        {\n",
    "            \"departureAirport\": \"MUC\",\n",
    "            \"arrivalAirport\": \"SFO\",\n",
    "            \"aircraft\": \"Airbus A380\",\n",
    "            \"distance\": 12000,\n",
    "            \"intercontinental\": True,\n",
    "        },\n",
    "        {\n",
    "            \"departureAirport\": \"LHR\",\n",
    "            \"arrivalAirport\": \"TXL\",\n",
    "            \"aircraft\": \"Airbus A320\",\n",
    "            \"distance\": 950,\n",
    "            \"intercontinental\": False,\n",
    "        },\n",
    "    ]\n",
    ").inserted_ids\n"
   ]
  },
  {
   "cell_type": "code",
   "execution_count": 5,
   "id": "1eda9f3d",
   "metadata": {},
   "outputs": [
    {
     "name": "stdout",
     "output_type": "stream",
     "text": [
      "{'_id': ObjectId('644eebf7b85074f2ef78c672'),\n",
      " 'aircraft': 'Airbus A380',\n",
      " 'arrivalAirport': 'SFO',\n",
      " 'departureAirport': 'MUC',\n",
      " 'distance': 12000,\n",
      " 'intercontinental': True}\n",
      "{'_id': ObjectId('644eebf7b85074f2ef78c673'),\n",
      " 'aircraft': 'Airbus A320',\n",
      " 'arrivalAirport': 'TXL',\n",
      " 'departureAirport': 'LHR',\n",
      " 'distance': 950,\n",
      " 'intercontinental': False}\n"
     ]
    }
   ],
   "source": [
    "for x in db.flight_data.find():\n",
    "    pprint(x)\n"
   ]
  },
  {
   "cell_type": "code",
   "execution_count": 6,
   "id": "84473b58",
   "metadata": {},
   "outputs": [
    {
     "name": "stdout",
     "output_type": "stream",
     "text": [
      "{'_id': ObjectId('644eebf7b85074f2ef78c673'),\n",
      " 'aircraft': 'Airbus A320',\n",
      " 'arrivalAirport': 'TXL',\n",
      " 'departureAirport': 'LHR',\n",
      " 'distance': 950,\n",
      " 'intercontinental': False}\n"
     ]
    }
   ],
   "source": [
    "for x in db.flight_data.find({\"intercontinental\": False}):\n",
    "    pprint(x)\n"
   ]
  },
  {
   "cell_type": "code",
   "execution_count": 7,
   "id": "caaeeb29",
   "metadata": {},
   "outputs": [
    {
     "name": "stdout",
     "output_type": "stream",
     "text": [
      "{'_id': ObjectId('644eebf7b85074f2ef78c672'),\n",
      " 'aircraft': 'Airbus A380',\n",
      " 'arrivalAirport': 'SFO',\n",
      " 'departureAirport': 'MUC',\n",
      " 'distance': 12000,\n",
      " 'intercontinental': True}\n"
     ]
    }
   ],
   "source": [
    "for x in db.flight_data.find({\"distance\": 12000}):\n",
    "    pprint(x)\n"
   ]
  },
  {
   "cell_type": "code",
   "execution_count": 8,
   "id": "941672fb",
   "metadata": {},
   "outputs": [
    {
     "name": "stdout",
     "output_type": "stream",
     "text": [
      "{'_id': ObjectId('644eebf7b85074f2ef78c672'),\n",
      " 'aircraft': 'Airbus A380',\n",
      " 'arrivalAirport': 'SFO',\n",
      " 'departureAirport': 'MUC',\n",
      " 'distance': 12000,\n",
      " 'intercontinental': True}\n",
      "{'_id': ObjectId('644eebf7b85074f2ef78c673'),\n",
      " 'aircraft': 'Airbus A320',\n",
      " 'arrivalAirport': 'TXL',\n",
      " 'departureAirport': 'LHR',\n",
      " 'distance': 950,\n",
      " 'intercontinental': False}\n"
     ]
    }
   ],
   "source": [
    "# Greater than\n",
    "for x in db.flight_data.find({\"distance\": {\"$gt\": 900}}):\n",
    "    pprint(x)\n"
   ]
  },
  {
   "cell_type": "code",
   "execution_count": 9,
   "id": "17c7a201",
   "metadata": {},
   "outputs": [
    {
     "data": {
      "text/plain": [
       "{'_id': ObjectId('644eebf7b85074f2ef78c672'),\n",
       " 'departureAirport': 'MUC',\n",
       " 'arrivalAirport': 'SFO',\n",
       " 'aircraft': 'Airbus A380',\n",
       " 'distance': 12000,\n",
       " 'intercontinental': True}"
      ]
     },
     "execution_count": 9,
     "metadata": {},
     "output_type": "execute_result"
    }
   ],
   "source": [
    "db.flight_data.find_one({\"distance\": {\"$gt\": 900}})\n"
   ]
  },
  {
   "cell_type": "code",
   "execution_count": 10,
   "id": "cfa4872e",
   "metadata": {},
   "outputs": [],
   "source": [
    "client.close()\n"
   ]
  }
 ],
 "metadata": {
  "kernelspec": {
   "display_name": "Python 3 (ipykernel)",
   "language": "python",
   "name": "python3"
  },
  "language_info": {
   "codemirror_mode": {
    "name": "ipython",
    "version": 3
   },
   "file_extension": ".py",
   "mimetype": "text/x-python",
   "name": "python",
   "nbconvert_exporter": "python",
   "pygments_lexer": "ipython3",
   "version": "3.10.6"
  }
 },
 "nbformat": 4,
 "nbformat_minor": 5
}
