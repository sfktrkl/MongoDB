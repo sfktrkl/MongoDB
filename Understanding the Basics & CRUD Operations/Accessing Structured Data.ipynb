{
 "cells": [
  {
   "cell_type": "code",
   "execution_count": 89,
   "id": "04ca7f03",
   "metadata": {},
   "outputs": [
    {
     "data": {
      "text/plain": [
       "['admin', 'config', 'local', 'shop']"
      ]
     },
     "execution_count": 89,
     "metadata": {},
     "output_type": "execute_result"
    }
   ],
   "source": [
    "from pymongo import MongoClient\n",
    "from pprint import pprint\n",
    "import json\n",
    "\n",
    "client = MongoClient(\"localhost\", 27017)\n",
    "client.drop_database(\"flights\")\n",
    "client.list_database_names()\n"
   ]
  },
  {
   "cell_type": "code",
   "execution_count": 90,
   "id": "0a1e598e",
   "metadata": {},
   "outputs": [
    {
     "data": {
      "text/plain": [
       "[]"
      ]
     },
     "execution_count": 90,
     "metadata": {},
     "output_type": "execute_result"
    }
   ],
   "source": [
    "db = client.flights\n",
    "db.list_collection_names()\n"
   ]
  },
  {
   "cell_type": "code",
   "execution_count": 91,
   "id": "88b58f8b",
   "metadata": {},
   "outputs": [],
   "source": [
    "with open(\"passengers.json\") as f:\n",
    "    file_data = json.load(f)\n",
    "result = db.passengers.insert_many(file_data)\n",
    "result = db.flight_data.insert_many(\n",
    "    [\n",
    "        {\n",
    "            \"departureAirport\": \"MUC\",\n",
    "            \"arrivalAirport\": \"SFO\",\n",
    "            \"aircraft\": \"Airbus A380\",\n",
    "            \"distance\": 12000,\n",
    "            \"intercontinental\": True,\n",
    "        },\n",
    "        {\n",
    "            \"departureAirport\": \"LHR\",\n",
    "            \"arrivalAirport\": \"TXL\",\n",
    "            \"aircraft\": \"Airbus A320\",\n",
    "            \"distance\": 950,\n",
    "            \"intercontinental\": False,\n",
    "        },\n",
    "    ]\n",
    ")\n"
   ]
  },
  {
   "cell_type": "code",
   "execution_count": 92,
   "id": "9f792009",
   "metadata": {},
   "outputs": [
    {
     "data": {
      "text/plain": [
       "['sports', 'cooking']"
      ]
     },
     "execution_count": 92,
     "metadata": {},
     "output_type": "execute_result"
    }
   ],
   "source": [
    "result = db.passengers.update_one(\n",
    "    {\"name\": \"Gordon Black\"}, {\"$set\": {\"hobbies\": [\"sports\", \"cooking\"]}}\n",
    ").modified_count\n",
    "db.passengers.find_one({\"name\": \"Gordon Black\"})[\"hobbies\"]\n",
    "\n"
   ]
  },
  {
   "cell_type": "code",
   "execution_count": 93,
   "id": "3447e258",
   "metadata": {},
   "outputs": [
    {
     "data": {
      "text/plain": [
       "{'_id': ObjectId('644ef50ac76a1635d3576d95'),\n",
       " 'departureAirport': 'MUC',\n",
       " 'arrivalAirport': 'SFO',\n",
       " 'aircraft': 'Airbus A380',\n",
       " 'distance': 12000,\n",
       " 'intercontinental': True,\n",
       " 'status': {'description': 'on-time',\n",
       "  'last-updated': '1 hour ago',\n",
       "  'details': {'responsible': 'Max Schwarzmueller'}}}"
      ]
     },
     "execution_count": 93,
     "metadata": {},
     "output_type": "execute_result"
    }
   ],
   "source": [
    "result = db.flight_data.update_many(\n",
    "    {},\n",
    "    {\n",
    "        \"$set\": {\n",
    "            \"status\": {\n",
    "                \"description\": \"on-time\",\n",
    "                \"last-updated\": \"1 hour ago\",\n",
    "                \"details\": {\"responsible\": \"Max Schwarzmueller\"},\n",
    "            }\n",
    "        }\n",
    "    },\n",
    ").modified_count\n",
    "db.flight_data.find_one({\"status.description\": \"on-time\"})"
   ]
  },
  {
   "cell_type": "code",
   "execution_count": 94,
   "id": "84083af5",
   "metadata": {},
   "outputs": [
    {
     "data": {
      "text/plain": [
       "{'_id': ObjectId('644ef50ac76a1635d3576d95'),\n",
       " 'departureAirport': 'MUC',\n",
       " 'arrivalAirport': 'SFO',\n",
       " 'aircraft': 'Airbus A380',\n",
       " 'distance': 12000,\n",
       " 'intercontinental': True,\n",
       " 'status': {'description': 'on-time',\n",
       "  'last-updated': '1 hour ago',\n",
       "  'details': {'responsible': 'Max Schwarzmueller'}}}"
      ]
     },
     "execution_count": 94,
     "metadata": {},
     "output_type": "execute_result"
    }
   ],
   "source": [
    "db.flight_data.find_one({\"status.details.responsible\": \"Max Schwarzmueller\"})\n"
   ]
  },
  {
   "cell_type": "code",
   "execution_count": 95,
   "id": "dc0434ef",
   "metadata": {},
   "outputs": [],
   "source": [
    "client.close()\n"
   ]
  }
 ],
 "metadata": {
  "kernelspec": {
   "display_name": "Python 3 (ipykernel)",
   "language": "python",
   "name": "python3"
  },
  "language_info": {
   "codemirror_mode": {
    "name": "ipython",
    "version": 3
   },
   "file_extension": ".py",
   "mimetype": "text/x-python",
   "name": "python",
   "nbconvert_exporter": "python",
   "pygments_lexer": "ipython3",
   "version": "3.10.6"
  }
 },
 "nbformat": 4,
 "nbformat_minor": 5
}
