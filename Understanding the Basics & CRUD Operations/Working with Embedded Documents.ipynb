{
 "cells": [
  {
   "cell_type": "code",
   "execution_count": 8,
   "id": "04ca7f03",
   "metadata": {},
   "outputs": [
    {
     "data": {
      "text/plain": [
       "['admin', 'config', 'local', 'shop']"
      ]
     },
     "execution_count": 8,
     "metadata": {},
     "output_type": "execute_result"
    }
   ],
   "source": [
    "from pymongo import MongoClient\n",
    "from pprint import pprint\n",
    "\n",
    "client = MongoClient(\"localhost\", 27017)\n",
    "client.drop_database(\"flights\")\n",
    "client.list_database_names()\n"
   ]
  },
  {
   "cell_type": "code",
   "execution_count": 9,
   "id": "0a1e598e",
   "metadata": {},
   "outputs": [
    {
     "data": {
      "text/plain": [
       "[]"
      ]
     },
     "execution_count": 9,
     "metadata": {},
     "output_type": "execute_result"
    }
   ],
   "source": [
    "db = client.flights\n",
    "db.list_collection_names()\n"
   ]
  },
  {
   "cell_type": "code",
   "execution_count": 10,
   "id": "a0b1e309",
   "metadata": {},
   "outputs": [
    {
     "data": {
      "text/plain": [
       "<pymongo.results.InsertManyResult at 0x7f55b5b63a60>"
      ]
     },
     "execution_count": 10,
     "metadata": {},
     "output_type": "execute_result"
    }
   ],
   "source": [
    "db.flight_data.insert_many(\n",
    "    [\n",
    "        {\n",
    "            \"departureAirport\": \"MUC\",\n",
    "            \"arrivalAirport\": \"SFO\",\n",
    "            \"aircraft\": \"Airbus A380\",\n",
    "            \"distance\": 12000,\n",
    "            \"intercontinental\": True,\n",
    "        },\n",
    "        {\n",
    "            \"departureAirport\": \"LHR\",\n",
    "            \"arrivalAirport\": \"TXL\",\n",
    "            \"aircraft\": \"Airbus A320\",\n",
    "            \"distance\": 950,\n",
    "            \"intercontinental\": False,\n",
    "        },\n",
    "    ]\n",
    ")\n"
   ]
  },
  {
   "cell_type": "code",
   "execution_count": 11,
   "id": "1eda9f3d",
   "metadata": {},
   "outputs": [
    {
     "name": "stdout",
     "output_type": "stream",
     "text": [
      "{'_id': ObjectId('644ef23f9469f5f39ffd260c'),\n",
      " 'aircraft': 'Airbus A380',\n",
      " 'arrivalAirport': 'SFO',\n",
      " 'departureAirport': 'MUC',\n",
      " 'distance': 12000,\n",
      " 'intercontinental': True}\n",
      "{'_id': ObjectId('644ef23f9469f5f39ffd260d'),\n",
      " 'aircraft': 'Airbus A320',\n",
      " 'arrivalAirport': 'TXL',\n",
      " 'departureAirport': 'LHR',\n",
      " 'distance': 950,\n",
      " 'intercontinental': False}\n"
     ]
    }
   ],
   "source": [
    "for x in db.flight_data.find():\n",
    "    pprint(x)\n"
   ]
  },
  {
   "cell_type": "code",
   "execution_count": 12,
   "id": "d39e0fa3",
   "metadata": {},
   "outputs": [
    {
     "data": {
      "text/plain": [
       "2"
      ]
     },
     "execution_count": 12,
     "metadata": {},
     "output_type": "execute_result"
    }
   ],
   "source": [
    "db.flight_data.update_many(\n",
    "    {}, {\"$set\": {\"status\": {\"description\": \"on-time\", \"last-updated\": \"1 hour ago\"}}}\n",
    ").modified_count\n"
   ]
  },
  {
   "cell_type": "code",
   "execution_count": 13,
   "id": "6f0274a9",
   "metadata": {},
   "outputs": [
    {
     "name": "stdout",
     "output_type": "stream",
     "text": [
      "{'_id': ObjectId('644ef23f9469f5f39ffd260c'),\n",
      " 'aircraft': 'Airbus A380',\n",
      " 'arrivalAirport': 'SFO',\n",
      " 'departureAirport': 'MUC',\n",
      " 'distance': 12000,\n",
      " 'intercontinental': True,\n",
      " 'status': {'description': 'on-time', 'last-updated': '1 hour ago'}}\n",
      "{'_id': ObjectId('644ef23f9469f5f39ffd260d'),\n",
      " 'aircraft': 'Airbus A320',\n",
      " 'arrivalAirport': 'TXL',\n",
      " 'departureAirport': 'LHR',\n",
      " 'distance': 950,\n",
      " 'intercontinental': False,\n",
      " 'status': {'description': 'on-time', 'last-updated': '1 hour ago'}}\n"
     ]
    }
   ],
   "source": [
    "for x in db.flight_data.find():\n",
    "    pprint(x)\n"
   ]
  },
  {
   "cell_type": "code",
   "execution_count": 14,
   "id": "82b12ee6",
   "metadata": {},
   "outputs": [
    {
     "data": {
      "text/plain": [
       "2"
      ]
     },
     "execution_count": 14,
     "metadata": {},
     "output_type": "execute_result"
    }
   ],
   "source": [
    "db.flight_data.update_many(\n",
    "    {},\n",
    "    {\n",
    "        \"$set\": {\n",
    "            \"status\": {\n",
    "                \"description\": \"on-time\",\n",
    "                \"last-updated\": \"1 hour ago\",\n",
    "                \"details\": {\"responsible\": \"Max Schwarzmueller\"},\n",
    "            }\n",
    "        }\n",
    "    },\n",
    ").modified_count\n"
   ]
  },
  {
   "cell_type": "code",
   "execution_count": 15,
   "id": "c36320e6",
   "metadata": {},
   "outputs": [
    {
     "name": "stdout",
     "output_type": "stream",
     "text": [
      "{'_id': ObjectId('644ef23f9469f5f39ffd260c'),\n",
      " 'aircraft': 'Airbus A380',\n",
      " 'arrivalAirport': 'SFO',\n",
      " 'departureAirport': 'MUC',\n",
      " 'distance': 12000,\n",
      " 'intercontinental': True,\n",
      " 'status': {'description': 'on-time',\n",
      "            'details': {'responsible': 'Max Schwarzmueller'},\n",
      "            'last-updated': '1 hour ago'}}\n",
      "{'_id': ObjectId('644ef23f9469f5f39ffd260d'),\n",
      " 'aircraft': 'Airbus A320',\n",
      " 'arrivalAirport': 'TXL',\n",
      " 'departureAirport': 'LHR',\n",
      " 'distance': 950,\n",
      " 'intercontinental': False,\n",
      " 'status': {'description': 'on-time',\n",
      "            'details': {'responsible': 'Max Schwarzmueller'},\n",
      "            'last-updated': '1 hour ago'}}\n"
     ]
    }
   ],
   "source": [
    "for x in db.flight_data.find():\n",
    "    pprint(x)\n"
   ]
  },
  {
   "cell_type": "code",
   "execution_count": 16,
   "id": "531eabd2",
   "metadata": {},
   "outputs": [],
   "source": [
    "client.close()\n"
   ]
  }
 ],
 "metadata": {
  "kernelspec": {
   "display_name": "Python 3 (ipykernel)",
   "language": "python",
   "name": "python3"
  },
  "language_info": {
   "codemirror_mode": {
    "name": "ipython",
    "version": 3
   },
   "file_extension": ".py",
   "mimetype": "text/x-python",
   "name": "python",
   "nbconvert_exporter": "python",
   "pygments_lexer": "ipython3",
   "version": "3.10.6"
  }
 },
 "nbformat": 4,
 "nbformat_minor": 5
}
