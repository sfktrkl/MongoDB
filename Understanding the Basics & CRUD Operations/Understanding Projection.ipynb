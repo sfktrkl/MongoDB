{
 "cells": [
  {
   "cell_type": "code",
   "execution_count": 8,
   "id": "04ca7f03",
   "metadata": {},
   "outputs": [
    {
     "data": {
      "text/plain": [
       "['admin', 'config', 'local', 'shop']"
      ]
     },
     "execution_count": 8,
     "metadata": {},
     "output_type": "execute_result"
    }
   ],
   "source": [
    "from pymongo import MongoClient\n",
    "from pprint import pprint\n",
    "import json\n",
    "\n",
    "client = MongoClient(\"localhost\", 27017)\n",
    "client.drop_database(\"flights\")\n",
    "client.list_database_names()\n"
   ]
  },
  {
   "cell_type": "code",
   "execution_count": 9,
   "id": "0a1e598e",
   "metadata": {},
   "outputs": [
    {
     "data": {
      "text/plain": [
       "[]"
      ]
     },
     "execution_count": 9,
     "metadata": {},
     "output_type": "execute_result"
    }
   ],
   "source": [
    "db = client.flights\n",
    "db.list_collection_names()\n"
   ]
  },
  {
   "cell_type": "code",
   "execution_count": 10,
   "id": "88b58f8b",
   "metadata": {},
   "outputs": [
    {
     "data": {
      "text/plain": [
       "[ObjectId('644ef12e33fb38d161fc6840'),\n",
       " ObjectId('644ef12e33fb38d161fc6841'),\n",
       " ObjectId('644ef12e33fb38d161fc6842'),\n",
       " ObjectId('644ef12e33fb38d161fc6843'),\n",
       " ObjectId('644ef12e33fb38d161fc6844'),\n",
       " ObjectId('644ef12e33fb38d161fc6845'),\n",
       " ObjectId('644ef12e33fb38d161fc6846'),\n",
       " ObjectId('644ef12e33fb38d161fc6847'),\n",
       " ObjectId('644ef12e33fb38d161fc6848'),\n",
       " ObjectId('644ef12e33fb38d161fc6849'),\n",
       " ObjectId('644ef12e33fb38d161fc684a'),\n",
       " ObjectId('644ef12e33fb38d161fc684b'),\n",
       " ObjectId('644ef12e33fb38d161fc684c'),\n",
       " ObjectId('644ef12e33fb38d161fc684d'),\n",
       " ObjectId('644ef12e33fb38d161fc684e'),\n",
       " ObjectId('644ef12e33fb38d161fc684f'),\n",
       " ObjectId('644ef12e33fb38d161fc6850'),\n",
       " ObjectId('644ef12e33fb38d161fc6851'),\n",
       " ObjectId('644ef12e33fb38d161fc6852'),\n",
       " ObjectId('644ef12e33fb38d161fc6853'),\n",
       " ObjectId('644ef12e33fb38d161fc6854')]"
      ]
     },
     "execution_count": 10,
     "metadata": {},
     "output_type": "execute_result"
    }
   ],
   "source": [
    "with open(\"passengers.json\") as f:\n",
    "    file_data = json.load(f)\n",
    "db.passengers.insert_many(file_data).inserted_ids\n"
   ]
  },
  {
   "cell_type": "code",
   "execution_count": 11,
   "id": "596a23f2",
   "metadata": {},
   "outputs": [
    {
     "name": "stdout",
     "output_type": "stream",
     "text": [
      "{'_id': ObjectId('644ef12e33fb38d161fc6840'),\n",
      " 'age': 29,\n",
      " 'name': 'Max Schwarzmueller'}\n",
      "{'_id': ObjectId('644ef12e33fb38d161fc6841'), 'age': 30, 'name': 'Manu Lorenz'}\n",
      "{'_id': ObjectId('644ef12e33fb38d161fc6842'), 'age': 35, 'name': 'Chris Hayton'}\n",
      "{'_id': ObjectId('644ef12e33fb38d161fc6843'),\n",
      " 'age': 28,\n",
      " 'name': 'Sandeep Kumar'}\n",
      "{'_id': ObjectId('644ef12e33fb38d161fc6844'), 'age': 30, 'name': 'Maria Jones'}\n",
      "{'_id': ObjectId('644ef12e33fb38d161fc6845'),\n",
      " 'age': 27,\n",
      " 'name': 'Alexandra Maier'}\n",
      "{'_id': ObjectId('644ef12e33fb38d161fc6846'),\n",
      " 'age': 47,\n",
      " 'name': 'Dr. Phil Evans'}\n",
      "{'_id': ObjectId('644ef12e33fb38d161fc6847'),\n",
      " 'age': 33,\n",
      " 'name': 'Sandra Brugge'}\n",
      "{'_id': ObjectId('644ef12e33fb38d161fc6848'),\n",
      " 'age': 29,\n",
      " 'name': 'Elisabeth Mayr'}\n",
      "{'_id': ObjectId('644ef12e33fb38d161fc6849'), 'age': 41, 'name': 'Frank Cube'}\n",
      "{'_id': ObjectId('644ef12e33fb38d161fc684a'),\n",
      " 'age': 48,\n",
      " 'name': 'Karandeep Alun'}\n",
      "{'_id': ObjectId('644ef12e33fb38d161fc684b'),\n",
      " 'age': 39,\n",
      " 'name': 'Michaela Drayer'}\n",
      "{'_id': ObjectId('644ef12e33fb38d161fc684c'),\n",
      " 'age': 22,\n",
      " 'name': 'Bernd Hoftstadt'}\n",
      "{'_id': ObjectId('644ef12e33fb38d161fc684d'), 'age': 44, 'name': 'Scott Tolib'}\n",
      "{'_id': ObjectId('644ef12e33fb38d161fc684e'),\n",
      " 'age': 41,\n",
      " 'name': 'Freddy Melver'}\n",
      "{'_id': ObjectId('644ef12e33fb38d161fc684f'), 'age': 35, 'name': 'Alexis Bohed'}\n",
      "{'_id': ObjectId('644ef12e33fb38d161fc6850'),\n",
      " 'age': 27,\n",
      " 'name': 'Melanie Palace'}\n",
      "{'_id': ObjectId('644ef12e33fb38d161fc6851'), 'age': 35, 'name': 'Armin Glutch'}\n",
      "{'_id': ObjectId('644ef12e33fb38d161fc6852'), 'age': 53, 'name': 'Klaus Arber'}\n",
      "{'_id': ObjectId('644ef12e33fb38d161fc6853'),\n",
      " 'age': 68,\n",
      " 'name': 'Albert Twostone'}\n",
      "{'_id': ObjectId('644ef12e33fb38d161fc6854'), 'age': 38, 'name': 'Gordon Black'}\n"
     ]
    }
   ],
   "source": [
    "for x in db.passengers.find():\n",
    "    pprint(x)\n"
   ]
  },
  {
   "cell_type": "code",
   "execution_count": 12,
   "id": "104a584a",
   "metadata": {},
   "outputs": [
    {
     "name": "stdout",
     "output_type": "stream",
     "text": [
      "{'_id': ObjectId('644ef12e33fb38d161fc6840'), 'name': 'Max Schwarzmueller'}\n",
      "{'_id': ObjectId('644ef12e33fb38d161fc6841'), 'name': 'Manu Lorenz'}\n",
      "{'_id': ObjectId('644ef12e33fb38d161fc6842'), 'name': 'Chris Hayton'}\n",
      "{'_id': ObjectId('644ef12e33fb38d161fc6843'), 'name': 'Sandeep Kumar'}\n",
      "{'_id': ObjectId('644ef12e33fb38d161fc6844'), 'name': 'Maria Jones'}\n",
      "{'_id': ObjectId('644ef12e33fb38d161fc6845'), 'name': 'Alexandra Maier'}\n",
      "{'_id': ObjectId('644ef12e33fb38d161fc6846'), 'name': 'Dr. Phil Evans'}\n",
      "{'_id': ObjectId('644ef12e33fb38d161fc6847'), 'name': 'Sandra Brugge'}\n",
      "{'_id': ObjectId('644ef12e33fb38d161fc6848'), 'name': 'Elisabeth Mayr'}\n",
      "{'_id': ObjectId('644ef12e33fb38d161fc6849'), 'name': 'Frank Cube'}\n",
      "{'_id': ObjectId('644ef12e33fb38d161fc684a'), 'name': 'Karandeep Alun'}\n",
      "{'_id': ObjectId('644ef12e33fb38d161fc684b'), 'name': 'Michaela Drayer'}\n",
      "{'_id': ObjectId('644ef12e33fb38d161fc684c'), 'name': 'Bernd Hoftstadt'}\n",
      "{'_id': ObjectId('644ef12e33fb38d161fc684d'), 'name': 'Scott Tolib'}\n",
      "{'_id': ObjectId('644ef12e33fb38d161fc684e'), 'name': 'Freddy Melver'}\n",
      "{'_id': ObjectId('644ef12e33fb38d161fc684f'), 'name': 'Alexis Bohed'}\n",
      "{'_id': ObjectId('644ef12e33fb38d161fc6850'), 'name': 'Melanie Palace'}\n",
      "{'_id': ObjectId('644ef12e33fb38d161fc6851'), 'name': 'Armin Glutch'}\n",
      "{'_id': ObjectId('644ef12e33fb38d161fc6852'), 'name': 'Klaus Arber'}\n",
      "{'_id': ObjectId('644ef12e33fb38d161fc6853'), 'name': 'Albert Twostone'}\n",
      "{'_id': ObjectId('644ef12e33fb38d161fc6854'), 'name': 'Gordon Black'}\n"
     ]
    }
   ],
   "source": [
    "for x in db.passengers.find({}, {\"name\": 1}):\n",
    "    pprint(x)\n"
   ]
  },
  {
   "cell_type": "code",
   "execution_count": 13,
   "id": "e850a297",
   "metadata": {},
   "outputs": [
    {
     "name": "stdout",
     "output_type": "stream",
     "text": [
      "{'name': 'Max Schwarzmueller'}\n",
      "{'name': 'Manu Lorenz'}\n",
      "{'name': 'Chris Hayton'}\n",
      "{'name': 'Sandeep Kumar'}\n",
      "{'name': 'Maria Jones'}\n",
      "{'name': 'Alexandra Maier'}\n",
      "{'name': 'Dr. Phil Evans'}\n",
      "{'name': 'Sandra Brugge'}\n",
      "{'name': 'Elisabeth Mayr'}\n",
      "{'name': 'Frank Cube'}\n",
      "{'name': 'Karandeep Alun'}\n",
      "{'name': 'Michaela Drayer'}\n",
      "{'name': 'Bernd Hoftstadt'}\n",
      "{'name': 'Scott Tolib'}\n",
      "{'name': 'Freddy Melver'}\n",
      "{'name': 'Alexis Bohed'}\n",
      "{'name': 'Melanie Palace'}\n",
      "{'name': 'Armin Glutch'}\n",
      "{'name': 'Klaus Arber'}\n",
      "{'name': 'Albert Twostone'}\n",
      "{'name': 'Gordon Black'}\n"
     ]
    }
   ],
   "source": [
    "for x in db.passengers.find({}, {\"name\": 1, \"_id\": 0}):\n",
    "    pprint(x)\n"
   ]
  },
  {
   "cell_type": "code",
   "execution_count": 14,
   "id": "dc0434ef",
   "metadata": {},
   "outputs": [],
   "source": [
    "client.close()\n"
   ]
  }
 ],
 "metadata": {
  "kernelspec": {
   "display_name": "Python 3 (ipykernel)",
   "language": "python",
   "name": "python3"
  },
  "language_info": {
   "codemirror_mode": {
    "name": "ipython",
    "version": 3
   },
   "file_extension": ".py",
   "mimetype": "text/x-python",
   "name": "python",
   "nbconvert_exporter": "python",
   "pygments_lexer": "ipython3",
   "version": "3.10.6"
  }
 },
 "nbformat": 4,
 "nbformat_minor": 5
}
