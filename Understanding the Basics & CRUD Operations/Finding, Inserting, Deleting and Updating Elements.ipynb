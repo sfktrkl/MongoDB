{
 "cells": [
  {
   "cell_type": "code",
   "execution_count": 238,
   "id": "04ca7f03",
   "metadata": {},
   "outputs": [
    {
     "data": {
      "text/plain": [
       "['admin', 'config', 'local', 'shop']"
      ]
     },
     "execution_count": 238,
     "metadata": {},
     "output_type": "execute_result"
    }
   ],
   "source": [
    "from pymongo import MongoClient\n",
    "from pprint import pprint\n",
    "\n",
    "client = MongoClient(\"localhost\", 27017)\n",
    "client.drop_database(\"flights\")\n",
    "client.list_database_names()\n"
   ]
  },
  {
   "cell_type": "code",
   "execution_count": 239,
   "id": "0a1e598e",
   "metadata": {},
   "outputs": [
    {
     "data": {
      "text/plain": [
       "[]"
      ]
     },
     "execution_count": 239,
     "metadata": {},
     "output_type": "execute_result"
    }
   ],
   "source": [
    "db = client.flights\n",
    "db.list_collection_names()\n"
   ]
  },
  {
   "cell_type": "code",
   "execution_count": 240,
   "id": "88b58f8b",
   "metadata": {},
   "outputs": [
    {
     "data": {
      "text/plain": [
       "ObjectId('644eebd28b766e7c73c67093')"
      ]
     },
     "execution_count": 240,
     "metadata": {},
     "output_type": "execute_result"
    }
   ],
   "source": [
    "db.flight_data.insert_one(\n",
    "    {\n",
    "        \"departureAirport\": \"MUC\",\n",
    "        \"arrivalAirport\": \"SFO\",\n",
    "        \"aircraft\": \"Airbus A380\",\n",
    "        \"distance\": 12000,\n",
    "        \"intercontinental\": True,\n",
    "    }\n",
    ").inserted_id\n"
   ]
  },
  {
   "cell_type": "code",
   "execution_count": 241,
   "id": "b845a8c3",
   "metadata": {},
   "outputs": [
    {
     "data": {
      "text/plain": [
       "ObjectId('644eebd28b766e7c73c67094')"
      ]
     },
     "execution_count": 241,
     "metadata": {},
     "output_type": "execute_result"
    }
   ],
   "source": [
    "db.flight_data.insert_one(\n",
    "    {\n",
    "        \"departureAirport\": \"LHR\",\n",
    "        \"arrivalAirport\": \"TXL\",\n",
    "        \"aircraft\": \"Airbus A320\",\n",
    "        \"distance\": 950,\n",
    "        \"intercontinental\": False,\n",
    "    }\n",
    ").inserted_id\n"
   ]
  },
  {
   "cell_type": "code",
   "execution_count": 242,
   "id": "6c256fc7",
   "metadata": {},
   "outputs": [
    {
     "data": {
      "text/plain": [
       "'txl-lhr-1'"
      ]
     },
     "execution_count": 242,
     "metadata": {},
     "output_type": "execute_result"
    }
   ],
   "source": [
    "db.flight_data.insert_one(\n",
    "    {\"departureAirport\": \"LHR\", \"arrivalAirport\": \"TXL\", \"_id\": \"txl-lhr-1\"}\n",
    ").inserted_id\n"
   ]
  },
  {
   "cell_type": "code",
   "execution_count": 243,
   "id": "c28cc230",
   "metadata": {},
   "outputs": [
    {
     "name": "stdout",
     "output_type": "stream",
     "text": [
      "{'_id': ObjectId('644eebd28b766e7c73c67093'),\n",
      " 'aircraft': 'Airbus A380',\n",
      " 'arrivalAirport': 'SFO',\n",
      " 'departureAirport': 'MUC',\n",
      " 'distance': 12000,\n",
      " 'intercontinental': True}\n",
      "{'_id': ObjectId('644eebd28b766e7c73c67094'),\n",
      " 'aircraft': 'Airbus A320',\n",
      " 'arrivalAirport': 'TXL',\n",
      " 'departureAirport': 'LHR',\n",
      " 'distance': 950,\n",
      " 'intercontinental': False}\n",
      "{'_id': 'txl-lhr-1', 'arrivalAirport': 'TXL', 'departureAirport': 'LHR'}\n"
     ]
    }
   ],
   "source": [
    "for x in db.flight_data.find():\n",
    "    pprint(x)\n"
   ]
  },
  {
   "cell_type": "code",
   "execution_count": 244,
   "id": "5b83bb94",
   "metadata": {},
   "outputs": [
    {
     "data": {
      "text/plain": [
       "1"
      ]
     },
     "execution_count": 244,
     "metadata": {},
     "output_type": "execute_result"
    }
   ],
   "source": [
    "db.flight_data.delete_one({\"arrivalAirport\": \"TXL\"}).deleted_count\n"
   ]
  },
  {
   "cell_type": "code",
   "execution_count": 245,
   "id": "33126e7e",
   "metadata": {},
   "outputs": [
    {
     "name": "stdout",
     "output_type": "stream",
     "text": [
      "{'_id': ObjectId('644eebd28b766e7c73c67093'),\n",
      " 'aircraft': 'Airbus A380',\n",
      " 'arrivalAirport': 'SFO',\n",
      " 'departureAirport': 'MUC',\n",
      " 'distance': 12000,\n",
      " 'intercontinental': True}\n",
      "{'_id': 'txl-lhr-1', 'arrivalAirport': 'TXL', 'departureAirport': 'LHR'}\n"
     ]
    }
   ],
   "source": [
    "for x in db.flight_data.find():\n",
    "    pprint(x)\n"
   ]
  },
  {
   "cell_type": "code",
   "execution_count": 246,
   "id": "1828e59f",
   "metadata": {},
   "outputs": [
    {
     "data": {
      "text/plain": [
       "1"
      ]
     },
     "execution_count": 246,
     "metadata": {},
     "output_type": "execute_result"
    }
   ],
   "source": [
    "db.flight_data.update_one(\n",
    "    {\"distance\": 12000}, {\"$set\": {\"marker\": \"delete\"}}\n",
    ").modified_count\n"
   ]
  },
  {
   "cell_type": "code",
   "execution_count": 247,
   "id": "1bb2aa6c",
   "metadata": {},
   "outputs": [
    {
     "name": "stdout",
     "output_type": "stream",
     "text": [
      "{'_id': ObjectId('644eebd28b766e7c73c67093'),\n",
      " 'aircraft': 'Airbus A380',\n",
      " 'arrivalAirport': 'SFO',\n",
      " 'departureAirport': 'MUC',\n",
      " 'distance': 12000,\n",
      " 'intercontinental': True,\n",
      " 'marker': 'delete'}\n",
      "{'_id': 'txl-lhr-1', 'arrivalAirport': 'TXL', 'departureAirport': 'LHR'}\n"
     ]
    }
   ],
   "source": [
    "for x in db.flight_data.find():\n",
    "    pprint(x)\n"
   ]
  },
  {
   "cell_type": "code",
   "execution_count": 248,
   "id": "a12e354a",
   "metadata": {},
   "outputs": [
    {
     "data": {
      "text/plain": [
       "2"
      ]
     },
     "execution_count": 248,
     "metadata": {},
     "output_type": "execute_result"
    }
   ],
   "source": [
    "db.flight_data.update_many({}, {\"$set\": {\"marker\": \"toDelete\"}}).modified_count\n"
   ]
  },
  {
   "cell_type": "code",
   "execution_count": 249,
   "id": "39cc2b7c",
   "metadata": {},
   "outputs": [
    {
     "name": "stdout",
     "output_type": "stream",
     "text": [
      "{'_id': ObjectId('644eebd28b766e7c73c67093'),\n",
      " 'aircraft': 'Airbus A380',\n",
      " 'arrivalAirport': 'SFO',\n",
      " 'departureAirport': 'MUC',\n",
      " 'distance': 12000,\n",
      " 'intercontinental': True,\n",
      " 'marker': 'toDelete'}\n",
      "{'_id': 'txl-lhr-1',\n",
      " 'arrivalAirport': 'TXL',\n",
      " 'departureAirport': 'LHR',\n",
      " 'marker': 'toDelete'}\n"
     ]
    }
   ],
   "source": [
    "for x in db.flight_data.find():\n",
    "    pprint(x)\n"
   ]
  },
  {
   "cell_type": "code",
   "execution_count": 250,
   "id": "73e70500",
   "metadata": {},
   "outputs": [
    {
     "data": {
      "text/plain": [
       "2"
      ]
     },
     "execution_count": 250,
     "metadata": {},
     "output_type": "execute_result"
    }
   ],
   "source": [
    "db.flight_data.delete_many({\"marker\": \"toDelete\"}).deleted_count\n"
   ]
  },
  {
   "cell_type": "code",
   "execution_count": 251,
   "id": "09f25b2a",
   "metadata": {},
   "outputs": [],
   "source": [
    "for x in db.flight_data.find():\n",
    "    pprint(x)\n"
   ]
  },
  {
   "cell_type": "code",
   "execution_count": 252,
   "id": "25e13489",
   "metadata": {},
   "outputs": [],
   "source": [
    "client.close()\n"
   ]
  }
 ],
 "metadata": {
  "kernelspec": {
   "display_name": "Python 3 (ipykernel)",
   "language": "python",
   "name": "python3"
  },
  "language_info": {
   "codemirror_mode": {
    "name": "ipython",
    "version": 3
   },
   "file_extension": ".py",
   "mimetype": "text/x-python",
   "name": "python",
   "nbconvert_exporter": "python",
   "pygments_lexer": "ipython3",
   "version": "3.10.6"
  }
 },
 "nbformat": 4,
 "nbformat_minor": 5
}
