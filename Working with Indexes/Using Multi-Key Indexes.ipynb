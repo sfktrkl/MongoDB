{
 "cells": [
  {
   "cell_type": "code",
   "execution_count": 102,
   "id": "d1e83dd6",
   "metadata": {},
   "outputs": [],
   "source": [
    "from pymongo import MongoClient\n",
    "from pprint import pprint\n",
    "import json\n",
    "\n",
    "client = MongoClient(\"localhost\", 27017)\n",
    "client.drop_database(\"peopleData\")\n",
    "db = client.peopleData\n"
   ]
  },
  {
   "cell_type": "code",
   "execution_count": 103,
   "id": "e4ce7f68",
   "metadata": {},
   "outputs": [
    {
     "data": {
      "text/plain": [
       "<pymongo.results.InsertOneResult at 0x7fcd1cfbb760>"
      ]
     },
     "execution_count": 103,
     "metadata": {},
     "output_type": "execute_result"
    }
   ],
   "source": [
    "db.contacts.insert_one(\n",
    "    {\n",
    "        \"name\": \"Max\",\n",
    "        \"hobbies\": [\"Cooking\", \"Sports\"],\n",
    "        \"addresses\": [{\"street\": \"Main\"}, {\"street\": \"Second\"}],\n",
    "    }\n",
    ")\n"
   ]
  },
  {
   "cell_type": "code",
   "execution_count": 104,
   "id": "11a61a6e",
   "metadata": {},
   "outputs": [
    {
     "data": {
      "text/plain": [
       "'hobbies_1'"
      ]
     },
     "execution_count": 104,
     "metadata": {},
     "output_type": "execute_result"
    }
   ],
   "source": [
    "db.contacts.create_index(\"hobbies\")\n"
   ]
  },
  {
   "cell_type": "code",
   "execution_count": 105,
   "id": "0ae9bd7d",
   "metadata": {},
   "outputs": [
    {
     "data": {
      "text/plain": [
       "True"
      ]
     },
     "execution_count": 105,
     "metadata": {},
     "output_type": "execute_result"
    }
   ],
   "source": [
    "db.contacts.find({\"hobbies\": \"Sports\"}).explain()[\"executionStats\"][\"executionStages\"][\n",
    "    \"inputStage\"\n",
    "][\"isMultiKey\"]\n"
   ]
  },
  {
   "cell_type": "code",
   "execution_count": 106,
   "id": "d542870b",
   "metadata": {},
   "outputs": [
    {
     "data": {
      "text/plain": [
       "'addresses_1'"
      ]
     },
     "execution_count": 106,
     "metadata": {},
     "output_type": "execute_result"
    }
   ],
   "source": [
    "db.contacts.create_index(\"addresses\")\n"
   ]
  },
  {
   "cell_type": "code",
   "execution_count": 107,
   "id": "31383e02",
   "metadata": {},
   "outputs": [
    {
     "data": {
      "text/plain": [
       "{'executionSuccess': True,\n",
       " 'nReturned': 1,\n",
       " 'executionTimeMillis': 0,\n",
       " 'totalKeysExamined': 0,\n",
       " 'totalDocsExamined': 1,\n",
       " 'executionStages': {'stage': 'COLLSCAN',\n",
       "  'filter': {'addresses.street': {'$eq': 'Main'}},\n",
       "  'nReturned': 1,\n",
       "  'executionTimeMillisEstimate': 0,\n",
       "  'works': 3,\n",
       "  'advanced': 1,\n",
       "  'needTime': 1,\n",
       "  'needYield': 0,\n",
       "  'saveState': 0,\n",
       "  'restoreState': 0,\n",
       "  'isEOF': 1,\n",
       "  'direction': 'forward',\n",
       "  'docsExamined': 1},\n",
       " 'allPlansExecution': []}"
      ]
     },
     "execution_count": 107,
     "metadata": {},
     "output_type": "execute_result"
    }
   ],
   "source": [
    "db.contacts.find({\"addresses.street\": \"Main\"}).explain()[\"executionStats\"]\n"
   ]
  },
  {
   "cell_type": "code",
   "execution_count": 108,
   "id": "3392a366",
   "metadata": {},
   "outputs": [
    {
     "data": {
      "text/plain": [
       "{'executionSuccess': True,\n",
       " 'nReturned': 1,\n",
       " 'executionTimeMillis': 1,\n",
       " 'totalKeysExamined': 1,\n",
       " 'totalDocsExamined': 1,\n",
       " 'executionStages': {'stage': 'FETCH',\n",
       "  'nReturned': 1,\n",
       "  'executionTimeMillisEstimate': 0,\n",
       "  'works': 2,\n",
       "  'advanced': 1,\n",
       "  'needTime': 0,\n",
       "  'needYield': 0,\n",
       "  'saveState': 0,\n",
       "  'restoreState': 0,\n",
       "  'isEOF': 1,\n",
       "  'docsExamined': 1,\n",
       "  'alreadyHasObj': 0,\n",
       "  'inputStage': {'stage': 'IXSCAN',\n",
       "   'nReturned': 1,\n",
       "   'executionTimeMillisEstimate': 0,\n",
       "   'works': 2,\n",
       "   'advanced': 1,\n",
       "   'needTime': 0,\n",
       "   'needYield': 0,\n",
       "   'saveState': 0,\n",
       "   'restoreState': 0,\n",
       "   'isEOF': 1,\n",
       "   'keyPattern': {'addresses': 1},\n",
       "   'indexName': 'addresses_1',\n",
       "   'isMultiKey': True,\n",
       "   'multiKeyPaths': {'addresses': ['addresses']},\n",
       "   'isUnique': False,\n",
       "   'isSparse': False,\n",
       "   'isPartial': False,\n",
       "   'indexVersion': 2,\n",
       "   'direction': 'forward',\n",
       "   'indexBounds': {'addresses': ['[{ street: \"Main\" }, { street: \"Main\" }]']},\n",
       "   'keysExamined': 1,\n",
       "   'seeks': 1,\n",
       "   'dupsTested': 1,\n",
       "   'dupsDropped': 0}},\n",
       " 'allPlansExecution': []}"
      ]
     },
     "execution_count": 108,
     "metadata": {},
     "output_type": "execute_result"
    }
   ],
   "source": [
    "db.contacts.find({\"addresses\": {\"street\": \"Main\"}}).explain()[\"executionStats\"]\n"
   ]
  },
  {
   "cell_type": "code",
   "execution_count": 109,
   "id": "052ad32b",
   "metadata": {},
   "outputs": [
    {
     "data": {
      "text/plain": [
       "'addresses.street_1'"
      ]
     },
     "execution_count": 109,
     "metadata": {},
     "output_type": "execute_result"
    }
   ],
   "source": [
    "db.contacts.create_index(\"addresses.street\")\n"
   ]
  },
  {
   "cell_type": "code",
   "execution_count": 110,
   "id": "de7014d5",
   "metadata": {},
   "outputs": [
    {
     "data": {
      "text/plain": [
       "True"
      ]
     },
     "execution_count": 110,
     "metadata": {},
     "output_type": "execute_result"
    }
   ],
   "source": [
    "db.contacts.find({\"addresses.street\": \"Main\"}).explain()[\"executionStats\"][\n",
    "    \"executionStages\"\n",
    "][\"inputStage\"][\"isMultiKey\"]\n"
   ]
  },
  {
   "cell_type": "code",
   "execution_count": 111,
   "id": "dc0434ef",
   "metadata": {},
   "outputs": [],
   "source": [
    "client.close()\n"
   ]
  }
 ],
 "metadata": {
  "kernelspec": {
   "display_name": "Python 3 (ipykernel)",
   "language": "python",
   "name": "python3"
  },
  "language_info": {
   "codemirror_mode": {
    "name": "ipython",
    "version": 3
   },
   "file_extension": ".py",
   "mimetype": "text/x-python",
   "name": "python",
   "nbconvert_exporter": "python",
   "pygments_lexer": "ipython3",
   "version": "3.10.6"
  }
 },
 "nbformat": 4,
 "nbformat_minor": 5
}
