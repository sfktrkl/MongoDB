{
 "cells": [
  {
   "cell_type": "code",
   "execution_count": 25,
   "id": "04ca7f03",
   "metadata": {},
   "outputs": [
    {
     "data": {
      "text/plain": [
       "<pymongo.results.InsertManyResult at 0x7f663cc76830>"
      ]
     },
     "execution_count": 25,
     "metadata": {},
     "output_type": "execute_result"
    }
   ],
   "source": [
    "from pymongo import MongoClient\n",
    "from pprint import pprint\n",
    "import json\n",
    "\n",
    "client = MongoClient(\"localhost\", 27017)\n",
    "client.drop_database(\"peopleData\")\n",
    "\n",
    "db = client.peopleData\n",
    "with open(\"people.json\") as f:\n",
    "    file_data = json.load(f)\n",
    "db.people.insert_many(file_data)\n"
   ]
  },
  {
   "cell_type": "code",
   "execution_count": 26,
   "id": "e4ce7f68",
   "metadata": {},
   "outputs": [
    {
     "data": {
      "text/plain": [
       "<pymongo.results.InsertManyResult at 0x7f6656fc2a70>"
      ]
     },
     "execution_count": 26,
     "metadata": {},
     "output_type": "execute_result"
    }
   ],
   "source": [
    "db.users.insert_many([{\"name\": \"Max\", \"email\": \"max@email.com\"}, {\"name\": \"Manu\"}])\n"
   ]
  },
  {
   "cell_type": "code",
   "execution_count": 27,
   "id": "11a61a6e",
   "metadata": {},
   "outputs": [],
   "source": [
    "index = db.users.create_index(\"email\", unique=True)\n"
   ]
  },
  {
   "cell_type": "code",
   "execution_count": 28,
   "id": "6c0c7925",
   "metadata": {},
   "outputs": [
    {
     "name": "stdout",
     "output_type": "stream",
     "text": [
      "DuplicateKeyError(\"E11000 duplicate key error collection: peopleData.users index: email_1 dup key: { email: null }, full error: {'index': 0, 'code': 11000, 'errmsg': 'E11000 duplicate key error collection: peopleData.users index: email_1 dup key: { email: null }', 'keyPattern': {'email': 1}, 'keyValue': {'email': None}}\")\n"
     ]
    }
   ],
   "source": [
    "try:\n",
    "    db.users.insert_one({\"name\": \"Anna\"})\n",
    "except Exception as e:\n",
    "    pprint(e)\n"
   ]
  },
  {
   "cell_type": "code",
   "execution_count": 29,
   "id": "4eb5b6df",
   "metadata": {},
   "outputs": [],
   "source": [
    "db.users.drop_index(index)\n"
   ]
  },
  {
   "cell_type": "code",
   "execution_count": 30,
   "id": "95b29eb0",
   "metadata": {},
   "outputs": [
    {
     "data": {
      "text/plain": [
       "'email_1'"
      ]
     },
     "execution_count": 30,
     "metadata": {},
     "output_type": "execute_result"
    }
   ],
   "source": [
    "db.users.create_index(\n",
    "    \"email\", unique=True, partialFilterExpression={\"email\": {\"$exists\": True}}\n",
    ")\n"
   ]
  },
  {
   "cell_type": "code",
   "execution_count": 31,
   "id": "d73f1c5f",
   "metadata": {},
   "outputs": [
    {
     "data": {
      "text/plain": [
       "ObjectId('6456ab790db8ec91ef767ee1')"
      ]
     },
     "execution_count": 31,
     "metadata": {},
     "output_type": "execute_result"
    }
   ],
   "source": [
    "db.users.insert_one({\"name\": \"Anna\"}).inserted_id\n"
   ]
  },
  {
   "cell_type": "code",
   "execution_count": 32,
   "id": "dc0434ef",
   "metadata": {},
   "outputs": [],
   "source": [
    "client.close()\n"
   ]
  }
 ],
 "metadata": {
  "kernelspec": {
   "display_name": "Python 3 (ipykernel)",
   "language": "python",
   "name": "python3"
  },
  "language_info": {
   "codemirror_mode": {
    "name": "ipython",
    "version": 3
   },
   "file_extension": ".py",
   "mimetype": "text/x-python",
   "name": "python",
   "nbconvert_exporter": "python",
   "pygments_lexer": "ipython3",
   "version": "3.10.6"
  }
 },
 "nbformat": 4,
 "nbformat_minor": 5
}
