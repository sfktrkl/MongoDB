{
 "cells": [
  {
   "cell_type": "code",
   "execution_count": 33,
   "id": "04ca7f03",
   "metadata": {},
   "outputs": [
    {
     "data": {
      "text/plain": [
       "<pymongo.results.InsertManyResult at 0x7f55e65ed750>"
      ]
     },
     "execution_count": 33,
     "metadata": {},
     "output_type": "execute_result"
    }
   ],
   "source": [
    "from pymongo import MongoClient\n",
    "from pprint import pprint\n",
    "import json\n",
    "\n",
    "client = MongoClient(\"localhost\", 27017)\n",
    "client.drop_database(\"peopleData\")\n",
    "\n",
    "db = client.peopleData\n",
    "with open(\"people.json\") as f:\n",
    "    file_data = json.load(f)\n",
    "db.people.insert_many(file_data)\n"
   ]
  },
  {
   "cell_type": "code",
   "execution_count": 34,
   "id": "e4ce7f68",
   "metadata": {},
   "outputs": [
    {
     "data": {
      "text/plain": [
       "'dob.age_1'"
      ]
     },
     "execution_count": 34,
     "metadata": {},
     "output_type": "execute_result"
    }
   ],
   "source": [
    "db.people.create_index(\"dob.age\", partialFilterExpression={\"gender\": \"male\"})\n"
   ]
  },
  {
   "cell_type": "code",
   "execution_count": 35,
   "id": "11a61a6e",
   "metadata": {},
   "outputs": [
    {
     "data": {
      "text/plain": [
       "{'executionSuccess': True,\n",
       " 'nReturned': 1222,\n",
       " 'executionTimeMillis': 5,\n",
       " 'totalKeysExamined': 0,\n",
       " 'totalDocsExamined': 5000,\n",
       " 'executionStages': {'stage': 'COLLSCAN',\n",
       "  'filter': {'dob.age': {'$gt': 60}},\n",
       "  'nReturned': 1222,\n",
       "  'executionTimeMillisEstimate': 1,\n",
       "  'works': 5002,\n",
       "  'advanced': 1222,\n",
       "  'needTime': 3779,\n",
       "  'needYield': 0,\n",
       "  'saveState': 5,\n",
       "  'restoreState': 5,\n",
       "  'isEOF': 1,\n",
       "  'direction': 'forward',\n",
       "  'docsExamined': 5000},\n",
       " 'allPlansExecution': []}"
      ]
     },
     "execution_count": 35,
     "metadata": {},
     "output_type": "execute_result"
    }
   ],
   "source": [
    "db.people.find({\"dob.age\": {\"$gt\": 60}}).explain()[\"executionStats\"]\n"
   ]
  },
  {
   "cell_type": "code",
   "execution_count": 36,
   "id": "045f6f44",
   "metadata": {},
   "outputs": [
    {
     "data": {
      "text/plain": [
       "{'executionSuccess': True,\n",
       " 'nReturned': 610,\n",
       " 'executionTimeMillis': 3,\n",
       " 'totalKeysExamined': 610,\n",
       " 'totalDocsExamined': 610,\n",
       " 'executionStages': {'stage': 'FETCH',\n",
       "  'filter': {'gender': {'$eq': 'male'}},\n",
       "  'nReturned': 610,\n",
       "  'executionTimeMillisEstimate': 1,\n",
       "  'works': 611,\n",
       "  'advanced': 610,\n",
       "  'needTime': 0,\n",
       "  'needYield': 0,\n",
       "  'saveState': 0,\n",
       "  'restoreState': 0,\n",
       "  'isEOF': 1,\n",
       "  'docsExamined': 610,\n",
       "  'alreadyHasObj': 0,\n",
       "  'inputStage': {'stage': 'IXSCAN',\n",
       "   'nReturned': 610,\n",
       "   'executionTimeMillisEstimate': 1,\n",
       "   'works': 611,\n",
       "   'advanced': 610,\n",
       "   'needTime': 0,\n",
       "   'needYield': 0,\n",
       "   'saveState': 0,\n",
       "   'restoreState': 0,\n",
       "   'isEOF': 1,\n",
       "   'keyPattern': {'dob.age': 1},\n",
       "   'indexName': 'dob.age_1',\n",
       "   'isMultiKey': False,\n",
       "   'multiKeyPaths': {'dob.age': []},\n",
       "   'isUnique': False,\n",
       "   'isSparse': False,\n",
       "   'isPartial': True,\n",
       "   'indexVersion': 2,\n",
       "   'direction': 'forward',\n",
       "   'indexBounds': {'dob.age': ['(60, inf.0]']},\n",
       "   'keysExamined': 610,\n",
       "   'seeks': 1,\n",
       "   'dupsTested': 0,\n",
       "   'dupsDropped': 0}},\n",
       " 'allPlansExecution': []}"
      ]
     },
     "execution_count": 36,
     "metadata": {},
     "output_type": "execute_result"
    }
   ],
   "source": [
    "db.people.find({\"dob.age\": {\"$gt\": 60}, \"gender\": \"male\"}).explain()[\"executionStats\"]\n"
   ]
  },
  {
   "cell_type": "code",
   "execution_count": 37,
   "id": "dc0434ef",
   "metadata": {},
   "outputs": [],
   "source": [
    "client.close()\n"
   ]
  }
 ],
 "metadata": {
  "kernelspec": {
   "display_name": "Python 3 (ipykernel)",
   "language": "python",
   "name": "python3"
  },
  "language_info": {
   "codemirror_mode": {
    "name": "ipython",
    "version": 3
   },
   "file_extension": ".py",
   "mimetype": "text/x-python",
   "name": "python",
   "nbconvert_exporter": "python",
   "pygments_lexer": "ipython3",
   "version": "3.10.6"
  }
 },
 "nbformat": 4,
 "nbformat_minor": 5
}
