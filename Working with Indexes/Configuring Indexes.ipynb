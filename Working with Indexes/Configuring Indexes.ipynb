{
 "cells": [
  {
   "cell_type": "code",
   "execution_count": 19,
   "id": "04ca7f03",
   "metadata": {},
   "outputs": [
    {
     "data": {
      "text/plain": [
       "<pymongo.results.InsertManyResult at 0x7ff3fc6602e0>"
      ]
     },
     "execution_count": 19,
     "metadata": {},
     "output_type": "execute_result"
    }
   ],
   "source": [
    "from pymongo import MongoClient\n",
    "from pprint import pprint\n",
    "import json\n",
    "\n",
    "client = MongoClient(\"localhost\", 27017)\n",
    "client.drop_database(\"peopleData\")\n",
    "\n",
    "db = client.peopleData\n",
    "with open(\"people.json\") as f:\n",
    "    file_data = json.load(f)\n",
    "db.people.insert_many(file_data)\n"
   ]
  },
  {
   "cell_type": "code",
   "execution_count": 20,
   "id": "e4ce7f68",
   "metadata": {},
   "outputs": [
    {
     "name": "stdout",
     "output_type": "stream",
     "text": [
      "DuplicateKeyError('Index build failed: 8a49daee-25c5-45b7-b1f5-61e43f88ff15: Collection peopleData.people ( fb97f16e-6fec-4792-879b-272f78f0919b ) :: caused by :: E11000 duplicate key error collection: peopleData.people index: email_1 dup key: { email: \"abigail.clark@example.com\" }, full error: {\\'ok\\': 0.0, \\'errmsg\\': \\'Index build failed: 8a49daee-25c5-45b7-b1f5-61e43f88ff15: Collection peopleData.people ( fb97f16e-6fec-4792-879b-272f78f0919b ) :: caused by :: E11000 duplicate key error collection: peopleData.people index: email_1 dup key: { email: \"abigail.clark@example.com\" }\\', \\'code\\': 11000, \\'codeName\\': \\'DuplicateKey\\', \\'keyPattern\\': {\\'email\\': 1}, \\'keyValue\\': {\\'email\\': \\'abigail.clark@example.com\\'}}')\n"
     ]
    }
   ],
   "source": [
    "try:\n",
    "    db.people.create_index(\"email\", unique=True)\n",
    "except Exception as e:\n",
    "    pprint(e)\n"
   ]
  },
  {
   "cell_type": "code",
   "execution_count": 21,
   "id": "bac109b8",
   "metadata": {},
   "outputs": [
    {
     "name": "stdout",
     "output_type": "stream",
     "text": [
      "{'_id': ObjectId('6456a79b5fc251edc89417e5'),\n",
      " 'cell': '184-658-2267',\n",
      " 'dob': {'age': 50, 'date': '1968-01-18T05:26:30Z'},\n",
      " 'email': 'abigail.clark@example.com',\n",
      " 'gender': 'female',\n",
      " 'id': {'name': '', 'value': None},\n",
      " 'location': {'city': 'aylmer',\n",
      "              'coordinates': {'latitude': '-61.8849', 'longitude': '-84.5766'},\n",
      "              'postcode': 'F6J 8U1',\n",
      "              'state': 'québec',\n",
      "              'street': '9677 st. lawrence ave',\n",
      "              'timezone': {'description': 'Adelaide, Darwin',\n",
      "                           'offset': '+9:30'}},\n",
      " 'login': {'md5': '2bfe0c8e7a9ba85f6621a4964fc7776c',\n",
      "           'password': '1955',\n",
      "           'salt': 'LnZqDwt4',\n",
      "           'sha1': 'fec92eeaaab5913f075d839db986cfa8f095ca82',\n",
      "           'sha256': '099e44d8b9f7902df90f22f3914d5d4641296ff7ab364bcf1d64e346cfd9cd23',\n",
      "           'username': 'whitefish879',\n",
      "           'uuid': 'a716f860-ba7b-4cb4-890d-2f05ba8f1130'},\n",
      " 'name': {'first': 'abigail', 'last': 'clark', 'title': 'miss'},\n",
      " 'nat': 'CA',\n",
      " 'phone': '438-193-7599',\n",
      " 'picture': {'large': 'https://randomuser.me/api/portraits/women/93.jpg',\n",
      "             'medium': 'https://randomuser.me/api/portraits/med/women/93.jpg',\n",
      "             'thumbnail': 'https://randomuser.me/api/portraits/thumb/women/93.jpg'},\n",
      " 'registered': {'age': 3, 'date': '2014-09-22T01:38:30Z'}}\n",
      "{'_id': ObjectId('6456a79b5fc251edc8941e2d'),\n",
      " 'cell': '910-566-1400',\n",
      " 'dob': {'age': 69, 'date': '1948-12-08T01:09:03Z'},\n",
      " 'email': 'abigail.clark@example.com',\n",
      " 'gender': 'female',\n",
      " 'id': {'name': '', 'value': None},\n",
      " 'location': {'city': 'grand falls',\n",
      "              'coordinates': {'latitude': '42.2225', 'longitude': '45.5194'},\n",
      "              'postcode': 'K0M 1H7',\n",
      "              'state': 'prince edward island',\n",
      "              'street': '8067 argyle st',\n",
      "              'timezone': {'description': 'Eastern Time (US & Canada), Bogota, '\n",
      "                                          'Lima',\n",
      "                           'offset': '-5:00'}},\n",
      " 'login': {'md5': 'fd466a6c5417bce67d14966c4a5b87d8',\n",
      "           'password': 'doudou',\n",
      "           'salt': 'eHejWeiE',\n",
      "           'sha1': '22e48f2072a8365eea0a15331430f0522bfd6cb7',\n",
      "           'sha256': 'fb1bad920e555342d414c3ef3ce15dac487d174ec8983781667070065a10f1ef',\n",
      "           'username': 'greenzebra872',\n",
      "           'uuid': '08ee8142-1126-4e94-9587-13ea17d8e8da'},\n",
      " 'name': {'first': 'abigail', 'last': 'clark', 'title': 'mrs'},\n",
      " 'nat': 'CA',\n",
      " 'phone': '522-306-4813',\n",
      " 'picture': {'large': 'https://randomuser.me/api/portraits/women/21.jpg',\n",
      "             'medium': 'https://randomuser.me/api/portraits/med/women/21.jpg',\n",
      "             'thumbnail': 'https://randomuser.me/api/portraits/thumb/women/21.jpg'},\n",
      " 'registered': {'age': 4, 'date': '2014-05-22T14:42:50Z'}}\n"
     ]
    }
   ],
   "source": [
    "for x in db.people.find({\"email\": \"abigail.clark@example.com\"}):\n",
    "    pprint(x)\n"
   ]
  },
  {
   "cell_type": "code",
   "execution_count": 22,
   "id": "dc0434ef",
   "metadata": {},
   "outputs": [],
   "source": [
    "client.close()\n"
   ]
  }
 ],
 "metadata": {
  "kernelspec": {
   "display_name": "Python 3 (ipykernel)",
   "language": "python",
   "name": "python3"
  },
  "language_info": {
   "codemirror_mode": {
    "name": "ipython",
    "version": 3
   },
   "file_extension": ".py",
   "mimetype": "text/x-python",
   "name": "python",
   "nbconvert_exporter": "python",
   "pygments_lexer": "ipython3",
   "version": "3.10.6"
  }
 },
 "nbformat": 4,
 "nbformat_minor": 5
}
