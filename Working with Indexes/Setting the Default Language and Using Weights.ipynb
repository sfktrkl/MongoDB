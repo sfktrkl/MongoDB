{
 "cells": [
  {
   "cell_type": "code",
   "execution_count": 46,
   "id": "d1e83dd6",
   "metadata": {},
   "outputs": [],
   "source": [
    "from pymongo import MongoClient\n",
    "from pprint import pprint\n",
    "import json\n",
    "\n",
    "client = MongoClient(\"localhost\", 27017)\n",
    "client.drop_database(\"peopleData\")\n",
    "db = client.peopleData\n"
   ]
  },
  {
   "cell_type": "code",
   "execution_count": 47,
   "id": "e4ce7f68",
   "metadata": {},
   "outputs": [
    {
     "data": {
      "text/plain": [
       "<pymongo.results.InsertManyResult at 0x7fa5c8161240>"
      ]
     },
     "execution_count": 47,
     "metadata": {},
     "output_type": "execute_result"
    }
   ],
   "source": [
    "db.products.insert_many(\n",
    "    [\n",
    "        {\"title\": \"The Best Book\", \"description\": \"This is an awesome book\"},\n",
    "        {\"title\": \"Awesome T-Shirt\", \"description\": \"This is a good t-shirt\"},\n",
    "    ]\n",
    ")\n"
   ]
  },
  {
   "cell_type": "code",
   "execution_count": 48,
   "id": "11a61a6e",
   "metadata": {},
   "outputs": [
    {
     "data": {
      "text/plain": [
       "'description_text_title_text'"
      ]
     },
     "execution_count": 48,
     "metadata": {},
     "output_type": "execute_result"
    }
   ],
   "source": [
    "db.products.create_index(\n",
    "    [(\"description\", \"text\"), (\"title\", \"text\")],\n",
    "    default_language=\"english\",\n",
    "    weights={\"title\": 1, \"description\": 10},\n",
    ")\n"
   ]
  },
  {
   "cell_type": "code",
   "execution_count": 49,
   "id": "0ae9bd7d",
   "metadata": {},
   "outputs": [
    {
     "name": "stdout",
     "output_type": "stream",
     "text": [
      "{'_id': ObjectId('6456bf74efa94fe6aaea880c'),\n",
      " 'description': 'This is an awesome book',\n",
      " 'score': 7.5,\n",
      " 'title': 'The Best Book'}\n",
      "{'_id': ObjectId('6456bf74efa94fe6aaea880d'),\n",
      " 'description': 'This is a good t-shirt',\n",
      " 'score': 0.6666666666666666,\n",
      " 'title': 'Awesome T-Shirt'}\n"
     ]
    }
   ],
   "source": [
    "for x in db.products.find(\n",
    "    {\"$text\": {\"$search\": \"awesome\", \"$caseSensitive\": False}},\n",
    "    {\"score\": {\"$meta\": \"textScore\"}},\n",
    "):\n",
    "    pprint(x)\n"
   ]
  },
  {
   "cell_type": "code",
   "execution_count": 50,
   "id": "dc0434ef",
   "metadata": {},
   "outputs": [],
   "source": [
    "client.close()\n"
   ]
  }
 ],
 "metadata": {
  "kernelspec": {
   "display_name": "Python 3 (ipykernel)",
   "language": "python",
   "name": "python3"
  },
  "language_info": {
   "codemirror_mode": {
    "name": "ipython",
    "version": 3
   },
   "file_extension": ".py",
   "mimetype": "text/x-python",
   "name": "python",
   "nbconvert_exporter": "python",
   "pygments_lexer": "ipython3",
   "version": "3.10.6"
  }
 },
 "nbformat": 4,
 "nbformat_minor": 5
}
