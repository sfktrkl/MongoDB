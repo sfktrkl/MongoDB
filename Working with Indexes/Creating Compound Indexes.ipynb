{
 "cells": [
  {
   "cell_type": "code",
   "execution_count": 1,
   "id": "04ca7f03",
   "metadata": {},
   "outputs": [
    {
     "data": {
      "text/plain": [
       "<pymongo.results.InsertManyResult at 0x7fab2d5b1060>"
      ]
     },
     "execution_count": 1,
     "metadata": {},
     "output_type": "execute_result"
    }
   ],
   "source": [
    "from pymongo import MongoClient\n",
    "from pprint import pprint\n",
    "import json\n",
    "\n",
    "client = MongoClient(\"localhost\", 27017)\n",
    "client.drop_database(\"peopleData\")\n",
    "\n",
    "db = client.peopleData\n",
    "with open(\"people.json\") as f:\n",
    "    file_data = json.load(f)\n",
    "db.people.insert_many(file_data)\n"
   ]
  },
  {
   "cell_type": "code",
   "execution_count": 2,
   "id": "e1f72b9a",
   "metadata": {},
   "outputs": [
    {
     "data": {
      "text/plain": [
       "'gender_1'"
      ]
     },
     "execution_count": 2,
     "metadata": {},
     "output_type": "execute_result"
    }
   ],
   "source": [
    "db.people.create_index(\"gender\")\n"
   ]
  },
  {
   "cell_type": "code",
   "execution_count": 3,
   "id": "1ab726b0",
   "metadata": {},
   "outputs": [
    {
     "data": {
      "text/plain": [
       "{'executionSuccess': True,\n",
       " 'nReturned': 2435,\n",
       " 'executionTimeMillis': 7,\n",
       " 'totalKeysExamined': 2435,\n",
       " 'totalDocsExamined': 2435,\n",
       " 'executionStages': {'stage': 'FETCH',\n",
       "  'nReturned': 2435,\n",
       "  'executionTimeMillisEstimate': 3,\n",
       "  'works': 2436,\n",
       "  'advanced': 2435,\n",
       "  'needTime': 0,\n",
       "  'needYield': 0,\n",
       "  'saveState': 2,\n",
       "  'restoreState': 2,\n",
       "  'isEOF': 1,\n",
       "  'docsExamined': 2435,\n",
       "  'alreadyHasObj': 0,\n",
       "  'inputStage': {'stage': 'IXSCAN',\n",
       "   'nReturned': 2435,\n",
       "   'executionTimeMillisEstimate': 2,\n",
       "   'works': 2436,\n",
       "   'advanced': 2435,\n",
       "   'needTime': 0,\n",
       "   'needYield': 0,\n",
       "   'saveState': 2,\n",
       "   'restoreState': 2,\n",
       "   'isEOF': 1,\n",
       "   'keyPattern': {'gender': 1},\n",
       "   'indexName': 'gender_1',\n",
       "   'isMultiKey': False,\n",
       "   'multiKeyPaths': {'gender': []},\n",
       "   'isUnique': False,\n",
       "   'isSparse': False,\n",
       "   'isPartial': False,\n",
       "   'indexVersion': 2,\n",
       "   'direction': 'forward',\n",
       "   'indexBounds': {'gender': ['[\"male\", \"male\"]']},\n",
       "   'keysExamined': 2435,\n",
       "   'seeks': 1,\n",
       "   'dupsTested': 0,\n",
       "   'dupsDropped': 0}},\n",
       " 'allPlansExecution': []}"
      ]
     },
     "execution_count": 3,
     "metadata": {},
     "output_type": "execute_result"
    }
   ],
   "source": [
    "db.people.find({\"gender\": \"male\"}).explain()[\"executionStats\"]\n"
   ]
  },
  {
   "cell_type": "code",
   "execution_count": 4,
   "id": "fa5e9c8b",
   "metadata": {},
   "outputs": [
    {
     "data": {
      "text/plain": [
       "'dob.age_1_gender_1'"
      ]
     },
     "execution_count": 4,
     "metadata": {},
     "output_type": "execute_result"
    }
   ],
   "source": [
    "db.people.create_index([(\"dob.age\", 1), (\"gender\", 1)])\n"
   ]
  },
  {
   "cell_type": "code",
   "execution_count": 5,
   "id": "e4ce7f68",
   "metadata": {},
   "outputs": [
    {
     "data": {
      "text/plain": [
       "{'executionSuccess': True,\n",
       " 'nReturned': 43,\n",
       " 'executionTimeMillis': 1,\n",
       " 'totalKeysExamined': 43,\n",
       " 'totalDocsExamined': 43,\n",
       " 'executionStages': {'stage': 'FETCH',\n",
       "  'nReturned': 43,\n",
       "  'executionTimeMillisEstimate': 0,\n",
       "  'works': 45,\n",
       "  'advanced': 43,\n",
       "  'needTime': 0,\n",
       "  'needYield': 0,\n",
       "  'saveState': 0,\n",
       "  'restoreState': 0,\n",
       "  'isEOF': 1,\n",
       "  'docsExamined': 43,\n",
       "  'alreadyHasObj': 0,\n",
       "  'inputStage': {'stage': 'IXSCAN',\n",
       "   'nReturned': 43,\n",
       "   'executionTimeMillisEstimate': 0,\n",
       "   'works': 44,\n",
       "   'advanced': 43,\n",
       "   'needTime': 0,\n",
       "   'needYield': 0,\n",
       "   'saveState': 0,\n",
       "   'restoreState': 0,\n",
       "   'isEOF': 1,\n",
       "   'keyPattern': {'dob.age': 1, 'gender': 1},\n",
       "   'indexName': 'dob.age_1_gender_1',\n",
       "   'isMultiKey': False,\n",
       "   'multiKeyPaths': {'dob.age': [], 'gender': []},\n",
       "   'isUnique': False,\n",
       "   'isSparse': False,\n",
       "   'isPartial': False,\n",
       "   'indexVersion': 2,\n",
       "   'direction': 'forward',\n",
       "   'indexBounds': {'dob.age': ['[35, 35]'], 'gender': ['[\"male\", \"male\"]']},\n",
       "   'keysExamined': 43,\n",
       "   'seeks': 1,\n",
       "   'dupsTested': 0,\n",
       "   'dupsDropped': 0}},\n",
       " 'allPlansExecution': [{'nReturned': 43,\n",
       "   'executionTimeMillisEstimate': 0,\n",
       "   'totalKeysExamined': 43,\n",
       "   'totalDocsExamined': 43,\n",
       "   'score': 2.977472727272727,\n",
       "   'executionStages': {'stage': 'FETCH',\n",
       "    'nReturned': 43,\n",
       "    'executionTimeMillisEstimate': 0,\n",
       "    'works': 44,\n",
       "    'advanced': 43,\n",
       "    'needTime': 0,\n",
       "    'needYield': 0,\n",
       "    'saveState': 0,\n",
       "    'restoreState': 0,\n",
       "    'isEOF': 1,\n",
       "    'docsExamined': 43,\n",
       "    'alreadyHasObj': 0,\n",
       "    'inputStage': {'stage': 'IXSCAN',\n",
       "     'nReturned': 43,\n",
       "     'executionTimeMillisEstimate': 0,\n",
       "     'works': 44,\n",
       "     'advanced': 43,\n",
       "     'needTime': 0,\n",
       "     'needYield': 0,\n",
       "     'saveState': 0,\n",
       "     'restoreState': 0,\n",
       "     'isEOF': 1,\n",
       "     'keyPattern': {'dob.age': 1, 'gender': 1},\n",
       "     'indexName': 'dob.age_1_gender_1',\n",
       "     'isMultiKey': False,\n",
       "     'multiKeyPaths': {'dob.age': [], 'gender': []},\n",
       "     'isUnique': False,\n",
       "     'isSparse': False,\n",
       "     'isPartial': False,\n",
       "     'indexVersion': 2,\n",
       "     'direction': 'forward',\n",
       "     'indexBounds': {'dob.age': ['[35, 35]'], 'gender': ['[\"male\", \"male\"]']},\n",
       "     'keysExamined': 43,\n",
       "     'seeks': 1,\n",
       "     'dupsTested': 0,\n",
       "     'dupsDropped': 0}}},\n",
       "  {'nReturned': 0,\n",
       "   'executionTimeMillisEstimate': 0,\n",
       "   'totalKeysExamined': 44,\n",
       "   'totalDocsExamined': 44,\n",
       "   'score': 1.0002,\n",
       "   'executionStages': {'stage': 'FETCH',\n",
       "    'filter': {'dob.age': {'$eq': 35}},\n",
       "    'nReturned': 0,\n",
       "    'executionTimeMillisEstimate': 0,\n",
       "    'works': 44,\n",
       "    'advanced': 0,\n",
       "    'needTime': 44,\n",
       "    'needYield': 0,\n",
       "    'saveState': 1,\n",
       "    'restoreState': 0,\n",
       "    'isEOF': 0,\n",
       "    'docsExamined': 44,\n",
       "    'alreadyHasObj': 0,\n",
       "    'inputStage': {'stage': 'IXSCAN',\n",
       "     'nReturned': 44,\n",
       "     'executionTimeMillisEstimate': 0,\n",
       "     'works': 44,\n",
       "     'advanced': 44,\n",
       "     'needTime': 0,\n",
       "     'needYield': 0,\n",
       "     'saveState': 1,\n",
       "     'restoreState': 0,\n",
       "     'isEOF': 0,\n",
       "     'keyPattern': {'gender': 1},\n",
       "     'indexName': 'gender_1',\n",
       "     'isMultiKey': False,\n",
       "     'multiKeyPaths': {'gender': []},\n",
       "     'isUnique': False,\n",
       "     'isSparse': False,\n",
       "     'isPartial': False,\n",
       "     'indexVersion': 2,\n",
       "     'direction': 'forward',\n",
       "     'indexBounds': {'gender': ['[\"male\", \"male\"]']},\n",
       "     'keysExamined': 44,\n",
       "     'seeks': 1,\n",
       "     'dupsTested': 0,\n",
       "     'dupsDropped': 0}}}]}"
      ]
     },
     "execution_count": 5,
     "metadata": {},
     "output_type": "execute_result"
    }
   ],
   "source": [
    "db.people.find({\"dob.age\": 35, \"gender\": \"male\"}).explain()[\"executionStats\"]\n"
   ]
  },
  {
   "cell_type": "code",
   "execution_count": 6,
   "id": "b1cdb9bb",
   "metadata": {},
   "outputs": [
    {
     "data": {
      "text/plain": [
       "{'executionSuccess': True,\n",
       " 'nReturned': 95,\n",
       " 'executionTimeMillis': 0,\n",
       " 'totalKeysExamined': 95,\n",
       " 'totalDocsExamined': 95,\n",
       " 'executionStages': {'stage': 'FETCH',\n",
       "  'nReturned': 95,\n",
       "  'executionTimeMillisEstimate': 0,\n",
       "  'works': 96,\n",
       "  'advanced': 95,\n",
       "  'needTime': 0,\n",
       "  'needYield': 0,\n",
       "  'saveState': 0,\n",
       "  'restoreState': 0,\n",
       "  'isEOF': 1,\n",
       "  'docsExamined': 95,\n",
       "  'alreadyHasObj': 0,\n",
       "  'inputStage': {'stage': 'IXSCAN',\n",
       "   'nReturned': 95,\n",
       "   'executionTimeMillisEstimate': 0,\n",
       "   'works': 96,\n",
       "   'advanced': 95,\n",
       "   'needTime': 0,\n",
       "   'needYield': 0,\n",
       "   'saveState': 0,\n",
       "   'restoreState': 0,\n",
       "   'isEOF': 1,\n",
       "   'keyPattern': {'dob.age': 1, 'gender': 1},\n",
       "   'indexName': 'dob.age_1_gender_1',\n",
       "   'isMultiKey': False,\n",
       "   'multiKeyPaths': {'dob.age': [], 'gender': []},\n",
       "   'isUnique': False,\n",
       "   'isSparse': False,\n",
       "   'isPartial': False,\n",
       "   'indexVersion': 2,\n",
       "   'direction': 'forward',\n",
       "   'indexBounds': {'dob.age': ['[35, 35]'], 'gender': ['[MinKey, MaxKey]']},\n",
       "   'keysExamined': 95,\n",
       "   'seeks': 1,\n",
       "   'dupsTested': 0,\n",
       "   'dupsDropped': 0}},\n",
       " 'allPlansExecution': []}"
      ]
     },
     "execution_count": 6,
     "metadata": {},
     "output_type": "execute_result"
    }
   ],
   "source": [
    "db.people.find({\"dob.age\": 35}).explain()[\"executionStats\"]\n"
   ]
  },
  {
   "cell_type": "code",
   "execution_count": 7,
   "id": "dc0434ef",
   "metadata": {},
   "outputs": [],
   "source": [
    "client.close()\n"
   ]
  }
 ],
 "metadata": {
  "kernelspec": {
   "display_name": "Python 3 (ipykernel)",
   "language": "python",
   "name": "python3"
  },
  "language_info": {
   "codemirror_mode": {
    "name": "ipython",
    "version": 3
   },
   "file_extension": ".py",
   "mimetype": "text/x-python",
   "name": "python",
   "nbconvert_exporter": "python",
   "pygments_lexer": "ipython3",
   "version": "3.10.6"
  }
 },
 "nbformat": 4,
 "nbformat_minor": 5
}
