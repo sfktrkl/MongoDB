{
 "cells": [
  {
   "cell_type": "code",
   "execution_count": 25,
   "id": "d1e83dd6",
   "metadata": {},
   "outputs": [],
   "source": [
    "from pymongo import MongoClient\n",
    "from pprint import pprint\n",
    "import json\n",
    "\n",
    "client = MongoClient(\"localhost\", 27017)\n",
    "client.drop_database(\"peopleData\")\n",
    "db = client.peopleData\n"
   ]
  },
  {
   "cell_type": "code",
   "execution_count": 26,
   "id": "e4ce7f68",
   "metadata": {},
   "outputs": [
    {
     "data": {
      "text/plain": [
       "<pymongo.results.InsertManyResult at 0x7f885c1950c0>"
      ]
     },
     "execution_count": 26,
     "metadata": {},
     "output_type": "execute_result"
    }
   ],
   "source": [
    "db.customers.insert_many([{\"name\": \"Max\", \"age\": 30}, {\"name\": \"Manu\", \"age\": 20}])\n"
   ]
  },
  {
   "cell_type": "code",
   "execution_count": 27,
   "id": "11a61a6e",
   "metadata": {},
   "outputs": [
    {
     "data": {
      "text/plain": [
       "'name_1'"
      ]
     },
     "execution_count": 27,
     "metadata": {},
     "output_type": "execute_result"
    }
   ],
   "source": [
    "db.customers.create_index(\"name\")\n"
   ]
  },
  {
   "cell_type": "code",
   "execution_count": 28,
   "id": "0ae9bd7d",
   "metadata": {},
   "outputs": [
    {
     "data": {
      "text/plain": [
       "1"
      ]
     },
     "execution_count": 28,
     "metadata": {},
     "output_type": "execute_result"
    }
   ],
   "source": [
    "db.customers.find({\"name\": \"Max\"}).explain()[\"executionStats\"][\"totalDocsExamined\"]\n"
   ]
  },
  {
   "cell_type": "code",
   "execution_count": 29,
   "id": "8381ae77",
   "metadata": {},
   "outputs": [
    {
     "data": {
      "text/plain": [
       "0"
      ]
     },
     "execution_count": 29,
     "metadata": {},
     "output_type": "execute_result"
    }
   ],
   "source": [
    "db.customers.find({\"name\": \"Max\"}, {\"_id\": 0, \"name\": 1}).explain()[\"executionStats\"][\"totalDocsExamined\"]\n"
   ]
  },
  {
   "cell_type": "code",
   "execution_count": 30,
   "id": "dc0434ef",
   "metadata": {},
   "outputs": [],
   "source": [
    "client.close()\n"
   ]
  }
 ],
 "metadata": {
  "kernelspec": {
   "display_name": "Python 3 (ipykernel)",
   "language": "python",
   "name": "python3"
  },
  "language_info": {
   "codemirror_mode": {
    "name": "ipython",
    "version": 3
   },
   "file_extension": ".py",
   "mimetype": "text/x-python",
   "name": "python",
   "nbconvert_exporter": "python",
   "pygments_lexer": "ipython3",
   "version": "3.10.6"
  }
 },
 "nbformat": 4,
 "nbformat_minor": 5
}
