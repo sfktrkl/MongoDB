{
 "cells": [
  {
   "cell_type": "code",
   "execution_count": 122,
   "id": "d1e83dd6",
   "metadata": {},
   "outputs": [],
   "source": [
    "from pymongo import MongoClient\n",
    "from pprint import pprint\n",
    "import json\n",
    "\n",
    "client = MongoClient(\"localhost\", 27017)\n",
    "client.drop_database(\"peopleData\")\n",
    "db = client.peopleData\n"
   ]
  },
  {
   "cell_type": "code",
   "execution_count": 123,
   "id": "e4ce7f68",
   "metadata": {},
   "outputs": [
    {
     "data": {
      "text/plain": [
       "<pymongo.results.InsertManyResult at 0x7f81380a1e40>"
      ]
     },
     "execution_count": 123,
     "metadata": {},
     "output_type": "execute_result"
    }
   ],
   "source": [
    "db.customers.insert_many([{\"name\": \"Max\", \"age\": 30}, {\"name\": \"Manu\", \"age\": 20}])\n"
   ]
  },
  {
   "cell_type": "code",
   "execution_count": 124,
   "id": "73cf8894",
   "metadata": {},
   "outputs": [
    {
     "data": {
      "text/plain": [
       "'name_1'"
      ]
     },
     "execution_count": 124,
     "metadata": {},
     "output_type": "execute_result"
    }
   ],
   "source": [
    "db.customers.create_index(\"name\")\n"
   ]
  },
  {
   "cell_type": "code",
   "execution_count": 125,
   "id": "11a61a6e",
   "metadata": {},
   "outputs": [
    {
     "data": {
      "text/plain": [
       "'age_1_name_1'"
      ]
     },
     "execution_count": 125,
     "metadata": {},
     "output_type": "execute_result"
    }
   ],
   "source": [
    "db.customers.create_index([(\"age\", 1), (\"name\", 1)])\n"
   ]
  },
  {
   "cell_type": "code",
   "execution_count": 126,
   "id": "0ae9bd7d",
   "metadata": {},
   "outputs": [
    {
     "data": {
      "text/plain": [
       "{'stage': 'FETCH',\n",
       " 'filter': {'age': {'$eq': 30}},\n",
       " 'inputStage': {'stage': 'IXSCAN',\n",
       "  'keyPattern': {'name': 1},\n",
       "  'indexName': 'name_1',\n",
       "  'isMultiKey': False,\n",
       "  'multiKeyPaths': {'name': []},\n",
       "  'isUnique': False,\n",
       "  'isSparse': False,\n",
       "  'isPartial': False,\n",
       "  'indexVersion': 2,\n",
       "  'direction': 'forward',\n",
       "  'indexBounds': {'name': ['[\"Max\", \"Max\"]']}}}"
      ]
     },
     "execution_count": 126,
     "metadata": {},
     "output_type": "execute_result"
    }
   ],
   "source": [
    "db.customers.find({\"name\": \"Max\", \"age\": 30}).explain()[\"queryPlanner\"][\"winningPlan\"]\n"
   ]
  },
  {
   "cell_type": "code",
   "execution_count": 127,
   "id": "6b573dbb",
   "metadata": {},
   "outputs": [
    {
     "data": {
      "text/plain": [
       "[{'stage': 'FETCH',\n",
       "  'inputStage': {'stage': 'IXSCAN',\n",
       "   'keyPattern': {'age': 1, 'name': 1},\n",
       "   'indexName': 'age_1_name_1',\n",
       "   'isMultiKey': False,\n",
       "   'multiKeyPaths': {'age': [], 'name': []},\n",
       "   'isUnique': False,\n",
       "   'isSparse': False,\n",
       "   'isPartial': False,\n",
       "   'indexVersion': 2,\n",
       "   'direction': 'forward',\n",
       "   'indexBounds': {'age': ['[30, 30]'], 'name': ['[\"Max\", \"Max\"]']}}}]"
      ]
     },
     "execution_count": 127,
     "metadata": {},
     "output_type": "execute_result"
    }
   ],
   "source": [
    "db.customers.find({\"name\": \"Max\", \"age\": 30}).explain()[\"queryPlanner\"][\"rejectedPlans\"]\n"
   ]
  },
  {
   "cell_type": "code",
   "execution_count": 128,
   "id": "5a8fb36c",
   "metadata": {},
   "outputs": [
    {
     "data": {
      "text/plain": [
       "[{'nReturned': 1,\n",
       "  'executionTimeMillisEstimate': 0,\n",
       "  'totalKeysExamined': 1,\n",
       "  'totalDocsExamined': 1,\n",
       "  'score': 2.5002,\n",
       "  'executionStages': {'stage': 'FETCH',\n",
       "   'filter': {'age': {'$eq': 30}},\n",
       "   'nReturned': 1,\n",
       "   'executionTimeMillisEstimate': 0,\n",
       "   'works': 2,\n",
       "   'advanced': 1,\n",
       "   'needTime': 0,\n",
       "   'needYield': 0,\n",
       "   'saveState': 0,\n",
       "   'restoreState': 0,\n",
       "   'isEOF': 1,\n",
       "   'docsExamined': 1,\n",
       "   'alreadyHasObj': 0,\n",
       "   'inputStage': {'stage': 'IXSCAN',\n",
       "    'nReturned': 1,\n",
       "    'executionTimeMillisEstimate': 0,\n",
       "    'works': 2,\n",
       "    'advanced': 1,\n",
       "    'needTime': 0,\n",
       "    'needYield': 0,\n",
       "    'saveState': 0,\n",
       "    'restoreState': 0,\n",
       "    'isEOF': 1,\n",
       "    'keyPattern': {'name': 1},\n",
       "    'indexName': 'name_1',\n",
       "    'isMultiKey': False,\n",
       "    'multiKeyPaths': {'name': []},\n",
       "    'isUnique': False,\n",
       "    'isSparse': False,\n",
       "    'isPartial': False,\n",
       "    'indexVersion': 2,\n",
       "    'direction': 'forward',\n",
       "    'indexBounds': {'name': ['[\"Max\", \"Max\"]']},\n",
       "    'keysExamined': 1,\n",
       "    'seeks': 1,\n",
       "    'dupsTested': 0,\n",
       "    'dupsDropped': 0}}},\n",
       " {'nReturned': 1,\n",
       "  'executionTimeMillisEstimate': 0,\n",
       "  'totalKeysExamined': 1,\n",
       "  'totalDocsExamined': 1,\n",
       "  'score': 2.5002,\n",
       "  'executionStages': {'stage': 'FETCH',\n",
       "   'nReturned': 1,\n",
       "   'executionTimeMillisEstimate': 0,\n",
       "   'works': 2,\n",
       "   'advanced': 1,\n",
       "   'needTime': 0,\n",
       "   'needYield': 0,\n",
       "   'saveState': 1,\n",
       "   'restoreState': 0,\n",
       "   'isEOF': 1,\n",
       "   'docsExamined': 1,\n",
       "   'alreadyHasObj': 0,\n",
       "   'inputStage': {'stage': 'IXSCAN',\n",
       "    'nReturned': 1,\n",
       "    'executionTimeMillisEstimate': 0,\n",
       "    'works': 2,\n",
       "    'advanced': 1,\n",
       "    'needTime': 0,\n",
       "    'needYield': 0,\n",
       "    'saveState': 1,\n",
       "    'restoreState': 0,\n",
       "    'isEOF': 1,\n",
       "    'keyPattern': {'age': 1, 'name': 1},\n",
       "    'indexName': 'age_1_name_1',\n",
       "    'isMultiKey': False,\n",
       "    'multiKeyPaths': {'age': [], 'name': []},\n",
       "    'isUnique': False,\n",
       "    'isSparse': False,\n",
       "    'isPartial': False,\n",
       "    'indexVersion': 2,\n",
       "    'direction': 'forward',\n",
       "    'indexBounds': {'age': ['[30, 30]'], 'name': ['[\"Max\", \"Max\"]']},\n",
       "    'keysExamined': 1,\n",
       "    'seeks': 1,\n",
       "    'dupsTested': 0,\n",
       "    'dupsDropped': 0}}}]"
      ]
     },
     "execution_count": 128,
     "metadata": {},
     "output_type": "execute_result"
    }
   ],
   "source": [
    "db.customers.find({\"name\": \"Max\", \"age\": 30}).explain()[\"executionStats\"][\n",
    "    \"allPlansExecution\"\n",
    "]\n"
   ]
  },
  {
   "cell_type": "code",
   "execution_count": 129,
   "id": "dc0434ef",
   "metadata": {},
   "outputs": [],
   "source": [
    "client.close()\n"
   ]
  }
 ],
 "metadata": {
  "kernelspec": {
   "display_name": "Python 3 (ipykernel)",
   "language": "python",
   "name": "python3"
  },
  "language_info": {
   "codemirror_mode": {
    "name": "ipython",
    "version": 3
   },
   "file_extension": ".py",
   "mimetype": "text/x-python",
   "name": "python",
   "nbconvert_exporter": "python",
   "pygments_lexer": "ipython3",
   "version": "3.10.6"
  }
 },
 "nbformat": 4,
 "nbformat_minor": 5
}
