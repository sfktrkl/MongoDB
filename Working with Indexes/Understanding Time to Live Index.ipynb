{
 "cells": [
  {
   "cell_type": "code",
   "execution_count": 88,
   "id": "d1e83dd6",
   "metadata": {},
   "outputs": [],
   "source": [
    "from pymongo import MongoClient\n",
    "from pprint import pprint\n",
    "import json\n",
    "\n",
    "client = MongoClient(\"localhost\", 27017)\n",
    "client.drop_database(\"peopleData\")\n",
    "db = client.peopleData\n",
    "#mongosh\n",
    "#db.adminCommand({setParameter:1, ttlMonitorEnabled:true});\n",
    "#db.adminCommand({getParameter:1, ttlMonitorSleepSecs: 1});\n"
   ]
  },
  {
   "cell_type": "code",
   "execution_count": 89,
   "id": "e4ce7f68",
   "metadata": {},
   "outputs": [
    {
     "data": {
      "text/plain": [
       "<pymongo.results.InsertOneResult at 0x7fa30ca0b610>"
      ]
     },
     "execution_count": 89,
     "metadata": {},
     "output_type": "execute_result"
    }
   ],
   "source": [
    "import datetime\n",
    "\n",
    "db.sessions.insert_one({\"data\": \"data\", \"createdAt\": datetime.datetime.utcnow()})\n"
   ]
  },
  {
   "cell_type": "code",
   "execution_count": 90,
   "id": "11a61a6e",
   "metadata": {},
   "outputs": [
    {
     "data": {
      "text/plain": [
       "'createdAt_1'"
      ]
     },
     "execution_count": 90,
     "metadata": {},
     "output_type": "execute_result"
    }
   ],
   "source": [
    "db.sessions.create_index(\"createdAt\", expireAfterSeconds=1)\n"
   ]
  },
  {
   "cell_type": "code",
   "execution_count": 91,
   "id": "0ae9bd7d",
   "metadata": {},
   "outputs": [
    {
     "data": {
      "text/plain": [
       "<pymongo.results.InsertOneResult at 0x7fa30ca0b160>"
      ]
     },
     "execution_count": 91,
     "metadata": {},
     "output_type": "execute_result"
    }
   ],
   "source": [
    "db.sessions.insert_one({\"data\": \"data2\", \"createdAt\": datetime.datetime.utcnow()})\n"
   ]
  },
  {
   "cell_type": "code",
   "execution_count": 92,
   "id": "045f6f44",
   "metadata": {},
   "outputs": [
    {
     "data": {
      "text/plain": [
       "{'_id': ObjectId('6456b1533b00364423a2f416'),\n",
       " 'data': 'data',\n",
       " 'createdAt': datetime.datetime(2023, 5, 6, 19, 58, 11, 844000)}"
      ]
     },
     "execution_count": 92,
     "metadata": {},
     "output_type": "execute_result"
    }
   ],
   "source": [
    "db.sessions.find_one()\n"
   ]
  },
  {
   "cell_type": "code",
   "execution_count": 93,
   "id": "5632213e",
   "metadata": {},
   "outputs": [
    {
     "data": {
      "text/plain": [
       "{'_id_': {'v': 2, 'key': [('_id', 1)]},\n",
       " 'createdAt_1': {'v': 2, 'key': [('createdAt', 1)], 'expireAfterSeconds': 1}}"
      ]
     },
     "execution_count": 93,
     "metadata": {},
     "output_type": "execute_result"
    }
   ],
   "source": [
    "db.sessions.index_information()\n"
   ]
  },
  {
   "cell_type": "code",
   "execution_count": 94,
   "id": "7cbfaac7",
   "metadata": {},
   "outputs": [
    {
     "data": {
      "text/plain": [
       "0"
      ]
     },
     "execution_count": 94,
     "metadata": {},
     "output_type": "execute_result"
    }
   ],
   "source": [
    "import time\n",
    "\n",
    "time.sleep(3)\n",
    "len(list(db.sessions.find()))\n"
   ]
  },
  {
   "cell_type": "code",
   "execution_count": 95,
   "id": "dc0434ef",
   "metadata": {},
   "outputs": [],
   "source": [
    "client.close()\n"
   ]
  }
 ],
 "metadata": {
  "kernelspec": {
   "display_name": "Python 3 (ipykernel)",
   "language": "python",
   "name": "python3"
  },
  "language_info": {
   "codemirror_mode": {
    "name": "ipython",
    "version": 3
   },
   "file_extension": ".py",
   "mimetype": "text/x-python",
   "name": "python",
   "nbconvert_exporter": "python",
   "pygments_lexer": "ipython3",
   "version": "3.10.6"
  }
 },
 "nbformat": 4,
 "nbformat_minor": 5
}
