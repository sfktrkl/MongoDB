{
 "cells": [
  {
   "cell_type": "code",
   "execution_count": 41,
   "id": "04ca7f03",
   "metadata": {},
   "outputs": [
    {
     "data": {
      "text/plain": [
       "<pymongo.results.InsertManyResult at 0x7f8c94227b20>"
      ]
     },
     "execution_count": 41,
     "metadata": {},
     "output_type": "execute_result"
    }
   ],
   "source": [
    "from pymongo import MongoClient\n",
    "from pprint import pprint\n",
    "import json\n",
    "\n",
    "client = MongoClient(\"localhost\", 27017)\n",
    "client.drop_database(\"peopleData\")\n",
    "\n",
    "db = client.peopleData\n",
    "with open(\"people.json\") as f:\n",
    "    file_data = json.load(f)\n",
    "db.people.insert_many(file_data)\n"
   ]
  },
  {
   "cell_type": "code",
   "execution_count": 42,
   "id": "48030f86",
   "metadata": {},
   "outputs": [
    {
     "data": {
      "text/plain": [
       "1222"
      ]
     },
     "execution_count": 42,
     "metadata": {},
     "output_type": "execute_result"
    }
   ],
   "source": [
    "len(list(db.people.find({\"dob.age\": {\"$gt\": 60}})))\n"
   ]
  },
  {
   "cell_type": "code",
   "execution_count": 43,
   "id": "c216191c",
   "metadata": {},
   "outputs": [
    {
     "data": {
      "text/plain": [
       "{'explainVersion': '1',\n",
       " 'queryPlanner': {'namespace': 'peopleData.people',\n",
       "  'indexFilterSet': False,\n",
       "  'parsedQuery': {'dob.age': {'$gt': 60}},\n",
       "  'queryHash': '08155E45',\n",
       "  'planCacheKey': '08155E45',\n",
       "  'maxIndexedOrSolutionsReached': False,\n",
       "  'maxIndexedAndSolutionsReached': False,\n",
       "  'maxScansToExplodeReached': False,\n",
       "  'winningPlan': {'stage': 'COLLSCAN',\n",
       "   'filter': {'dob.age': {'$gt': 60}},\n",
       "   'direction': 'forward'},\n",
       "  'rejectedPlans': []},\n",
       " 'executionStats': {'executionSuccess': True,\n",
       "  'nReturned': 1222,\n",
       "  'executionTimeMillis': 5,\n",
       "  'totalKeysExamined': 0,\n",
       "  'totalDocsExamined': 5000,\n",
       "  'executionStages': {'stage': 'COLLSCAN',\n",
       "   'filter': {'dob.age': {'$gt': 60}},\n",
       "   'nReturned': 1222,\n",
       "   'executionTimeMillisEstimate': 0,\n",
       "   'works': 5002,\n",
       "   'advanced': 1222,\n",
       "   'needTime': 3779,\n",
       "   'needYield': 0,\n",
       "   'saveState': 5,\n",
       "   'restoreState': 5,\n",
       "   'isEOF': 1,\n",
       "   'direction': 'forward',\n",
       "   'docsExamined': 5000},\n",
       "  'allPlansExecution': []},\n",
       " 'command': {'find': 'people',\n",
       "  'filter': {'dob.age': {'$gt': 60}},\n",
       "  '$db': 'peopleData'},\n",
       " 'serverInfo': {'host': 'sfktrkl',\n",
       "  'port': 27017,\n",
       "  'version': '6.0.5',\n",
       "  'gitVersion': 'c9a99c120371d4d4c52cbb15dac34a36ce8d3b1d'},\n",
       " 'serverParameters': {'internalQueryFacetBufferSizeBytes': 104857600,\n",
       "  'internalQueryFacetMaxOutputDocSizeBytes': 104857600,\n",
       "  'internalLookupStageIntermediateDocumentMaxSizeBytes': 104857600,\n",
       "  'internalDocumentSourceGroupMaxMemoryBytes': 104857600,\n",
       "  'internalQueryMaxBlockingSortMemoryUsageBytes': 104857600,\n",
       "  'internalQueryProhibitBlockingMergeOnMongoS': 0,\n",
       "  'internalQueryMaxAddToSetBytes': 104857600,\n",
       "  'internalDocumentSourceSetWindowFieldsMaxMemoryBytes': 104857600},\n",
       " 'ok': 1.0}"
      ]
     },
     "execution_count": 43,
     "metadata": {},
     "output_type": "execute_result"
    }
   ],
   "source": [
    "db.people.find({\"dob.age\": {\"$gt\": 60}}).explain()\n"
   ]
  },
  {
   "cell_type": "code",
   "execution_count": 44,
   "id": "d3b83ffa",
   "metadata": {},
   "outputs": [
    {
     "data": {
      "text/plain": [
       "{'executionSuccess': True,\n",
       " 'nReturned': 1222,\n",
       " 'executionTimeMillis': 5,\n",
       " 'totalKeysExamined': 0,\n",
       " 'totalDocsExamined': 5000,\n",
       " 'executionStages': {'stage': 'COLLSCAN',\n",
       "  'filter': {'dob.age': {'$gt': 60}},\n",
       "  'nReturned': 1222,\n",
       "  'executionTimeMillisEstimate': 0,\n",
       "  'works': 5002,\n",
       "  'advanced': 1222,\n",
       "  'needTime': 3779,\n",
       "  'needYield': 0,\n",
       "  'saveState': 5,\n",
       "  'restoreState': 5,\n",
       "  'isEOF': 1,\n",
       "  'direction': 'forward',\n",
       "  'docsExamined': 5000},\n",
       " 'allPlansExecution': []}"
      ]
     },
     "execution_count": 44,
     "metadata": {},
     "output_type": "execute_result"
    }
   ],
   "source": [
    "db.people.find({\"dob.age\": {\"$gt\": 60}}).explain()[\"executionStats\"]\n"
   ]
  },
  {
   "cell_type": "code",
   "execution_count": 45,
   "id": "e1f72b9a",
   "metadata": {},
   "outputs": [
    {
     "data": {
      "text/plain": [
       "'dob.age_1'"
      ]
     },
     "execution_count": 45,
     "metadata": {},
     "output_type": "execute_result"
    }
   ],
   "source": [
    "db.people.create_index(\"dob.age\")\n"
   ]
  },
  {
   "cell_type": "code",
   "execution_count": 46,
   "id": "1ab726b0",
   "metadata": {},
   "outputs": [
    {
     "data": {
      "text/plain": [
       "{'executionSuccess': True,\n",
       " 'nReturned': 1222,\n",
       " 'executionTimeMillis': 3,\n",
       " 'totalKeysExamined': 1222,\n",
       " 'totalDocsExamined': 1222,\n",
       " 'executionStages': {'stage': 'FETCH',\n",
       "  'nReturned': 1222,\n",
       "  'executionTimeMillisEstimate': 0,\n",
       "  'works': 1223,\n",
       "  'advanced': 1222,\n",
       "  'needTime': 0,\n",
       "  'needYield': 0,\n",
       "  'saveState': 1,\n",
       "  'restoreState': 1,\n",
       "  'isEOF': 1,\n",
       "  'docsExamined': 1222,\n",
       "  'alreadyHasObj': 0,\n",
       "  'inputStage': {'stage': 'IXSCAN',\n",
       "   'nReturned': 1222,\n",
       "   'executionTimeMillisEstimate': 0,\n",
       "   'works': 1223,\n",
       "   'advanced': 1222,\n",
       "   'needTime': 0,\n",
       "   'needYield': 0,\n",
       "   'saveState': 1,\n",
       "   'restoreState': 1,\n",
       "   'isEOF': 1,\n",
       "   'keyPattern': {'dob.age': 1},\n",
       "   'indexName': 'dob.age_1',\n",
       "   'isMultiKey': False,\n",
       "   'multiKeyPaths': {'dob.age': []},\n",
       "   'isUnique': False,\n",
       "   'isSparse': False,\n",
       "   'isPartial': False,\n",
       "   'indexVersion': 2,\n",
       "   'direction': 'forward',\n",
       "   'indexBounds': {'dob.age': ['(60, inf.0]']},\n",
       "   'keysExamined': 1222,\n",
       "   'seeks': 1,\n",
       "   'dupsTested': 0,\n",
       "   'dupsDropped': 0}},\n",
       " 'allPlansExecution': []}"
      ]
     },
     "execution_count": 46,
     "metadata": {},
     "output_type": "execute_result"
    }
   ],
   "source": [
    "db.people.find({\"dob.age\": {\"$gt\": 60}}).explain()[\"executionStats\"]\n"
   ]
  },
  {
   "cell_type": "code",
   "execution_count": 47,
   "id": "dc0434ef",
   "metadata": {},
   "outputs": [],
   "source": [
    "client.close()\n"
   ]
  }
 ],
 "metadata": {
  "kernelspec": {
   "display_name": "Python 3 (ipykernel)",
   "language": "python",
   "name": "python3"
  },
  "language_info": {
   "codemirror_mode": {
    "name": "ipython",
    "version": 3
   },
   "file_extension": ".py",
   "mimetype": "text/x-python",
   "name": "python",
   "nbconvert_exporter": "python",
   "pygments_lexer": "ipython3",
   "version": "3.10.6"
  }
 },
 "nbformat": 4,
 "nbformat_minor": 5
}
