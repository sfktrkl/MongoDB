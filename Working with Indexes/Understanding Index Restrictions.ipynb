{
 "cells": [
  {
   "cell_type": "code",
   "execution_count": 7,
   "id": "04ca7f03",
   "metadata": {},
   "outputs": [
    {
     "data": {
      "text/plain": [
       "<pymongo.results.InsertManyResult at 0x7fea676d3fd0>"
      ]
     },
     "execution_count": 7,
     "metadata": {},
     "output_type": "execute_result"
    }
   ],
   "source": [
    "from pymongo import MongoClient\n",
    "from pprint import pprint\n",
    "import json\n",
    "\n",
    "client = MongoClient(\"localhost\", 27017)\n",
    "client.drop_database(\"peopleData\")\n",
    "\n",
    "db = client.peopleData\n",
    "with open(\"people.json\") as f:\n",
    "    file_data = json.load(f)\n",
    "db.people.insert_many(file_data)\n"
   ]
  },
  {
   "cell_type": "code",
   "execution_count": 8,
   "id": "e1f72b9a",
   "metadata": {},
   "outputs": [],
   "source": [
    "index = db.people.create_index(\"dob.age\")\n"
   ]
  },
  {
   "cell_type": "code",
   "execution_count": 9,
   "id": "1ab726b0",
   "metadata": {},
   "outputs": [
    {
     "data": {
      "text/plain": [
       "{'executionSuccess': True,\n",
       " 'nReturned': 5000,\n",
       " 'executionTimeMillis': 9,\n",
       " 'totalKeysExamined': 5000,\n",
       " 'totalDocsExamined': 5000,\n",
       " 'executionStages': {'stage': 'FETCH',\n",
       "  'nReturned': 5000,\n",
       "  'executionTimeMillisEstimate': 0,\n",
       "  'works': 5001,\n",
       "  'advanced': 5000,\n",
       "  'needTime': 0,\n",
       "  'needYield': 0,\n",
       "  'saveState': 5,\n",
       "  'restoreState': 5,\n",
       "  'isEOF': 1,\n",
       "  'docsExamined': 5000,\n",
       "  'alreadyHasObj': 0,\n",
       "  'inputStage': {'stage': 'IXSCAN',\n",
       "   'nReturned': 5000,\n",
       "   'executionTimeMillisEstimate': 0,\n",
       "   'works': 5001,\n",
       "   'advanced': 5000,\n",
       "   'needTime': 0,\n",
       "   'needYield': 0,\n",
       "   'saveState': 5,\n",
       "   'restoreState': 5,\n",
       "   'isEOF': 1,\n",
       "   'keyPattern': {'dob.age': 1},\n",
       "   'indexName': 'dob.age_1',\n",
       "   'isMultiKey': False,\n",
       "   'multiKeyPaths': {'dob.age': []},\n",
       "   'isUnique': False,\n",
       "   'isSparse': False,\n",
       "   'isPartial': False,\n",
       "   'indexVersion': 2,\n",
       "   'direction': 'forward',\n",
       "   'indexBounds': {'dob.age': ['(20, inf.0]']},\n",
       "   'keysExamined': 5000,\n",
       "   'seeks': 1,\n",
       "   'dupsTested': 0,\n",
       "   'dupsDropped': 0}},\n",
       " 'allPlansExecution': []}"
      ]
     },
     "execution_count": 9,
     "metadata": {},
     "output_type": "execute_result"
    }
   ],
   "source": [
    "db.people.find({\"dob.age\": {\"$gt\": 20}}).explain()[\"executionStats\"]\n"
   ]
  },
  {
   "cell_type": "code",
   "execution_count": 10,
   "id": "c3973384",
   "metadata": {},
   "outputs": [],
   "source": [
    "db.people.drop_index(index)\n"
   ]
  },
  {
   "cell_type": "code",
   "execution_count": 11,
   "id": "c406c2a1",
   "metadata": {},
   "outputs": [
    {
     "data": {
      "text/plain": [
       "{'executionSuccess': True,\n",
       " 'nReturned': 5000,\n",
       " 'executionTimeMillis': 5,\n",
       " 'totalKeysExamined': 0,\n",
       " 'totalDocsExamined': 5000,\n",
       " 'executionStages': {'stage': 'COLLSCAN',\n",
       "  'filter': {'dob.age': {'$gt': 20}},\n",
       "  'nReturned': 5000,\n",
       "  'executionTimeMillisEstimate': 0,\n",
       "  'works': 5002,\n",
       "  'advanced': 5000,\n",
       "  'needTime': 1,\n",
       "  'needYield': 0,\n",
       "  'saveState': 5,\n",
       "  'restoreState': 5,\n",
       "  'isEOF': 1,\n",
       "  'direction': 'forward',\n",
       "  'docsExamined': 5000},\n",
       " 'allPlansExecution': []}"
      ]
     },
     "execution_count": 11,
     "metadata": {},
     "output_type": "execute_result"
    }
   ],
   "source": [
    "db.people.find({\"dob.age\": {\"$gt\": 20}}).explain()[\"executionStats\"]\n"
   ]
  },
  {
   "cell_type": "code",
   "execution_count": 12,
   "id": "dc0434ef",
   "metadata": {},
   "outputs": [],
   "source": [
    "client.close()\n"
   ]
  }
 ],
 "metadata": {
  "kernelspec": {
   "display_name": "Python 3 (ipykernel)",
   "language": "python",
   "name": "python3"
  },
  "language_info": {
   "codemirror_mode": {
    "name": "ipython",
    "version": 3
   },
   "file_extension": ".py",
   "mimetype": "text/x-python",
   "name": "python",
   "nbconvert_exporter": "python",
   "pygments_lexer": "ipython3",
   "version": "3.10.6"
  }
 },
 "nbformat": 4,
 "nbformat_minor": 5
}
