{
 "cells": [
  {
   "cell_type": "code",
   "execution_count": 10,
   "id": "d1e83dd6",
   "metadata": {},
   "outputs": [],
   "source": [
    "from pymongo import MongoClient\n",
    "from pprint import pprint\n",
    "import json\n",
    "\n",
    "client = MongoClient(\"localhost\", 27017)\n",
    "client.drop_database(\"peopleData\")\n",
    "db = client.peopleData\n"
   ]
  },
  {
   "cell_type": "code",
   "execution_count": 11,
   "id": "e4ce7f68",
   "metadata": {},
   "outputs": [
    {
     "data": {
      "text/plain": [
       "<pymongo.results.InsertManyResult at 0x7f2fd9d74820>"
      ]
     },
     "execution_count": 11,
     "metadata": {},
     "output_type": "execute_result"
    }
   ],
   "source": [
    "db.products.insert_many(\n",
    "    [\n",
    "        {\"title\": \"A Book\", \"description\": \"This is an awesome book\"},\n",
    "        {\"title\": \"A T-Shirt\", \"description\": \"This is an awesome t-shirt\"},\n",
    "    ]\n",
    ")\n"
   ]
  },
  {
   "cell_type": "code",
   "execution_count": 12,
   "id": "11a61a6e",
   "metadata": {},
   "outputs": [
    {
     "data": {
      "text/plain": [
       "'description_text'"
      ]
     },
     "execution_count": 12,
     "metadata": {},
     "output_type": "execute_result"
    }
   ],
   "source": [
    "db.products.create_index([(\"description\", \"text\")])\n"
   ]
  },
  {
   "cell_type": "code",
   "execution_count": 13,
   "id": "0ae9bd7d",
   "metadata": {},
   "outputs": [
    {
     "name": "stdout",
     "output_type": "stream",
     "text": [
      "{'_id': ObjectId('6456bcf9864a4edde6ebe8b1'),\n",
      " 'description': 'This is an awesome book',\n",
      " 'score': 0.75,\n",
      " 'title': 'A Book'}\n",
      "{'_id': ObjectId('6456bcf9864a4edde6ebe8b2'),\n",
      " 'description': 'This is an awesome t-shirt',\n",
      " 'score': 2.0,\n",
      " 'title': 'A T-Shirt'}\n"
     ]
    }
   ],
   "source": [
    "for x in db.products.find(\n",
    "    {\"$text\": {\"$search\": \"awesome t-shirt\"}}, {\"score\": {\"$meta\": \"textScore\"}}\n",
    "):\n",
    "    pprint(x)\n"
   ]
  },
  {
   "cell_type": "code",
   "execution_count": 14,
   "id": "dc0434ef",
   "metadata": {},
   "outputs": [],
   "source": [
    "client.close()\n"
   ]
  }
 ],
 "metadata": {
  "kernelspec": {
   "display_name": "Python 3 (ipykernel)",
   "language": "python",
   "name": "python3"
  },
  "language_info": {
   "codemirror_mode": {
    "name": "ipython",
    "version": 3
   },
   "file_extension": ".py",
   "mimetype": "text/x-python",
   "name": "python",
   "nbconvert_exporter": "python",
   "pygments_lexer": "ipython3",
   "version": "3.10.6"
  }
 },
 "nbformat": 4,
 "nbformat_minor": 5
}
