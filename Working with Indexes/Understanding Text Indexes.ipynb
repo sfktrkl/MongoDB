{
 "cells": [
  {
   "cell_type": "code",
   "execution_count": 43,
   "id": "d1e83dd6",
   "metadata": {},
   "outputs": [],
   "source": [
    "from pymongo import MongoClient\n",
    "from pprint import pprint\n",
    "import json\n",
    "\n",
    "client = MongoClient(\"localhost\", 27017)\n",
    "client.drop_database(\"peopleData\")\n",
    "db = client.peopleData\n"
   ]
  },
  {
   "cell_type": "code",
   "execution_count": 44,
   "id": "e4ce7f68",
   "metadata": {},
   "outputs": [
    {
     "data": {
      "text/plain": [
       "<pymongo.results.InsertManyResult at 0x7f5015ae6d40>"
      ]
     },
     "execution_count": 44,
     "metadata": {},
     "output_type": "execute_result"
    }
   ],
   "source": [
    "db.products.insert_many(\n",
    "    [\n",
    "        {\"title\": \"A Book\", \"description\": \"This is an awesome book\"},\n",
    "        {\"title\": \"A T-Shirt\", \"description\": \"This is an awesome t-shirt\"},\n",
    "    ]\n",
    ")\n"
   ]
  },
  {
   "cell_type": "code",
   "execution_count": 45,
   "id": "11a61a6e",
   "metadata": {},
   "outputs": [
    {
     "data": {
      "text/plain": [
       "'description_text'"
      ]
     },
     "execution_count": 45,
     "metadata": {},
     "output_type": "execute_result"
    }
   ],
   "source": [
    "db.products.create_index([(\"description\", \"text\")])\n"
   ]
  },
  {
   "cell_type": "code",
   "execution_count": 46,
   "id": "0ae9bd7d",
   "metadata": {},
   "outputs": [
    {
     "name": "stdout",
     "output_type": "stream",
     "text": [
      "{'_id': ObjectId('6456bb6b5355c917a8382f83'),\n",
      " 'description': 'This is an awesome t-shirt',\n",
      " 'title': 'A T-Shirt'}\n"
     ]
    }
   ],
   "source": [
    "for x in db.products.find({\"$text\": {\"$search\": \"t-shirt\"}}):\n",
    "    pprint(x)\n"
   ]
  },
  {
   "cell_type": "code",
   "execution_count": 47,
   "id": "70345152",
   "metadata": {},
   "outputs": [
    {
     "name": "stdout",
     "output_type": "stream",
     "text": [
      "{'_id': ObjectId('6456bb6b5355c917a8382f82'),\n",
      " 'description': 'This is an awesome book',\n",
      " 'title': 'A Book'}\n"
     ]
    }
   ],
   "source": [
    "for x in db.products.find({\"$text\": {\"$search\": \"\\\"awesome book\\\"\"}}):\n",
    "    pprint(x)\n"
   ]
  },
  {
   "cell_type": "code",
   "execution_count": 48,
   "id": "dc0434ef",
   "metadata": {},
   "outputs": [],
   "source": [
    "client.close()\n"
   ]
  }
 ],
 "metadata": {
  "kernelspec": {
   "display_name": "Python 3 (ipykernel)",
   "language": "python",
   "name": "python3"
  },
  "language_info": {
   "codemirror_mode": {
    "name": "ipython",
    "version": 3
   },
   "file_extension": ".py",
   "mimetype": "text/x-python",
   "name": "python",
   "nbconvert_exporter": "python",
   "pygments_lexer": "ipython3",
   "version": "3.10.6"
  }
 },
 "nbformat": 4,
 "nbformat_minor": 5
}
