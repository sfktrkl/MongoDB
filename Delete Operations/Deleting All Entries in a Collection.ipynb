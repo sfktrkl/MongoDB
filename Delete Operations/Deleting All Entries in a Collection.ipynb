{
 "cells": [
  {
   "cell_type": "code",
   "execution_count": 63,
   "id": "04ca7f03",
   "metadata": {},
   "outputs": [
    {
     "data": {
      "text/plain": [
       "<pymongo.results.InsertManyResult at 0x7f021c4c2740>"
      ]
     },
     "execution_count": 63,
     "metadata": {},
     "output_type": "execute_result"
    }
   ],
   "source": [
    "from pymongo import MongoClient\n",
    "from pprint import pprint\n",
    "import json\n",
    "\n",
    "client = MongoClient(\"localhost\", 27017)\n",
    "client.drop_database(\"userData\")\n",
    "\n",
    "db = client.userData\n",
    "with open(\"users.json\") as f:\n",
    "    file_data = json.load(f)\n",
    "db.users.insert_many(file_data)\n"
   ]
  },
  {
   "cell_type": "code",
   "execution_count": 64,
   "id": "87f94dd6",
   "metadata": {},
   "outputs": [
    {
     "data": {
      "text/plain": [
       "4"
      ]
     },
     "execution_count": 64,
     "metadata": {},
     "output_type": "execute_result"
    }
   ],
   "source": [
    "len(list(db.users.find()))\n"
   ]
  },
  {
   "cell_type": "code",
   "execution_count": 65,
   "id": "48030f86",
   "metadata": {},
   "outputs": [
    {
     "data": {
      "text/plain": [
       "4"
      ]
     },
     "execution_count": 65,
     "metadata": {},
     "output_type": "execute_result"
    }
   ],
   "source": [
    "db.users.delete_many({}).deleted_count\n"
   ]
  },
  {
   "cell_type": "code",
   "execution_count": 66,
   "id": "1946a4f8",
   "metadata": {},
   "outputs": [],
   "source": [
    "for x in db.users.find():\n",
    "    pprint(x)\n"
   ]
  },
  {
   "cell_type": "code",
   "execution_count": 67,
   "id": "2dc20e2b",
   "metadata": {},
   "outputs": [
    {
     "data": {
      "text/plain": [
       "['users']"
      ]
     },
     "execution_count": 67,
     "metadata": {},
     "output_type": "execute_result"
    }
   ],
   "source": [
    "db.list_collection_names()\n"
   ]
  },
  {
   "cell_type": "code",
   "execution_count": 68,
   "id": "b03033a1",
   "metadata": {},
   "outputs": [
    {
     "data": {
      "text/plain": [
       "<pymongo.results.InsertManyResult at 0x7f021c577610>"
      ]
     },
     "execution_count": 68,
     "metadata": {},
     "output_type": "execute_result"
    }
   ],
   "source": [
    "with open(\"users.json\") as f:\n",
    "    file_data = json.load(f)\n",
    "db.users.insert_many(file_data)\n"
   ]
  },
  {
   "cell_type": "code",
   "execution_count": 69,
   "id": "1092e531",
   "metadata": {},
   "outputs": [],
   "source": [
    "db.users.drop()\n"
   ]
  },
  {
   "cell_type": "code",
   "execution_count": 70,
   "id": "ac8c3d70",
   "metadata": {},
   "outputs": [],
   "source": [
    "for x in db.users.find():\n",
    "    pprint(x)\n"
   ]
  },
  {
   "cell_type": "code",
   "execution_count": 71,
   "id": "d00c0461",
   "metadata": {},
   "outputs": [
    {
     "data": {
      "text/plain": [
       "[]"
      ]
     },
     "execution_count": 71,
     "metadata": {},
     "output_type": "execute_result"
    }
   ],
   "source": [
    "db.list_collection_names()\n"
   ]
  },
  {
   "cell_type": "code",
   "execution_count": 72,
   "id": "dc0434ef",
   "metadata": {},
   "outputs": [],
   "source": [
    "client.close()\n"
   ]
  }
 ],
 "metadata": {
  "kernelspec": {
   "display_name": "Python 3 (ipykernel)",
   "language": "python",
   "name": "python3"
  },
  "language_info": {
   "codemirror_mode": {
    "name": "ipython",
    "version": 3
   },
   "file_extension": ".py",
   "mimetype": "text/x-python",
   "name": "python",
   "nbconvert_exporter": "python",
   "pygments_lexer": "ipython3",
   "version": "3.10.6"
  }
 },
 "nbformat": 4,
 "nbformat_minor": 5
}
