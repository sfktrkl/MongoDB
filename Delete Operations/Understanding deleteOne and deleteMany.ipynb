{
 "cells": [
  {
   "cell_type": "code",
   "execution_count": 46,
   "id": "04ca7f03",
   "metadata": {},
   "outputs": [
    {
     "data": {
      "text/plain": [
       "<pymongo.results.InsertManyResult at 0x7ff75c6bf940>"
      ]
     },
     "execution_count": 46,
     "metadata": {},
     "output_type": "execute_result"
    }
   ],
   "source": [
    "from pymongo import MongoClient\n",
    "from pprint import pprint\n",
    "import json\n",
    "\n",
    "client = MongoClient(\"localhost\", 27017)\n",
    "client.drop_database(\"userData\")\n",
    "\n",
    "db = client.userData\n",
    "with open(\"users.json\") as f:\n",
    "    file_data = json.load(f)\n",
    "db.users.insert_many(file_data)\n"
   ]
  },
  {
   "cell_type": "code",
   "execution_count": 47,
   "id": "87f94dd6",
   "metadata": {},
   "outputs": [
    {
     "name": "stdout",
     "output_type": "stream",
     "text": [
      "{'_id': ObjectId('645466d649dac229718647f5'),\n",
      " 'hobbies': [{'frequency': 3, 'title': 'Sports'},\n",
      "             {'frequency': 6, 'title': 'Cooking'}],\n",
      " 'name': 'Max',\n",
      " 'phone': 131782734}\n",
      "{'_id': ObjectId('645466d649dac229718647f6'),\n",
      " 'age': 30,\n",
      " 'hobbies': [{'frequency': 5, 'title': 'Cooking'},\n",
      "             {'frequency': 2, 'title': 'Cars'}],\n",
      " 'name': 'Manuel',\n",
      " 'phone': '012177972'}\n",
      "{'_id': ObjectId('645466d649dac229718647f7'),\n",
      " 'age': None,\n",
      " 'hobbies': [{'frequency': 2, 'title': 'Sports'},\n",
      "             {'frequency': 3, 'title': 'Yoga'}],\n",
      " 'name': 'Anna',\n",
      " 'phone': '80811987291'}\n",
      "{'_id': ObjectId('645466d649dac229718647f8'),\n",
      " 'hobbies': ['Sports', 'Cooking', 'Hiking'],\n",
      " 'name': 'Chris'}\n"
     ]
    }
   ],
   "source": [
    "for x in db.users.find():\n",
    "    pprint(x)\n"
   ]
  },
  {
   "cell_type": "code",
   "execution_count": 48,
   "id": "48030f86",
   "metadata": {},
   "outputs": [
    {
     "data": {
      "text/plain": [
       "1"
      ]
     },
     "execution_count": 48,
     "metadata": {},
     "output_type": "execute_result"
    }
   ],
   "source": [
    "db.users.delete_one({\"name\": \"Max\"}).deleted_count\n"
   ]
  },
  {
   "cell_type": "code",
   "execution_count": 49,
   "id": "1092e531",
   "metadata": {},
   "outputs": [
    {
     "name": "stdout",
     "output_type": "stream",
     "text": [
      "{'_id': ObjectId('645466d649dac229718647f6'),\n",
      " 'age': 30,\n",
      " 'hobbies': [{'frequency': 5, 'title': 'Cooking'},\n",
      "             {'frequency': 2, 'title': 'Cars'}],\n",
      " 'name': 'Manuel',\n",
      " 'phone': '012177972'}\n",
      "{'_id': ObjectId('645466d649dac229718647f7'),\n",
      " 'age': None,\n",
      " 'hobbies': [{'frequency': 2, 'title': 'Sports'},\n",
      "             {'frequency': 3, 'title': 'Yoga'}],\n",
      " 'name': 'Anna',\n",
      " 'phone': '80811987291'}\n",
      "{'_id': ObjectId('645466d649dac229718647f8'),\n",
      " 'hobbies': ['Sports', 'Cooking', 'Hiking'],\n",
      " 'name': 'Chris'}\n"
     ]
    }
   ],
   "source": [
    "for x in db.users.find():\n",
    "    pprint(x)\n"
   ]
  },
  {
   "cell_type": "code",
   "execution_count": 50,
   "id": "8623371e",
   "metadata": {},
   "outputs": [
    {
     "data": {
      "text/plain": [
       "2"
      ]
     },
     "execution_count": 50,
     "metadata": {},
     "output_type": "execute_result"
    }
   ],
   "source": [
    "db.users.delete_many({\"hobbies.frequency\": 2}).deleted_count\n"
   ]
  },
  {
   "cell_type": "code",
   "execution_count": 51,
   "id": "a5120cbd",
   "metadata": {},
   "outputs": [
    {
     "name": "stdout",
     "output_type": "stream",
     "text": [
      "{'_id': ObjectId('645466d649dac229718647f8'),\n",
      " 'hobbies': ['Sports', 'Cooking', 'Hiking'],\n",
      " 'name': 'Chris'}\n"
     ]
    }
   ],
   "source": [
    "for x in db.users.find():\n",
    "    pprint(x)\n"
   ]
  },
  {
   "cell_type": "code",
   "execution_count": 52,
   "id": "dc0434ef",
   "metadata": {},
   "outputs": [],
   "source": [
    "client.close()\n"
   ]
  }
 ],
 "metadata": {
  "kernelspec": {
   "display_name": "Python 3 (ipykernel)",
   "language": "python",
   "name": "python3"
  },
  "language_info": {
   "codemirror_mode": {
    "name": "ipython",
    "version": 3
   },
   "file_extension": ".py",
   "mimetype": "text/x-python",
   "name": "python",
   "nbconvert_exporter": "python",
   "pygments_lexer": "ipython3",
   "version": "3.10.6"
  }
 },
 "nbformat": 4,
 "nbformat_minor": 5
}
