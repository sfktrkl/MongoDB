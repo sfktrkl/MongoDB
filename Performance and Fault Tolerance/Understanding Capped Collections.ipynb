{
 "cells": [
  {
   "cell_type": "code",
   "execution_count": 26,
   "id": "04ca7f03",
   "metadata": {},
   "outputs": [
    {
     "data": {
      "text/plain": [
       "['admin', 'awesomeplaces', 'config', 'local']"
      ]
     },
     "execution_count": 26,
     "metadata": {},
     "output_type": "execute_result"
    }
   ],
   "source": [
    "from pymongo import MongoClient\n",
    "from pprint import pprint\n",
    "\n",
    "client = MongoClient(\"localhost\", 27017)\n",
    "client.drop_database(\"database\")\n",
    "client.list_database_names()\n"
   ]
  },
  {
   "cell_type": "code",
   "execution_count": 27,
   "id": "0a1e598e",
   "metadata": {},
   "outputs": [
    {
     "data": {
      "text/plain": [
       "['capped']"
      ]
     },
     "execution_count": 27,
     "metadata": {},
     "output_type": "execute_result"
    }
   ],
   "source": [
    "db = client.database\n",
    "db.create_collection(\"capped\", capped=True, size=10000, max=3)\n",
    "db.list_collection_names()\n"
   ]
  },
  {
   "cell_type": "code",
   "execution_count": 28,
   "id": "88b58f8b",
   "metadata": {},
   "outputs": [
    {
     "data": {
      "text/plain": [
       "{'capped': True, 'size': 10240, 'max': 3}"
      ]
     },
     "execution_count": 28,
     "metadata": {},
     "output_type": "execute_result"
    }
   ],
   "source": [
    "db.capped.options()\n"
   ]
  },
  {
   "cell_type": "code",
   "execution_count": 29,
   "id": "a205ef15",
   "metadata": {},
   "outputs": [
    {
     "data": {
      "text/plain": [
       "<pymongo.results.InsertManyResult at 0x7fd766f5ceb0>"
      ]
     },
     "execution_count": 29,
     "metadata": {},
     "output_type": "execute_result"
    }
   ],
   "source": [
    "db.capped.insert_many([{\"name\": \"Max\"}, {\"name\": \"Manu\"}, {\"name\": \"Maria\"}])\n"
   ]
  },
  {
   "cell_type": "code",
   "execution_count": 30,
   "id": "ef60f04f",
   "metadata": {},
   "outputs": [
    {
     "name": "stdout",
     "output_type": "stream",
     "text": [
      "{'_id': ObjectId('645803d6c0449ec69501aff4'), 'name': 'Max'}\n",
      "{'_id': ObjectId('645803d6c0449ec69501aff5'), 'name': 'Manu'}\n",
      "{'_id': ObjectId('645803d6c0449ec69501aff6'), 'name': 'Maria'}\n"
     ]
    }
   ],
   "source": [
    "for x in db.capped.find():\n",
    "    pprint(x)\n"
   ]
  },
  {
   "cell_type": "code",
   "execution_count": 31,
   "id": "8e80d4e1",
   "metadata": {},
   "outputs": [
    {
     "data": {
      "text/plain": [
       "<pymongo.results.InsertOneResult at 0x7fd77cde9510>"
      ]
     },
     "execution_count": 31,
     "metadata": {},
     "output_type": "execute_result"
    }
   ],
   "source": [
    "db.capped.insert_one({\"name\": \"Anna\"})\n"
   ]
  },
  {
   "cell_type": "code",
   "execution_count": 32,
   "id": "da5004ee",
   "metadata": {},
   "outputs": [
    {
     "name": "stdout",
     "output_type": "stream",
     "text": [
      "{'_id': ObjectId('645803d6c0449ec69501aff5'), 'name': 'Manu'}\n",
      "{'_id': ObjectId('645803d6c0449ec69501aff6'), 'name': 'Maria'}\n",
      "{'_id': ObjectId('645803d6c0449ec69501aff7'), 'name': 'Anna'}\n"
     ]
    }
   ],
   "source": [
    "for x in db.capped.find():\n",
    "    pprint(x)\n"
   ]
  },
  {
   "cell_type": "code",
   "execution_count": 33,
   "id": "dc0434ef",
   "metadata": {},
   "outputs": [],
   "source": [
    "client.close()\n"
   ]
  }
 ],
 "metadata": {
  "kernelspec": {
   "display_name": "Python 3 (ipykernel)",
   "language": "python",
   "name": "python3"
  },
  "language_info": {
   "codemirror_mode": {
    "name": "ipython",
    "version": 3
   },
   "file_extension": ".py",
   "mimetype": "text/x-python",
   "name": "python",
   "nbconvert_exporter": "python",
   "pygments_lexer": "ipython3",
   "version": "3.10.6"
  }
 },
 "nbformat": 4,
 "nbformat_minor": 5
}
