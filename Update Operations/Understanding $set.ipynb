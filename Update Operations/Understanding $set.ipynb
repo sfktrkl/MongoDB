{
 "cells": [
  {
   "cell_type": "code",
   "execution_count": 1,
   "id": "04ca7f03",
   "metadata": {},
   "outputs": [
    {
     "data": {
      "text/plain": [
       "<pymongo.results.InsertManyResult at 0x7f729b410ee0>"
      ]
     },
     "execution_count": 1,
     "metadata": {},
     "output_type": "execute_result"
    }
   ],
   "source": [
    "from pymongo import MongoClient\n",
    "from pprint import pprint\n",
    "import json\n",
    "\n",
    "client = MongoClient(\"localhost\", 27017)\n",
    "client.drop_database(\"userData\")\n",
    "\n",
    "db = client.userData\n",
    "with open(\"users.json\") as f:\n",
    "    file_data = json.load(f)\n",
    "db.users.insert_many(file_data)\n"
   ]
  },
  {
   "cell_type": "code",
   "execution_count": 2,
   "id": "87f94dd6",
   "metadata": {},
   "outputs": [
    {
     "data": {
      "text/plain": [
       "{'_id': ObjectId('64545704e6173a489c3856b9'),\n",
       " 'name': 'Max',\n",
       " 'hobbies': [{'title': 'Sports', 'frequency': 3},\n",
       "  {'title': 'Cooking', 'frequency': 6}],\n",
       " 'phone': 131782734}"
      ]
     },
     "execution_count": 2,
     "metadata": {},
     "output_type": "execute_result"
    }
   ],
   "source": [
    "id = db.users.find_one()[\"_id\"]\n",
    "db.users.find_one()\n"
   ]
  },
  {
   "cell_type": "code",
   "execution_count": 3,
   "id": "48030f86",
   "metadata": {},
   "outputs": [
    {
     "data": {
      "text/plain": [
       "1"
      ]
     },
     "execution_count": 3,
     "metadata": {},
     "output_type": "execute_result"
    }
   ],
   "source": [
    "db.users.update_one(\n",
    "    {\"_id\": id},\n",
    "    {\"$set\": {\"age\": 40, \"phone\": 134751895}},\n",
    ").matched_count\n"
   ]
  },
  {
   "cell_type": "code",
   "execution_count": 4,
   "id": "0f2769bb",
   "metadata": {},
   "outputs": [
    {
     "data": {
      "text/plain": [
       "{'_id': ObjectId('64545704e6173a489c3856b9'),\n",
       " 'name': 'Max',\n",
       " 'hobbies': [{'title': 'Sports', 'frequency': 3},\n",
       "  {'title': 'Cooking', 'frequency': 6}],\n",
       " 'phone': 134751895,\n",
       " 'age': 40}"
      ]
     },
     "execution_count": 4,
     "metadata": {},
     "output_type": "execute_result"
    }
   ],
   "source": [
    "db.users.find_one()\n"
   ]
  },
  {
   "cell_type": "code",
   "execution_count": 8,
   "id": "dc0434ef",
   "metadata": {},
   "outputs": [],
   "source": [
    "client.close()\n"
   ]
  }
 ],
 "metadata": {
  "kernelspec": {
   "display_name": "Python 3 (ipykernel)",
   "language": "python",
   "name": "python3"
  },
  "language_info": {
   "codemirror_mode": {
    "name": "ipython",
    "version": 3
   },
   "file_extension": ".py",
   "mimetype": "text/x-python",
   "name": "python",
   "nbconvert_exporter": "python",
   "pygments_lexer": "ipython3",
   "version": "3.10.6"
  }
 },
 "nbformat": 4,
 "nbformat_minor": 5
}
