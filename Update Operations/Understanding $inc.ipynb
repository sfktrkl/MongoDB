{
 "cells": [
  {
   "cell_type": "code",
   "execution_count": 29,
   "id": "04ca7f03",
   "metadata": {},
   "outputs": [
    {
     "data": {
      "text/plain": [
       "<pymongo.results.InsertManyResult at 0x7f81684d8760>"
      ]
     },
     "execution_count": 29,
     "metadata": {},
     "output_type": "execute_result"
    }
   ],
   "source": [
    "from pymongo import MongoClient\n",
    "from pprint import pprint\n",
    "import json\n",
    "\n",
    "client = MongoClient(\"localhost\", 27017)\n",
    "client.drop_database(\"userData\")\n",
    "\n",
    "db = client.userData\n",
    "with open(\"users.json\") as f:\n",
    "    file_data = json.load(f)\n",
    "db.users.insert_many(file_data)\n"
   ]
  },
  {
   "cell_type": "code",
   "execution_count": 30,
   "id": "87f94dd6",
   "metadata": {},
   "outputs": [
    {
     "data": {
      "text/plain": [
       "{'_id': ObjectId('645457fc3ca91095873e01c7'),\n",
       " 'name': 'Max',\n",
       " 'hobbies': [{'title': 'Sports', 'frequency': 3},\n",
       "  {'title': 'Cooking', 'frequency': 6}],\n",
       " 'phone': 131782734}"
      ]
     },
     "execution_count": 30,
     "metadata": {},
     "output_type": "execute_result"
    }
   ],
   "source": [
    "id = db.users.find_one()[\"_id\"]\n",
    "db.users.find_one()\n"
   ]
  },
  {
   "cell_type": "code",
   "execution_count": 31,
   "id": "48030f86",
   "metadata": {},
   "outputs": [
    {
     "data": {
      "text/plain": [
       "1"
      ]
     },
     "execution_count": 31,
     "metadata": {},
     "output_type": "execute_result"
    }
   ],
   "source": [
    "db.users.update_one({\"_id\": id}, {\"$inc\": {\"phone\": 1}}).matched_count\n"
   ]
  },
  {
   "cell_type": "code",
   "execution_count": 32,
   "id": "0f2769bb",
   "metadata": {},
   "outputs": [
    {
     "data": {
      "text/plain": [
       "{'_id': ObjectId('645457fc3ca91095873e01c7'),\n",
       " 'name': 'Max',\n",
       " 'hobbies': [{'title': 'Sports', 'frequency': 3},\n",
       "  {'title': 'Cooking', 'frequency': 6}],\n",
       " 'phone': 131782735}"
      ]
     },
     "execution_count": 32,
     "metadata": {},
     "output_type": "execute_result"
    }
   ],
   "source": [
    "db.users.find_one()\n"
   ]
  },
  {
   "cell_type": "code",
   "execution_count": 33,
   "id": "19a17788",
   "metadata": {},
   "outputs": [
    {
     "data": {
      "text/plain": [
       "1"
      ]
     },
     "execution_count": 33,
     "metadata": {},
     "output_type": "execute_result"
    }
   ],
   "source": [
    "db.users.update_one({\"_id\": id}, {\"$inc\": {\"phone\": -1}}).matched_count\n"
   ]
  },
  {
   "cell_type": "code",
   "execution_count": 34,
   "id": "f2c5cedd",
   "metadata": {},
   "outputs": [
    {
     "data": {
      "text/plain": [
       "{'_id': ObjectId('645457fc3ca91095873e01c7'),\n",
       " 'name': 'Max',\n",
       " 'hobbies': [{'title': 'Sports', 'frequency': 3},\n",
       "  {'title': 'Cooking', 'frequency': 6}],\n",
       " 'phone': 131782734}"
      ]
     },
     "execution_count": 34,
     "metadata": {},
     "output_type": "execute_result"
    }
   ],
   "source": [
    "db.users.find_one()\n"
   ]
  },
  {
   "cell_type": "code",
   "execution_count": 35,
   "id": "d84eada0",
   "metadata": {},
   "outputs": [
    {
     "data": {
      "text/plain": [
       "1"
      ]
     },
     "execution_count": 35,
     "metadata": {},
     "output_type": "execute_result"
    }
   ],
   "source": [
    "db.users.update_one(\n",
    "    {\"_id\": id}, {\"$inc\": {\"phone\": -1}, \"$set\": {\"sporty\": True}}\n",
    ").matched_count\n"
   ]
  },
  {
   "cell_type": "code",
   "execution_count": 36,
   "id": "b3d06208",
   "metadata": {},
   "outputs": [
    {
     "data": {
      "text/plain": [
       "{'_id': ObjectId('645457fc3ca91095873e01c7'),\n",
       " 'name': 'Max',\n",
       " 'hobbies': [{'title': 'Sports', 'frequency': 3},\n",
       "  {'title': 'Cooking', 'frequency': 6}],\n",
       " 'phone': 131782733,\n",
       " 'sporty': True}"
      ]
     },
     "execution_count": 36,
     "metadata": {},
     "output_type": "execute_result"
    }
   ],
   "source": [
    "db.users.find_one()\n"
   ]
  },
  {
   "cell_type": "code",
   "execution_count": 37,
   "id": "dc0434ef",
   "metadata": {},
   "outputs": [],
   "source": [
    "client.close()\n"
   ]
  }
 ],
 "metadata": {
  "kernelspec": {
   "display_name": "Python 3 (ipykernel)",
   "language": "python",
   "name": "python3"
  },
  "language_info": {
   "codemirror_mode": {
    "name": "ipython",
    "version": 3
   },
   "file_extension": ".py",
   "mimetype": "text/x-python",
   "name": "python",
   "nbconvert_exporter": "python",
   "pygments_lexer": "ipython3",
   "version": "3.10.6"
  }
 },
 "nbformat": 4,
 "nbformat_minor": 5
}
