{
 "cells": [
  {
   "cell_type": "code",
   "execution_count": 44,
   "id": "04ca7f03",
   "metadata": {},
   "outputs": [
    {
     "data": {
      "text/plain": [
       "<pymongo.results.InsertManyResult at 0x7fea1cc5fc70>"
      ]
     },
     "execution_count": 44,
     "metadata": {},
     "output_type": "execute_result"
    }
   ],
   "source": [
    "from pymongo import MongoClient\n",
    "from pprint import pprint\n",
    "import json\n",
    "\n",
    "client = MongoClient(\"localhost\", 27017)\n",
    "client.drop_database(\"userData\")\n",
    "\n",
    "db = client.userData\n",
    "with open(\"users.json\") as f:\n",
    "    file_data = json.load(f)\n",
    "db.users.insert_many(file_data)\n"
   ]
  },
  {
   "cell_type": "code",
   "execution_count": 45,
   "id": "87f94dd6",
   "metadata": {},
   "outputs": [
    {
     "name": "stdout",
     "output_type": "stream",
     "text": [
      "[{'frequency': 3, 'title': 'Sports'}, {'frequency': 6, 'title': 'Cooking'}]\n",
      "[{'frequency': 5, 'title': 'Cooking'}, {'frequency': 2, 'title': 'Cars'}]\n",
      "[{'frequency': 2, 'title': 'Sports'}, {'frequency': 3, 'title': 'Yoga'}]\n",
      "['Sports', 'Cooking', 'Hiking']\n"
     ]
    }
   ],
   "source": [
    "for x in db.users.find():\n",
    "    pprint(x[\"hobbies\"])\n"
   ]
  },
  {
   "cell_type": "code",
   "execution_count": 46,
   "id": "48030f86",
   "metadata": {},
   "outputs": [
    {
     "data": {
      "text/plain": [
       "<pymongo.results.UpdateResult at 0x7fea1cc5f970>"
      ]
     },
     "execution_count": 46,
     "metadata": {},
     "output_type": "execute_result"
    }
   ],
   "source": [
    "db.users.update_many(\n",
    "    {\"hobbies.frequency\": {\"$gt\": 5}}, {\"$set\": {\"hobbies.$[].high_frequency\": True}}\n",
    ")\n"
   ]
  },
  {
   "cell_type": "code",
   "execution_count": 47,
   "id": "0f2769bb",
   "metadata": {},
   "outputs": [
    {
     "name": "stdout",
     "output_type": "stream",
     "text": [
      "[{'frequency': 3, 'high_frequency': True, 'title': 'Sports'},\n",
      " {'frequency': 6, 'high_frequency': True, 'title': 'Cooking'}]\n",
      "[{'frequency': 5, 'title': 'Cooking'}, {'frequency': 2, 'title': 'Cars'}]\n",
      "[{'frequency': 2, 'title': 'Sports'}, {'frequency': 3, 'title': 'Yoga'}]\n",
      "['Sports', 'Cooking', 'Hiking']\n"
     ]
    }
   ],
   "source": [
    "for x in db.users.find():\n",
    "    pprint(x[\"hobbies\"])\n"
   ]
  },
  {
   "cell_type": "code",
   "execution_count": 48,
   "id": "dc0434ef",
   "metadata": {},
   "outputs": [],
   "source": [
    "client.close()\n"
   ]
  }
 ],
 "metadata": {
  "kernelspec": {
   "display_name": "Python 3 (ipykernel)",
   "language": "python",
   "name": "python3"
  },
  "language_info": {
   "codemirror_mode": {
    "name": "ipython",
    "version": 3
   },
   "file_extension": ".py",
   "mimetype": "text/x-python",
   "name": "python",
   "nbconvert_exporter": "python",
   "pygments_lexer": "ipython3",
   "version": "3.10.6"
  }
 },
 "nbformat": 4,
 "nbformat_minor": 5
}
