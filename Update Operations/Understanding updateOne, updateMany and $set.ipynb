{
 "cells": [
  {
   "cell_type": "code",
   "execution_count": 41,
   "id": "04ca7f03",
   "metadata": {},
   "outputs": [
    {
     "data": {
      "text/plain": [
       "<pymongo.results.InsertManyResult at 0x7f5ec41975e0>"
      ]
     },
     "execution_count": 41,
     "metadata": {},
     "output_type": "execute_result"
    }
   ],
   "source": [
    "from pymongo import MongoClient\n",
    "from pprint import pprint\n",
    "import json\n",
    "\n",
    "client = MongoClient(\"localhost\", 27017)\n",
    "client.drop_database(\"userData\")\n",
    "\n",
    "db = client.userData\n",
    "with open(\"users.json\") as f:\n",
    "    file_data = json.load(f)\n",
    "db.users.insert_many(file_data)\n"
   ]
  },
  {
   "cell_type": "code",
   "execution_count": 42,
   "id": "87f94dd6",
   "metadata": {},
   "outputs": [
    {
     "data": {
      "text/plain": [
       "{'_id': ObjectId('64545668ca24dde51ab38b07'),\n",
       " 'name': 'Max',\n",
       " 'hobbies': [{'title': 'Sports', 'frequency': 3},\n",
       "  {'title': 'Cooking', 'frequency': 6}],\n",
       " 'phone': 131782734}"
      ]
     },
     "execution_count": 42,
     "metadata": {},
     "output_type": "execute_result"
    }
   ],
   "source": [
    "id = db.users.find_one()[\"_id\"]\n",
    "db.users.find_one()\n"
   ]
  },
  {
   "cell_type": "code",
   "execution_count": 43,
   "id": "48030f86",
   "metadata": {},
   "outputs": [
    {
     "data": {
      "text/plain": [
       "1"
      ]
     },
     "execution_count": 43,
     "metadata": {},
     "output_type": "execute_result"
    }
   ],
   "source": [
    "db.users.update_one(\n",
    "    {\"_id\": id},\n",
    "    {\n",
    "        \"$set\": {\n",
    "            \"hobbies\": [\n",
    "                {\"title\": \"Sports\", \"frequency\": \"6\"},\n",
    "                {\"title\": \"Cooking\", \"frequency\": 2},\n",
    "            ]\n",
    "        }\n",
    "    },\n",
    ").matched_count\n"
   ]
  },
  {
   "cell_type": "code",
   "execution_count": 44,
   "id": "0f2769bb",
   "metadata": {},
   "outputs": [
    {
     "data": {
      "text/plain": [
       "{'_id': ObjectId('64545668ca24dde51ab38b07'),\n",
       " 'name': 'Max',\n",
       " 'hobbies': [{'title': 'Sports', 'frequency': '6'},\n",
       "  {'title': 'Cooking', 'frequency': 2}],\n",
       " 'phone': 131782734}"
      ]
     },
     "execution_count": 44,
     "metadata": {},
     "output_type": "execute_result"
    }
   ],
   "source": [
    "db.users.find_one()\n"
   ]
  },
  {
   "cell_type": "code",
   "execution_count": 45,
   "id": "69dbeefa",
   "metadata": {},
   "outputs": [
    {
     "name": "stdout",
     "output_type": "stream",
     "text": [
      "{'_id': ObjectId('64545668ca24dde51ab38b07'),\n",
      " 'hobbies': [{'frequency': '6', 'title': 'Sports'},\n",
      "             {'frequency': 2, 'title': 'Cooking'}],\n",
      " 'name': 'Max',\n",
      " 'phone': 131782734}\n",
      "{'_id': ObjectId('64545668ca24dde51ab38b09'),\n",
      " 'age': None,\n",
      " 'hobbies': [{'frequency': 2, 'title': 'Sports'},\n",
      "             {'frequency': 3, 'title': 'Yoga'}],\n",
      " 'name': 'Anna',\n",
      " 'phone': '80811987291'}\n"
     ]
    }
   ],
   "source": [
    "for x in db.users.find({\"hobbies.title\": \"Sports\"}):\n",
    "    pprint(x)\n"
   ]
  },
  {
   "cell_type": "code",
   "execution_count": 46,
   "id": "2069ce78",
   "metadata": {},
   "outputs": [
    {
     "data": {
      "text/plain": [
       "<pymongo.results.UpdateResult at 0x7f5ec42f3c40>"
      ]
     },
     "execution_count": 46,
     "metadata": {},
     "output_type": "execute_result"
    }
   ],
   "source": [
    "db.users.update_many({\"hobbies.title\": \"Sports\"}, {\"$set\": {\"isSporty\": True}})\n"
   ]
  },
  {
   "cell_type": "code",
   "execution_count": 47,
   "id": "868fc8a9",
   "metadata": {},
   "outputs": [
    {
     "name": "stdout",
     "output_type": "stream",
     "text": [
      "{'_id': ObjectId('64545668ca24dde51ab38b07'),\n",
      " 'hobbies': [{'frequency': '6', 'title': 'Sports'},\n",
      "             {'frequency': 2, 'title': 'Cooking'}],\n",
      " 'isSporty': True,\n",
      " 'name': 'Max',\n",
      " 'phone': 131782734}\n",
      "{'_id': ObjectId('64545668ca24dde51ab38b09'),\n",
      " 'age': None,\n",
      " 'hobbies': [{'frequency': 2, 'title': 'Sports'},\n",
      "             {'frequency': 3, 'title': 'Yoga'}],\n",
      " 'isSporty': True,\n",
      " 'name': 'Anna',\n",
      " 'phone': '80811987291'}\n"
     ]
    }
   ],
   "source": [
    "for x in db.users.find({\"hobbies.title\": \"Sports\"}):\n",
    "    pprint(x)\n"
   ]
  },
  {
   "cell_type": "code",
   "execution_count": 48,
   "id": "dc0434ef",
   "metadata": {},
   "outputs": [],
   "source": [
    "client.close()\n"
   ]
  }
 ],
 "metadata": {
  "kernelspec": {
   "display_name": "Python 3 (ipykernel)",
   "language": "python",
   "name": "python3"
  },
  "language_info": {
   "codemirror_mode": {
    "name": "ipython",
    "version": 3
   },
   "file_extension": ".py",
   "mimetype": "text/x-python",
   "name": "python",
   "nbconvert_exporter": "python",
   "pygments_lexer": "ipython3",
   "version": "3.10.6"
  }
 },
 "nbformat": 4,
 "nbformat_minor": 5
}
