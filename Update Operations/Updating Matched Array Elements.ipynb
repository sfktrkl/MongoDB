{
 "cells": [
  {
   "cell_type": "code",
   "execution_count": 30,
   "id": "04ca7f03",
   "metadata": {},
   "outputs": [
    {
     "data": {
      "text/plain": [
       "<pymongo.results.InsertManyResult at 0x7f0a246864a0>"
      ]
     },
     "execution_count": 30,
     "metadata": {},
     "output_type": "execute_result"
    }
   ],
   "source": [
    "from pymongo import MongoClient\n",
    "from pprint import pprint\n",
    "import json\n",
    "\n",
    "client = MongoClient(\"localhost\", 27017)\n",
    "client.drop_database(\"userData\")\n",
    "\n",
    "db = client.userData\n",
    "with open(\"users.json\") as f:\n",
    "    file_data = json.load(f)\n",
    "db.users.insert_many(file_data)\n"
   ]
  },
  {
   "cell_type": "code",
   "execution_count": 31,
   "id": "87f94dd6",
   "metadata": {},
   "outputs": [
    {
     "name": "stdout",
     "output_type": "stream",
     "text": [
      "{'_id': ObjectId('64545c598a2fffcdb1f835a3'),\n",
      " 'hobbies': [{'frequency': 3, 'title': 'Sports'},\n",
      "             {'frequency': 6, 'title': 'Cooking'}],\n",
      " 'name': 'Max',\n",
      " 'phone': 131782734}\n",
      "{'_id': ObjectId('64545c598a2fffcdb1f835a5'),\n",
      " 'age': None,\n",
      " 'hobbies': [{'frequency': 2, 'title': 'Sports'},\n",
      "             {'frequency': 3, 'title': 'Yoga'}],\n",
      " 'name': 'Anna',\n",
      " 'phone': '80811987291'}\n"
     ]
    }
   ],
   "source": [
    "for x in db.users.find(\n",
    "    {\"hobbies\": {\"$elemMatch\": {\"title\": \"Sports\", \"frequency\": {\"$gte\": 2}}}}\n",
    "):\n",
    "    pprint(x)\n"
   ]
  },
  {
   "cell_type": "code",
   "execution_count": 32,
   "id": "48030f86",
   "metadata": {},
   "outputs": [
    {
     "data": {
      "text/plain": [
       "<pymongo.results.UpdateResult at 0x7f0a24475960>"
      ]
     },
     "execution_count": 32,
     "metadata": {},
     "output_type": "execute_result"
    }
   ],
   "source": [
    "db.users.update_many(\n",
    "    {\"hobbies\": {\"$elemMatch\": {\"title\": \"Sports\", \"frequency\": {\"$gte\": 2}}}},\n",
    "    {\"$set\": {\"hobbies.$.high_frequency\": True}},\n",
    ")\n"
   ]
  },
  {
   "cell_type": "code",
   "execution_count": 33,
   "id": "0f2769bb",
   "metadata": {},
   "outputs": [
    {
     "name": "stdout",
     "output_type": "stream",
     "text": [
      "[{'frequency': 3, 'high_frequency': True, 'title': 'Sports'},\n",
      " {'frequency': 6, 'title': 'Cooking'}]\n",
      "[{'frequency': 5, 'title': 'Cooking'}, {'frequency': 2, 'title': 'Cars'}]\n",
      "[{'frequency': 2, 'high_frequency': True, 'title': 'Sports'},\n",
      " {'frequency': 3, 'title': 'Yoga'}]\n",
      "['Sports', 'Cooking', 'Hiking']\n"
     ]
    }
   ],
   "source": [
    "for x in db.users.find():\n",
    "    pprint(x[\"hobbies\"])"
   ]
  },
  {
   "cell_type": "code",
   "execution_count": 34,
   "id": "dc0434ef",
   "metadata": {},
   "outputs": [],
   "source": [
    "client.close()\n"
   ]
  }
 ],
 "metadata": {
  "kernelspec": {
   "display_name": "Python 3 (ipykernel)",
   "language": "python",
   "name": "python3"
  },
  "language_info": {
   "codemirror_mode": {
    "name": "ipython",
    "version": 3
   },
   "file_extension": ".py",
   "mimetype": "text/x-python",
   "name": "python",
   "nbconvert_exporter": "python",
   "pygments_lexer": "ipython3",
   "version": "3.10.6"
  }
 },
 "nbformat": 4,
 "nbformat_minor": 5
}
