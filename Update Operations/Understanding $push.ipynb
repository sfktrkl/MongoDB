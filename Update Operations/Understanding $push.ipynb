{
 "cells": [
  {
   "cell_type": "code",
   "execution_count": 57,
   "id": "04ca7f03",
   "metadata": {},
   "outputs": [
    {
     "data": {
      "text/plain": [
       "<pymongo.results.InsertManyResult at 0x7f0f69a05ed0>"
      ]
     },
     "execution_count": 57,
     "metadata": {},
     "output_type": "execute_result"
    }
   ],
   "source": [
    "from pymongo import MongoClient\n",
    "from pprint import pprint\n",
    "import json\n",
    "\n",
    "client = MongoClient(\"localhost\", 27017)\n",
    "client.drop_database(\"userData\")\n",
    "\n",
    "db = client.userData\n",
    "with open(\"users.json\") as f:\n",
    "    file_data = json.load(f)\n",
    "db.users.insert_many(file_data)\n"
   ]
  },
  {
   "cell_type": "code",
   "execution_count": 58,
   "id": "87f94dd6",
   "metadata": {},
   "outputs": [
    {
     "data": {
      "text/plain": [
       "{'_id': ObjectId('6454626d569ad5beab571040'),\n",
       " 'name': 'Max',\n",
       " 'hobbies': [{'title': 'Sports', 'frequency': 3},\n",
       "  {'title': 'Cooking', 'frequency': 6}],\n",
       " 'phone': 131782734}"
      ]
     },
     "execution_count": 58,
     "metadata": {},
     "output_type": "execute_result"
    }
   ],
   "source": [
    "db.users.find_one({\"name\": \"Max\"})\n"
   ]
  },
  {
   "cell_type": "code",
   "execution_count": 59,
   "id": "48030f86",
   "metadata": {},
   "outputs": [
    {
     "data": {
      "text/plain": [
       "1"
      ]
     },
     "execution_count": 59,
     "metadata": {},
     "output_type": "execute_result"
    }
   ],
   "source": [
    "db.users.update_one(\n",
    "    {\"name\": \"Max\"}, {\"$push\": {\"hobbies\": {\"title\": \"Cars\", \"frequency\": 3}}}\n",
    ").matched_count\n"
   ]
  },
  {
   "cell_type": "code",
   "execution_count": 60,
   "id": "0f2769bb",
   "metadata": {},
   "outputs": [
    {
     "data": {
      "text/plain": [
       "{'_id': ObjectId('6454626d569ad5beab571040'),\n",
       " 'name': 'Max',\n",
       " 'hobbies': [{'title': 'Sports', 'frequency': 3},\n",
       "  {'title': 'Cooking', 'frequency': 6},\n",
       "  {'title': 'Cars', 'frequency': 3}],\n",
       " 'phone': 131782734}"
      ]
     },
     "execution_count": 60,
     "metadata": {},
     "output_type": "execute_result"
    }
   ],
   "source": [
    "db.users.find_one({\"name\": \"Max\"})\n"
   ]
  },
  {
   "cell_type": "code",
   "execution_count": 61,
   "id": "ababa8db",
   "metadata": {},
   "outputs": [
    {
     "data": {
      "text/plain": [
       "1"
      ]
     },
     "execution_count": 61,
     "metadata": {},
     "output_type": "execute_result"
    }
   ],
   "source": [
    "db.users.update_one(\n",
    "    {\"name\": \"Max\"},\n",
    "    {\n",
    "        \"$push\": {\n",
    "            \"hobbies\": {\n",
    "                \"$each\": [\n",
    "                    {\"title\": \"Books\", \"frequency\": 7},\n",
    "                    {\"title\": \"Movies\", \"frequency\": 1},\n",
    "                ],\n",
    "                \"$sort\": {\"frequency\": -1},\n",
    "                \"$slice\": 3\n",
    "            }\n",
    "        }\n",
    "    },\n",
    ").matched_count\n"
   ]
  },
  {
   "cell_type": "code",
   "execution_count": 62,
   "id": "4fba92eb",
   "metadata": {},
   "outputs": [
    {
     "data": {
      "text/plain": [
       "{'_id': ObjectId('6454626d569ad5beab571040'),\n",
       " 'name': 'Max',\n",
       " 'hobbies': [{'title': 'Books', 'frequency': 7},\n",
       "  {'title': 'Cooking', 'frequency': 6},\n",
       "  {'title': 'Sports', 'frequency': 3}],\n",
       " 'phone': 131782734}"
      ]
     },
     "execution_count": 62,
     "metadata": {},
     "output_type": "execute_result"
    }
   ],
   "source": [
    "db.users.find_one({\"name\": \"Max\"})\n"
   ]
  },
  {
   "cell_type": "code",
   "execution_count": 63,
   "id": "dc0434ef",
   "metadata": {},
   "outputs": [],
   "source": [
    "client.close()\n"
   ]
  }
 ],
 "metadata": {
  "kernelspec": {
   "display_name": "Python 3 (ipykernel)",
   "language": "python",
   "name": "python3"
  },
  "language_info": {
   "codemirror_mode": {
    "name": "ipython",
    "version": 3
   },
   "file_extension": ".py",
   "mimetype": "text/x-python",
   "name": "python",
   "nbconvert_exporter": "python",
   "pygments_lexer": "ipython3",
   "version": "3.10.6"
  }
 },
 "nbformat": 4,
 "nbformat_minor": 5
}
