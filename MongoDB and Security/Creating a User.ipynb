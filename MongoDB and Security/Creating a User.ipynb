{
 "cells": [
  {
   "cell_type": "code",
   "execution_count": 79,
   "id": "04ca7f03",
   "metadata": {},
   "outputs": [],
   "source": [
    "from pymongo import MongoClient\n",
    "from pprint import pprint\n",
    "\n",
    "client = MongoClient(\"localhost\", 27017)\n"
   ]
  },
  {
   "cell_type": "code",
   "execution_count": 80,
   "id": "0a1e598e",
   "metadata": {},
   "outputs": [
    {
     "data": {
      "text/plain": [
       "{'ok': 1.0}"
      ]
     },
     "execution_count": 80,
     "metadata": {},
     "output_type": "execute_result"
    }
   ],
   "source": [
    "db = client.admin\n",
    "db.command(\"createUser\", \"test\", pwd=\"test\", roles=[\"userAdminAnyDatabase\"])\n"
   ]
  },
  {
   "cell_type": "code",
   "execution_count": 81,
   "id": "f9d17c8b",
   "metadata": {},
   "outputs": [
    {
     "name": "stdout",
     "output_type": "stream",
     "text": [
      "OperationFailure(\"Authentication failed., full error: {'ok': 0.0, 'errmsg': 'Authentication failed.', 'code': 18, 'codeName': 'AuthenticationFailed'}\")\n"
     ]
    }
   ],
   "source": [
    "client = MongoClient(\"localhost\", 27017, username=\"user\", password=\"pw\")\n",
    "try:\n",
    "    client.database.collection.find_one()\n",
    "except Exception as e:\n",
    "    pprint(e)\n"
   ]
  },
  {
   "cell_type": "code",
   "execution_count": 82,
   "id": "b9b9d65c",
   "metadata": {},
   "outputs": [],
   "source": [
    "client = MongoClient(\"localhost\", 27017, username=\"test\", password=\"test\")\n",
    "client.database.collection.find_one()\n"
   ]
  },
  {
   "cell_type": "code",
   "execution_count": 83,
   "id": "88b58f8b",
   "metadata": {},
   "outputs": [
    {
     "data": {
      "text/plain": [
       "{'ok': 1.0}"
      ]
     },
     "execution_count": 83,
     "metadata": {},
     "output_type": "execute_result"
    }
   ],
   "source": [
    "db.command(\"dropUser\", \"Test\")\n"
   ]
  },
  {
   "cell_type": "code",
   "execution_count": 84,
   "id": "dc0434ef",
   "metadata": {},
   "outputs": [],
   "source": [
    "client.close()\n"
   ]
  }
 ],
 "metadata": {
  "kernelspec": {
   "display_name": "Python 3 (ipykernel)",
   "language": "python",
   "name": "python3"
  },
  "language_info": {
   "codemirror_mode": {
    "name": "ipython",
    "version": 3
   },
   "file_extension": ".py",
   "mimetype": "text/x-python",
   "name": "python",
   "nbconvert_exporter": "python",
   "pygments_lexer": "ipython3",
   "version": "3.10.6"
  }
 },
 "nbformat": 4,
 "nbformat_minor": 5
}
