{
 "cells": [
  {
   "cell_type": "code",
   "execution_count": 15,
   "id": "04ca7f03",
   "metadata": {},
   "outputs": [],
   "source": [
    "from pymongo import MongoClient\n",
    "from pprint import pprint\n",
    "\n",
    "client = MongoClient(\"localhost\", 27017)\n"
   ]
  },
  {
   "cell_type": "code",
   "execution_count": 16,
   "id": "0a1e598e",
   "metadata": {},
   "outputs": [
    {
     "data": {
      "text/plain": [
       "{'ok': 1.0}"
      ]
     },
     "execution_count": 16,
     "metadata": {},
     "output_type": "execute_result"
    }
   ],
   "source": [
    "db = client.admin\n",
    "db.command(\n",
    "    \"createUser\", \"test\", pwd=\"test\", roles=[{\"role\": \"readWrite\", \"db\": \"database\"}]\n",
    ")\n"
   ]
  },
  {
   "cell_type": "code",
   "execution_count": 17,
   "id": "f9d17c8b",
   "metadata": {},
   "outputs": [],
   "source": [
    "client = MongoClient(\"localhost\", 27017, username=\"test\", password=\"test\")\n",
    "client.database.collection.find_one()\n"
   ]
  },
  {
   "cell_type": "code",
   "execution_count": 18,
   "id": "f2e17d75",
   "metadata": {},
   "outputs": [
    {
     "data": {
      "text/plain": [
       "{'ok': 1.0}"
      ]
     },
     "execution_count": 18,
     "metadata": {},
     "output_type": "execute_result"
    }
   ],
   "source": [
    "db.command(\"updateUser\", \"test\", roles=[{\"role\": \"readWrite\", \"db\": \"database2\"}])\n"
   ]
  },
  {
   "cell_type": "code",
   "execution_count": 19,
   "id": "49aaba95",
   "metadata": {},
   "outputs": [],
   "source": [
    "client.database2.collection.find_one()\n"
   ]
  },
  {
   "cell_type": "code",
   "execution_count": 20,
   "id": "88b58f8b",
   "metadata": {},
   "outputs": [
    {
     "data": {
      "text/plain": [
       "{'ok': 1.0}"
      ]
     },
     "execution_count": 20,
     "metadata": {},
     "output_type": "execute_result"
    }
   ],
   "source": [
    "db.command(\"dropUser\", \"test\")\n"
   ]
  },
  {
   "cell_type": "code",
   "execution_count": 21,
   "id": "dc0434ef",
   "metadata": {},
   "outputs": [],
   "source": [
    "client.close()\n"
   ]
  }
 ],
 "metadata": {
  "kernelspec": {
   "display_name": "Python 3 (ipykernel)",
   "language": "python",
   "name": "python3"
  },
  "language_info": {
   "codemirror_mode": {
    "name": "ipython",
    "version": 3
   },
   "file_extension": ".py",
   "mimetype": "text/x-python",
   "name": "python",
   "nbconvert_exporter": "python",
   "pygments_lexer": "ipython3",
   "version": "3.10.6"
  }
 },
 "nbformat": 4,
 "nbformat_minor": 5
}
