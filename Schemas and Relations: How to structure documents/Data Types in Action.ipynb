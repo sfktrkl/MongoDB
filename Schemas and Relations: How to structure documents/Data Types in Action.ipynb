{
 "cells": [
  {
   "cell_type": "code",
   "execution_count": 237,
   "id": "04ca7f03",
   "metadata": {},
   "outputs": [
    {
     "data": {
      "text/plain": [
       "['admin', 'config', 'flights', 'local', 'shop']"
      ]
     },
     "execution_count": 237,
     "metadata": {},
     "output_type": "execute_result"
    }
   ],
   "source": [
    "from pymongo import MongoClient\n",
    "from pprint import pprint\n",
    "import datetime\n",
    "import bson\n",
    "\n",
    "client = MongoClient(\"localhost\", 27017)\n",
    "client.drop_database(\"company\")\n",
    "client.list_database_names()\n"
   ]
  },
  {
   "cell_type": "code",
   "execution_count": 238,
   "id": "0a1e598e",
   "metadata": {},
   "outputs": [
    {
     "data": {
      "text/plain": [
       "[]"
      ]
     },
     "execution_count": 238,
     "metadata": {},
     "output_type": "execute_result"
    }
   ],
   "source": [
    "db = client.company\n",
    "db.list_collection_names()\n"
   ]
  },
  {
   "cell_type": "code",
   "execution_count": 239,
   "id": "88b58f8b",
   "metadata": {},
   "outputs": [],
   "source": [
    "for x in db.companies.find():\n",
    "    pprint(x)\n"
   ]
  },
  {
   "cell_type": "code",
   "execution_count": 240,
   "id": "5e1cefae",
   "metadata": {},
   "outputs": [
    {
     "data": {
      "text/plain": [
       "ObjectId('644feff65e1ca4db299169ad')"
      ]
     },
     "execution_count": 240,
     "metadata": {},
     "output_type": "execute_result"
    }
   ],
   "source": [
    "db.companies.insert_one(\n",
    "    {\n",
    "        \"name\": \"Fresh Apples Inc.\",\n",
    "        \"isStartup\": True,\n",
    "        \"employees\": 33,\n",
    "        \"funding\": 1234567890123456700,\n",
    "        \"details\": {\"ceo\": \"Mark Super\"},\n",
    "        \"tags\": [{\"title\": \"super\"}, {\"title\": \"perfect\"}],\n",
    "        \"foundingData\": datetime.datetime.now(),\n",
    "        \"insertedAt\": bson.Timestamp(datetime.datetime.now(), 1),\n",
    "    }\n",
    ").inserted_id\n"
   ]
  },
  {
   "cell_type": "code",
   "execution_count": 241,
   "id": "f93e9329",
   "metadata": {},
   "outputs": [
    {
     "data": {
      "text/plain": [
       "{'_id': ObjectId('644feff65e1ca4db299169ad'),\n",
       " 'name': 'Fresh Apples Inc.',\n",
       " 'isStartup': True,\n",
       " 'employees': 33,\n",
       " 'funding': 1234567890123456700,\n",
       " 'details': {'ceo': 'Mark Super'},\n",
       " 'tags': [{'title': 'super'}, {'title': 'perfect'}],\n",
       " 'foundingData': datetime.datetime(2023, 5, 1, 19, 59, 34, 291000),\n",
       " 'insertedAt': Timestamp(1682971174, 1)}"
      ]
     },
     "execution_count": 241,
     "metadata": {},
     "output_type": "execute_result"
    }
   ],
   "source": [
    "db.companies.find_one({})\n"
   ]
  },
  {
   "attachments": {},
   "cell_type": "markdown",
   "id": "8bb043d5",
   "metadata": {},
   "source": [
    "### Numbers\n"
   ]
  },
  {
   "cell_type": "code",
   "execution_count": 242,
   "id": "c84dbea3",
   "metadata": {},
   "outputs": [
    {
     "data": {
      "text/plain": [
       "{'nIndexesWas': 1, 'ns': 'company.companies', 'ok': 1.0}"
      ]
     },
     "execution_count": 242,
     "metadata": {},
     "output_type": "execute_result"
    }
   ],
   "source": [
    "db.drop_collection(\"companies\")\n"
   ]
  },
  {
   "cell_type": "code",
   "execution_count": 243,
   "id": "2ad02e1a",
   "metadata": {},
   "outputs": [
    {
     "data": {
      "text/plain": [
       "int"
      ]
     },
     "execution_count": 243,
     "metadata": {},
     "output_type": "execute_result"
    }
   ],
   "source": [
    "db.numbers.insert_one({\"a\": 1})\n",
    "type(db.numbers.find_one({})[\"a\"])\n"
   ]
  },
  {
   "cell_type": "code",
   "execution_count": 244,
   "id": "f995c579",
   "metadata": {},
   "outputs": [
    {
     "data": {
      "text/plain": [
       "29.0"
      ]
     },
     "execution_count": 244,
     "metadata": {},
     "output_type": "execute_result"
    }
   ],
   "source": [
    "db.command(\"dbstats\")[\"dataSize\"]\n"
   ]
  },
  {
   "cell_type": "code",
   "execution_count": 245,
   "id": "56b67130",
   "metadata": {},
   "outputs": [
    {
     "data": {
      "text/plain": [
       "bson.int64.Int64"
      ]
     },
     "execution_count": 245,
     "metadata": {},
     "output_type": "execute_result"
    }
   ],
   "source": [
    "db.numbers.delete_many({})\n",
    "db.numbers.insert_one({\"a\": bson.Int64(1)})\n",
    "type(db.numbers.find_one({})[\"a\"])\n"
   ]
  },
  {
   "cell_type": "code",
   "execution_count": 246,
   "id": "18027bf5",
   "metadata": {},
   "outputs": [
    {
     "data": {
      "text/plain": [
       "33.0"
      ]
     },
     "execution_count": 246,
     "metadata": {},
     "output_type": "execute_result"
    }
   ],
   "source": [
    "db.command(\"dbstats\")[\"dataSize\"]\n"
   ]
  },
  {
   "cell_type": "code",
   "execution_count": 247,
   "id": "dc0434ef",
   "metadata": {},
   "outputs": [],
   "source": [
    "client.close()\n"
   ]
  }
 ],
 "metadata": {
  "kernelspec": {
   "display_name": "Python 3 (ipykernel)",
   "language": "python",
   "name": "python3"
  },
  "language_info": {
   "codemirror_mode": {
    "name": "ipython",
    "version": 3
   },
   "file_extension": ".py",
   "mimetype": "text/x-python",
   "name": "python",
   "nbconvert_exporter": "python",
   "pygments_lexer": "ipython3",
   "version": "3.10.6"
  }
 },
 "nbformat": 4,
 "nbformat_minor": 5
}
