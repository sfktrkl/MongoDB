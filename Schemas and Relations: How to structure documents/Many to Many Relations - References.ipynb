{
 "cells": [
  {
   "cell_type": "code",
   "execution_count": 8,
   "id": "04ca7f03",
   "metadata": {},
   "outputs": [
    {
     "data": {
      "text/plain": [
       "['admin', 'config', 'local']"
      ]
     },
     "execution_count": 8,
     "metadata": {},
     "output_type": "execute_result"
    }
   ],
   "source": [
    "from pymongo import MongoClient\n",
    "from pprint import pprint\n",
    "\n",
    "client = MongoClient(\"localhost\", 27017)\n",
    "client.drop_database(\"bookRegistry\")\n",
    "client.list_database_names()\n"
   ]
  },
  {
   "cell_type": "code",
   "execution_count": 9,
   "id": "0a1e598e",
   "metadata": {},
   "outputs": [
    {
     "data": {
      "text/plain": [
       "[]"
      ]
     },
     "execution_count": 9,
     "metadata": {},
     "output_type": "execute_result"
    }
   ],
   "source": [
    "db = client.bookRegistry\n",
    "db.list_collection_names()\n"
   ]
  },
  {
   "cell_type": "code",
   "execution_count": 10,
   "id": "2659839c",
   "metadata": {},
   "outputs": [
    {
     "name": "stdout",
     "output_type": "stream",
     "text": [
      "{'_id': ObjectId('644ffb5109de5db9a3bd4d00'), 'age': 29, 'name': 'Max Schwarz'}\n",
      "{'_id': ObjectId('644ffb5109de5db9a3bd4d01'), 'age': 30, 'name': 'Manuel Lor'}\n"
     ]
    }
   ],
   "source": [
    "authors = db.authors.insert_many(\n",
    "    [{\"name\": \"Max Schwarz\", \"age\": 29}, {\"name\": \"Manuel Lor\", \"age\": 30}]\n",
    ").inserted_ids\n",
    "for x in db.authors.find():\n",
    "    pprint(x)\n"
   ]
  },
  {
   "cell_type": "code",
   "execution_count": 11,
   "id": "b6c78d6f",
   "metadata": {},
   "outputs": [
    {
     "data": {
      "text/plain": [
       "{'_id': ObjectId('644ffb5109de5db9a3bd4d02'),\n",
       " 'name': 'My Favorite Book',\n",
       " 'authors': [ObjectId('644ffb5109de5db9a3bd4d00'),\n",
       "  ObjectId('644ffb5109de5db9a3bd4d01')]}"
      ]
     },
     "execution_count": 11,
     "metadata": {},
     "output_type": "execute_result"
    }
   ],
   "source": [
    "db.books.insert_one({\"name\": \"My Favorite Book\", \"authors\": authors})\n",
    "db.books.find_one()\n"
   ]
  },
  {
   "cell_type": "code",
   "execution_count": 13,
   "id": "dc0434ef",
   "metadata": {},
   "outputs": [],
   "source": [
    "client.close()\n"
   ]
  }
 ],
 "metadata": {
  "kernelspec": {
   "display_name": "Python 3 (ipykernel)",
   "language": "python",
   "name": "python3"
  },
  "language_info": {
   "codemirror_mode": {
    "name": "ipython",
    "version": 3
   },
   "file_extension": ".py",
   "mimetype": "text/x-python",
   "name": "python",
   "nbconvert_exporter": "python",
   "pygments_lexer": "ipython3",
   "version": "3.10.6"
  }
 },
 "nbformat": 4,
 "nbformat_minor": 5
}
