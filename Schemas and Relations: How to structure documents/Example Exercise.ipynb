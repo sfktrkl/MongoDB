{
 "cells": [
  {
   "cell_type": "code",
   "execution_count": 9,
   "id": "04ca7f03",
   "metadata": {},
   "outputs": [
    {
     "data": {
      "text/plain": [
       "['admin', 'config', 'local']"
      ]
     },
     "execution_count": 9,
     "metadata": {},
     "output_type": "execute_result"
    }
   ],
   "source": [
    "from pymongo import MongoClient\n",
    "from pprint import pprint\n",
    "\n",
    "client = MongoClient(\"localhost\", 27017)\n",
    "client.drop_database(\"blog\")\n",
    "client.list_database_names()\n"
   ]
  },
  {
   "cell_type": "code",
   "execution_count": 10,
   "id": "0a1e598e",
   "metadata": {},
   "outputs": [
    {
     "data": {
      "text/plain": [
       "[]"
      ]
     },
     "execution_count": 10,
     "metadata": {},
     "output_type": "execute_result"
    }
   ],
   "source": [
    "db = client.blog\n",
    "db.list_collection_names()\n"
   ]
  },
  {
   "cell_type": "code",
   "execution_count": 11,
   "id": "c467a41c",
   "metadata": {},
   "outputs": [
    {
     "name": "stdout",
     "output_type": "stream",
     "text": [
      "{'_id': ObjectId('645001e975caea7a625627e1'),\n",
      " 'age': 29,\n",
      " 'email': 'max@test.com',\n",
      " 'name': 'Max Schwarzmulller'}\n",
      "{'_id': ObjectId('645001e975caea7a625627e2'),\n",
      " 'age': 30,\n",
      " 'email': 'manu@test.com',\n",
      " 'name': 'Manuel Lorenz'}\n"
     ]
    }
   ],
   "source": [
    "users = db.users.insert_many(\n",
    "    [\n",
    "        {\"name\": \"Max Schwarzmulller\", \"age\": 29, \"email\": \"max@test.com\"},\n",
    "        {\"name\": \"Manuel Lorenz\", \"age\": 30, \"email\": \"manu@test.com\"},\n",
    "    ]\n",
    ").inserted_ids\n",
    "for x in db.users.find():\n",
    "    pprint(x)\n"
   ]
  },
  {
   "cell_type": "code",
   "execution_count": 12,
   "id": "c7281c33",
   "metadata": {},
   "outputs": [
    {
     "data": {
      "text/plain": [
       "{'_id': ObjectId('645001e975caea7a625627e3'),\n",
       " 'title': 'My first post!',\n",
       " 'text': 'This is my first post.',\n",
       " 'tags': ['new', 'tech'],\n",
       " 'creator': ObjectId('645001e975caea7a625627e1'),\n",
       " 'comments': [{'text': 'I like this post.',\n",
       "   'author': ObjectId('645001e975caea7a625627e2')}]}"
      ]
     },
     "execution_count": 12,
     "metadata": {},
     "output_type": "execute_result"
    }
   ],
   "source": [
    "db.posts.insert_one(\n",
    "    {\n",
    "        \"title\": \"My first post!\",\n",
    "        \"text\": \"This is my first post.\",\n",
    "        \"tags\": [\"new\", \"tech\"],\n",
    "        \"creator\": users[0],\n",
    "        \"comments\": [{\"text\": \"I like this post.\", \"author\": users[1]}],\n",
    "    }\n",
    ")\n",
    "db.posts.find_one()\n"
   ]
  },
  {
   "cell_type": "code",
   "execution_count": 13,
   "id": "dc0434ef",
   "metadata": {},
   "outputs": [],
   "source": [
    "client.close()\n"
   ]
  }
 ],
 "metadata": {
  "kernelspec": {
   "display_name": "Python 3 (ipykernel)",
   "language": "python",
   "name": "python3"
  },
  "language_info": {
   "codemirror_mode": {
    "name": "ipython",
    "version": 3
   },
   "file_extension": ".py",
   "mimetype": "text/x-python",
   "name": "python",
   "nbconvert_exporter": "python",
   "pygments_lexer": "ipython3",
   "version": "3.10.6"
  }
 },
 "nbformat": 4,
 "nbformat_minor": 5
}
