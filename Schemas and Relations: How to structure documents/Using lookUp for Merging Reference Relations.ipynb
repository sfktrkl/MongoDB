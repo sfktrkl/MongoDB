{
 "cells": [
  {
   "cell_type": "code",
   "execution_count": 12,
   "id": "04ca7f03",
   "metadata": {},
   "outputs": [
    {
     "data": {
      "text/plain": [
       "['admin', 'config', 'local']"
      ]
     },
     "execution_count": 12,
     "metadata": {},
     "output_type": "execute_result"
    }
   ],
   "source": [
    "from pymongo import MongoClient\n",
    "from pprint import pprint\n",
    "\n",
    "client = MongoClient(\"localhost\", 27017)\n",
    "client.drop_database(\"bookRegistry\")\n",
    "client.list_database_names()\n"
   ]
  },
  {
   "cell_type": "code",
   "execution_count": 13,
   "id": "0a1e598e",
   "metadata": {},
   "outputs": [
    {
     "data": {
      "text/plain": [
       "[]"
      ]
     },
     "execution_count": 13,
     "metadata": {},
     "output_type": "execute_result"
    }
   ],
   "source": [
    "db = client.bookRegistry\n",
    "db.list_collection_names()\n"
   ]
  },
  {
   "cell_type": "code",
   "execution_count": 14,
   "id": "2659839c",
   "metadata": {},
   "outputs": [
    {
     "name": "stdout",
     "output_type": "stream",
     "text": [
      "{'_id': ObjectId('644fffa18b7e8cd7435c3434'), 'age': 29, 'name': 'Max Schwarz'}\n",
      "{'_id': ObjectId('644fffa18b7e8cd7435c3435'), 'age': 30, 'name': 'Manuel Lor'}\n"
     ]
    }
   ],
   "source": [
    "authors = db.authors.insert_many(\n",
    "    [{\"name\": \"Max Schwarz\", \"age\": 29}, {\"name\": \"Manuel Lor\", \"age\": 30}]\n",
    ").inserted_ids\n",
    "for x in db.authors.find():\n",
    "    pprint(x)\n"
   ]
  },
  {
   "cell_type": "code",
   "execution_count": 15,
   "id": "b6c78d6f",
   "metadata": {},
   "outputs": [
    {
     "data": {
      "text/plain": [
       "{'_id': ObjectId('644fffa18b7e8cd7435c3436'),\n",
       " 'name': 'My Favorite Book',\n",
       " 'authors': [ObjectId('644fffa18b7e8cd7435c3434'),\n",
       "  ObjectId('644fffa18b7e8cd7435c3435')]}"
      ]
     },
     "execution_count": 15,
     "metadata": {},
     "output_type": "execute_result"
    }
   ],
   "source": [
    "db.books.insert_one({\"name\": \"My Favorite Book\", \"authors\": authors})\n",
    "db.books.find_one()\n"
   ]
  },
  {
   "cell_type": "code",
   "execution_count": 16,
   "id": "20efd8b4",
   "metadata": {},
   "outputs": [
    {
     "name": "stdout",
     "output_type": "stream",
     "text": [
      "{'_id': ObjectId('644fffa18b7e8cd7435c3436'),\n",
      " 'authors': [ObjectId('644fffa18b7e8cd7435c3434'),\n",
      "             ObjectId('644fffa18b7e8cd7435c3435')],\n",
      " 'creators': [{'_id': ObjectId('644fffa18b7e8cd7435c3434'),\n",
      "               'age': 29,\n",
      "               'name': 'Max Schwarz'},\n",
      "              {'_id': ObjectId('644fffa18b7e8cd7435c3435'),\n",
      "               'age': 30,\n",
      "               'name': 'Manuel Lor'}],\n",
      " 'name': 'My Favorite Book'}\n"
     ]
    }
   ],
   "source": [
    "creators = db.books.aggregate(\n",
    "    [\n",
    "        {\n",
    "            \"$lookup\": {\n",
    "                \"from\": \"authors\",\n",
    "                \"localField\": \"authors\",\n",
    "                \"foreignField\": \"_id\",\n",
    "                \"as\": \"creators\",\n",
    "            }\n",
    "        }\n",
    "    ]\n",
    ")\n",
    "for x in creators:\n",
    "    pprint(x)\n"
   ]
  },
  {
   "cell_type": "code",
   "execution_count": 17,
   "id": "dc0434ef",
   "metadata": {},
   "outputs": [],
   "source": [
    "client.close()\n"
   ]
  }
 ],
 "metadata": {
  "kernelspec": {
   "display_name": "Python 3 (ipykernel)",
   "language": "python",
   "name": "python3"
  },
  "language_info": {
   "codemirror_mode": {
    "name": "ipython",
    "version": 3
   },
   "file_extension": ".py",
   "mimetype": "text/x-python",
   "name": "python",
   "nbconvert_exporter": "python",
   "pygments_lexer": "ipython3",
   "version": "3.10.6"
  }
 },
 "nbformat": 4,
 "nbformat_minor": 5
}
