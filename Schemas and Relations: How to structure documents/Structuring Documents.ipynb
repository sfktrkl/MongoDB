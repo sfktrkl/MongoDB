{
 "cells": [
  {
   "cell_type": "code",
   "execution_count": 24,
   "id": "04ca7f03",
   "metadata": {},
   "outputs": [
    {
     "data": {
      "text/plain": [
       "['admin', 'config', 'flights', 'local']"
      ]
     },
     "execution_count": 24,
     "metadata": {},
     "output_type": "execute_result"
    }
   ],
   "source": [
    "from pymongo import MongoClient\n",
    "from pprint import pprint\n",
    "\n",
    "client = MongoClient(\"localhost\", 27017)\n",
    "client.drop_database(\"shop\")\n",
    "client.list_database_names()\n"
   ]
  },
  {
   "cell_type": "code",
   "execution_count": 25,
   "id": "0a1e598e",
   "metadata": {},
   "outputs": [
    {
     "data": {
      "text/plain": [
       "[]"
      ]
     },
     "execution_count": 25,
     "metadata": {},
     "output_type": "execute_result"
    }
   ],
   "source": [
    "db = client.shop\n",
    "db.list_collection_names()\n"
   ]
  },
  {
   "cell_type": "code",
   "execution_count": 26,
   "id": "88b58f8b",
   "metadata": {},
   "outputs": [],
   "source": [
    "for x in db.products.find():\n",
    "    pprint(x)\n"
   ]
  },
  {
   "attachments": {},
   "cell_type": "markdown",
   "id": "075a01f2",
   "metadata": {},
   "source": [
    "### Extra Data\n"
   ]
  },
  {
   "cell_type": "code",
   "execution_count": 27,
   "id": "4a53a707",
   "metadata": {},
   "outputs": [
    {
     "data": {
      "text/plain": [
       "ObjectId('644fe80104bda58dac7fbbef')"
      ]
     },
     "execution_count": 27,
     "metadata": {},
     "output_type": "execute_result"
    }
   ],
   "source": [
    "db.products.insert_one({\"name\": \"A book\", \"price\": 12.99}).inserted_id\n"
   ]
  },
  {
   "cell_type": "code",
   "execution_count": 28,
   "id": "a53f7584",
   "metadata": {},
   "outputs": [
    {
     "data": {
      "text/plain": [
       "ObjectId('644fe80104bda58dac7fbbf0')"
      ]
     },
     "execution_count": 28,
     "metadata": {},
     "output_type": "execute_result"
    }
   ],
   "source": [
    "db.products.insert_one({\"name\": \"A T-Shirt\", \"price\": 20.99}).inserted_id\n"
   ]
  },
  {
   "cell_type": "code",
   "execution_count": 29,
   "id": "6b5b6e29",
   "metadata": {},
   "outputs": [
    {
     "data": {
      "text/plain": [
       "ObjectId('644fe80104bda58dac7fbbf1')"
      ]
     },
     "execution_count": 29,
     "metadata": {},
     "output_type": "execute_result"
    }
   ],
   "source": [
    "db.products.insert_one(\n",
    "    {\"name\": \"A Computer\", \"price\": 1099, \"details\": {\"cpu\": \"Intel\"}}\n",
    ").inserted_id\n"
   ]
  },
  {
   "cell_type": "code",
   "execution_count": 30,
   "id": "e259cf1a",
   "metadata": {},
   "outputs": [
    {
     "name": "stdout",
     "output_type": "stream",
     "text": [
      "{'_id': ObjectId('644fe80104bda58dac7fbbef'), 'name': 'A book', 'price': 12.99}\n",
      "{'_id': ObjectId('644fe80104bda58dac7fbbf0'),\n",
      " 'name': 'A T-Shirt',\n",
      " 'price': 20.99}\n",
      "{'_id': ObjectId('644fe80104bda58dac7fbbf1'),\n",
      " 'details': {'cpu': 'Intel'},\n",
      " 'name': 'A Computer',\n",
      " 'price': 1099}\n"
     ]
    }
   ],
   "source": [
    "for x in db.products.find():\n",
    "    pprint(x)\n"
   ]
  },
  {
   "cell_type": "code",
   "execution_count": 31,
   "id": "b6de8650",
   "metadata": {},
   "outputs": [
    {
     "data": {
      "text/plain": [
       "3"
      ]
     },
     "execution_count": 31,
     "metadata": {},
     "output_type": "execute_result"
    }
   ],
   "source": [
    "db.products.delete_many({}).deleted_count\n"
   ]
  },
  {
   "attachments": {},
   "cell_type": "markdown",
   "id": "8361c386",
   "metadata": {},
   "source": [
    "### Full Equality\n"
   ]
  },
  {
   "cell_type": "code",
   "execution_count": 32,
   "id": "f91855d1",
   "metadata": {},
   "outputs": [
    {
     "data": {
      "text/plain": [
       "ObjectId('644fe80204bda58dac7fbbf2')"
      ]
     },
     "execution_count": 32,
     "metadata": {},
     "output_type": "execute_result"
    }
   ],
   "source": [
    "db.products.insert_one({\"name\": \"A book\", \"price\": 12.99, \"details\": None}).inserted_id\n"
   ]
  },
  {
   "cell_type": "code",
   "execution_count": 33,
   "id": "a07a4be3",
   "metadata": {},
   "outputs": [
    {
     "data": {
      "text/plain": [
       "ObjectId('644fe80204bda58dac7fbbf3')"
      ]
     },
     "execution_count": 33,
     "metadata": {},
     "output_type": "execute_result"
    }
   ],
   "source": [
    "db.products.insert_one(\n",
    "    {\"name\": \"A T-Shirt\", \"price\": 20.99, \"details\": None}\n",
    ").inserted_id\n"
   ]
  },
  {
   "cell_type": "code",
   "execution_count": 34,
   "id": "56f16c17",
   "metadata": {},
   "outputs": [
    {
     "data": {
      "text/plain": [
       "ObjectId('644fe80204bda58dac7fbbf4')"
      ]
     },
     "execution_count": 34,
     "metadata": {},
     "output_type": "execute_result"
    }
   ],
   "source": [
    "db.products.insert_one(\n",
    "    {\"name\": \"A Computer\", \"price\": 1099, \"details\": {\"cpu\": \"Intel\"}}\n",
    ").inserted_id\n"
   ]
  },
  {
   "cell_type": "code",
   "execution_count": 35,
   "id": "19368bc5",
   "metadata": {},
   "outputs": [
    {
     "name": "stdout",
     "output_type": "stream",
     "text": [
      "{'_id': ObjectId('644fe80204bda58dac7fbbf2'),\n",
      " 'details': None,\n",
      " 'name': 'A book',\n",
      " 'price': 12.99}\n",
      "{'_id': ObjectId('644fe80204bda58dac7fbbf3'),\n",
      " 'details': None,\n",
      " 'name': 'A T-Shirt',\n",
      " 'price': 20.99}\n",
      "{'_id': ObjectId('644fe80204bda58dac7fbbf4'),\n",
      " 'details': {'cpu': 'Intel'},\n",
      " 'name': 'A Computer',\n",
      " 'price': 1099}\n"
     ]
    }
   ],
   "source": [
    "for x in db.products.find():\n",
    "    pprint(x)\n"
   ]
  },
  {
   "cell_type": "code",
   "execution_count": 36,
   "id": "dc0434ef",
   "metadata": {},
   "outputs": [],
   "source": [
    "client.close()\n"
   ]
  }
 ],
 "metadata": {
  "kernelspec": {
   "display_name": "Python 3 (ipykernel)",
   "language": "python",
   "name": "python3"
  },
  "language_info": {
   "codemirror_mode": {
    "name": "ipython",
    "version": 3
   },
   "file_extension": ".py",
   "mimetype": "text/x-python",
   "name": "python",
   "nbconvert_exporter": "python",
   "pygments_lexer": "ipython3",
   "version": "3.10.6"
  }
 },
 "nbformat": 4,
 "nbformat_minor": 5
}
