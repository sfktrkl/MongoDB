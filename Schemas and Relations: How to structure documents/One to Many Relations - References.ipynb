{
 "cells": [
  {
   "cell_type": "code",
   "execution_count": 1,
   "id": "04ca7f03",
   "metadata": {},
   "outputs": [
    {
     "data": {
      "text/plain": [
       "['admin', 'config', 'local', 'support']"
      ]
     },
     "execution_count": 1,
     "metadata": {},
     "output_type": "execute_result"
    }
   ],
   "source": [
    "from pymongo import MongoClient\n",
    "from pprint import pprint\n",
    "\n",
    "client = MongoClient(\"localhost\", 27017)\n",
    "client.drop_database(\"cityData\")\n",
    "client.list_database_names()\n"
   ]
  },
  {
   "cell_type": "code",
   "execution_count": 2,
   "id": "0a1e598e",
   "metadata": {},
   "outputs": [
    {
     "data": {
      "text/plain": [
       "[]"
      ]
     },
     "execution_count": 2,
     "metadata": {},
     "output_type": "execute_result"
    }
   ],
   "source": [
    "db = client.cityData\n",
    "db.list_collection_names()\n"
   ]
  },
  {
   "cell_type": "code",
   "execution_count": 3,
   "id": "772ba5a2",
   "metadata": {},
   "outputs": [
    {
     "data": {
      "text/plain": [
       "{'_id': ObjectId('644ff6138404c595ae10b13a'),\n",
       " 'name': 'New York City',\n",
       " 'coordinates': {'lat': 21, 'lng': 55}}"
      ]
     },
     "execution_count": 3,
     "metadata": {},
     "output_type": "execute_result"
    }
   ],
   "source": [
    "city = db.cities.insert_one(\n",
    "    {\"name\": \"New York City\", \"coordinates\": {\"lat\": 21, \"lng\": 55}}\n",
    ").inserted_id\n",
    "db.cities.find_one()\n"
   ]
  },
  {
   "cell_type": "code",
   "execution_count": 4,
   "id": "487caabb",
   "metadata": {},
   "outputs": [
    {
     "name": "stdout",
     "output_type": "stream",
     "text": [
      "{'_id': ObjectId('644ff6138404c595ae10b13b'),\n",
      " 'cityId': ObjectId('644ff6138404c595ae10b13a'),\n",
      " 'name': 'Max Schwarzmueller'}\n",
      "{'_id': ObjectId('644ff6138404c595ae10b13c'),\n",
      " 'cityId': ObjectId('644ff6138404c595ae10b13a'),\n",
      " 'name': 'Manuel Lorenz'}\n"
     ]
    }
   ],
   "source": [
    "db.citizens.insert_many(\n",
    "    [\n",
    "        {\"name\": \"Max Schwarzmueller\", \"cityId\": city},\n",
    "        {\"name\": \"Manuel Lorenz\", \"cityId\": city},\n",
    "    ]\n",
    ")\n",
    "for x in db.citizens.find():\n",
    "    pprint(x)\n"
   ]
  },
  {
   "cell_type": "code",
   "execution_count": 5,
   "id": "dc0434ef",
   "metadata": {},
   "outputs": [],
   "source": [
    "client.close()\n"
   ]
  }
 ],
 "metadata": {
  "kernelspec": {
   "display_name": "Python 3 (ipykernel)",
   "language": "python",
   "name": "python3"
  },
  "language_info": {
   "codemirror_mode": {
    "name": "ipython",
    "version": 3
   },
   "file_extension": ".py",
   "mimetype": "text/x-python",
   "name": "python",
   "nbconvert_exporter": "python",
   "pygments_lexer": "ipython3",
   "version": "3.10.6"
  }
 },
 "nbformat": 4,
 "nbformat_minor": 5
}
