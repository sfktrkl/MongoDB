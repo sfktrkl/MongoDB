{
 "cells": [
  {
   "cell_type": "code",
   "execution_count": 22,
   "id": "04ca7f03",
   "metadata": {},
   "outputs": [
    {
     "data": {
      "text/plain": [
       "['admin', 'config', 'local']"
      ]
     },
     "execution_count": 22,
     "metadata": {},
     "output_type": "execute_result"
    }
   ],
   "source": [
    "from pymongo import MongoClient\n",
    "from pprint import pprint\n",
    "\n",
    "client = MongoClient(\"localhost\", 27017)\n",
    "client.drop_database(\"blog\")\n",
    "client.list_database_names()\n"
   ]
  },
  {
   "cell_type": "code",
   "execution_count": 23,
   "id": "0a1e598e",
   "metadata": {},
   "outputs": [
    {
     "data": {
      "text/plain": [
       "[]"
      ]
     },
     "execution_count": 23,
     "metadata": {},
     "output_type": "execute_result"
    }
   ],
   "source": [
    "db = client.blog\n",
    "db.list_collection_names()\n"
   ]
  },
  {
   "cell_type": "code",
   "execution_count": 24,
   "id": "0faab48b",
   "metadata": {},
   "outputs": [
    {
     "data": {
      "text/plain": [
       "Collection(Database(MongoClient(host=['localhost:27017'], document_class=dict, tz_aware=False, connect=True), 'blog'), 'posts')"
      ]
     },
     "execution_count": 24,
     "metadata": {},
     "output_type": "execute_result"
    }
   ],
   "source": [
    "validator = {\n",
    "    \"$jsonSchema\": {\n",
    "        \"bsonType\": \"object\",\n",
    "        \"required\": [\"title\", \"text\", \"creator\", \"comments\"],\n",
    "        \"properties\": {\n",
    "            \"title\": {\n",
    "                \"bsonType\": \"string\",\n",
    "                \"description\": \"must be a string and is required\",\n",
    "            },\n",
    "            \"text\": {\n",
    "                \"bsonType\": \"string\",\n",
    "                \"description\": \"must be a string and is required\",\n",
    "            },\n",
    "            \"creator\": {\n",
    "                \"bsonType\": \"objectId\",\n",
    "                \"description\": \"must be an objectid and is required\",\n",
    "            },\n",
    "            \"comments\": {\n",
    "                \"bsonType\": \"array\",\n",
    "                \"description\": \"must be an array and is required\",\n",
    "                \"items\": {\n",
    "                    \"bsonType\": \"object\",\n",
    "                    \"required\": [\"text\", \"author\"],\n",
    "                    \"properties\": {\n",
    "                        \"text\": {\n",
    "                            \"bsonType\": \"string\",\n",
    "                            \"description\": \"must be a string and is required\",\n",
    "                        },\n",
    "                        \"author\": {\n",
    "                            \"bsonType\": \"objectId\",\n",
    "                            \"description\": \"must be an objectid and is required\",\n",
    "                        },\n",
    "                    },\n",
    "                },\n",
    "            },\n",
    "        },\n",
    "    }\n",
    "}\n",
    "\n",
    "db.create_collection(\n",
    "    name=\"posts\",\n",
    "    validator=validator,\n",
    "    validationAction=\"error\",\n",
    ")\n"
   ]
  },
  {
   "cell_type": "code",
   "execution_count": 25,
   "id": "e5fc8ab7",
   "metadata": {},
   "outputs": [
    {
     "name": "stdout",
     "output_type": "stream",
     "text": [
      "{'_id': ObjectId('6450074f3b1dab9370ba153f'),\n",
      " 'age': 29,\n",
      " 'email': 'max@test.com',\n",
      " 'name': 'Max Schwarzmulller'}\n",
      "{'_id': ObjectId('6450074f3b1dab9370ba1540'),\n",
      " 'age': 30,\n",
      " 'email': 'manu@test.com',\n",
      " 'name': 'Manuel Lorenz'}\n"
     ]
    }
   ],
   "source": [
    "users = db.users.insert_many(\n",
    "    [\n",
    "        {\"name\": \"Max Schwarzmulller\", \"age\": 29, \"email\": \"max@test.com\"},\n",
    "        {\"name\": \"Manuel Lorenz\", \"age\": 30, \"email\": \"manu@test.com\"},\n",
    "    ]\n",
    ").inserted_ids\n",
    "for x in db.users.find():\n",
    "    pprint(x)\n"
   ]
  },
  {
   "cell_type": "code",
   "execution_count": 26,
   "id": "29b78ddc",
   "metadata": {},
   "outputs": [
    {
     "name": "stdout",
     "output_type": "stream",
     "text": [
      "(\"Document failed validation, full error: {'index': 0, 'code': 121, 'errmsg': \"\n",
      " \"'Document failed validation', 'errInfo': {'failingDocumentId': \"\n",
      " \"ObjectId('6450074f3b1dab9370ba1541'), 'details': {'operatorName': \"\n",
      " \"'$jsonSchema', 'schemaRulesNotSatisfied': [{'operatorName': 'properties', \"\n",
      " \"'propertiesNotSatisfied': [{'propertyName': 'creator', 'description': 'must \"\n",
      " \"be an objectid and is required', 'details': [{'operatorName': 'bsonType', \"\n",
      " \"'specifiedAs': {'bsonType': 'objectId'}, 'reason': 'type did not match', \"\n",
      " \"'consideredValue': 1, 'consideredType': 'int'}]}]}]}}}\",)\n"
     ]
    }
   ],
   "source": [
    "try:\n",
    "    db.posts.insert_one(\n",
    "        {\n",
    "            \"title\": \"My first post!\",\n",
    "            \"text\": \"This is my first post.\",\n",
    "            \"tags\": [\"new\", \"tech\"],\n",
    "            \"creator\": 1,\n",
    "            \"comments\": [{\"text\": \"I like this post.\", \"author\": users[1]}],\n",
    "        }\n",
    "    )\n",
    "except Exception as e:\n",
    "    pprint(e.args)\n"
   ]
  },
  {
   "cell_type": "code",
   "execution_count": 27,
   "id": "6aa1abf1",
   "metadata": {},
   "outputs": [
    {
     "data": {
      "text/plain": [
       "{'ok': 1.0}"
      ]
     },
     "execution_count": 27,
     "metadata": {},
     "output_type": "execute_result"
    }
   ],
   "source": [
    "validator[\"$jsonSchema\"][\"properties\"][\"creator\"][\"bsonType\"] = \"int\"\n",
    "validator[\"$jsonSchema\"][\"properties\"][\"creator\"][\n",
    "    \"description\"\n",
    "] = \"must be an int and is required\"\n",
    "db.command(\"collMod\", \"posts\", validator=validator, validationAction=\"error\")\n"
   ]
  },
  {
   "cell_type": "code",
   "execution_count": 28,
   "id": "165f1acc",
   "metadata": {},
   "outputs": [
    {
     "data": {
      "text/plain": [
       "{'_id': ObjectId('6450074f3b1dab9370ba1542'),\n",
       " 'title': 'My first post!',\n",
       " 'text': 'This is my first post.',\n",
       " 'tags': ['new', 'tech'],\n",
       " 'creator': 1,\n",
       " 'comments': [{'text': 'I like this post.',\n",
       "   'author': ObjectId('6450074f3b1dab9370ba1540')}]}"
      ]
     },
     "execution_count": 28,
     "metadata": {},
     "output_type": "execute_result"
    }
   ],
   "source": [
    "db.posts.insert_one(\n",
    "    {\n",
    "        \"title\": \"My first post!\",\n",
    "        \"text\": \"This is my first post.\",\n",
    "        \"tags\": [\"new\", \"tech\"],\n",
    "        \"creator\": 1,\n",
    "        \"comments\": [{\"text\": \"I like this post.\", \"author\": users[1]}],\n",
    "    }\n",
    ")\n",
    "db.posts.find_one()"
   ]
  },
  {
   "cell_type": "code",
   "execution_count": 29,
   "id": "dc0434ef",
   "metadata": {},
   "outputs": [],
   "source": [
    "client.close()\n"
   ]
  }
 ],
 "metadata": {
  "kernelspec": {
   "display_name": "Python 3 (ipykernel)",
   "language": "python",
   "name": "python3"
  },
  "language_info": {
   "codemirror_mode": {
    "name": "ipython",
    "version": 3
   },
   "file_extension": ".py",
   "mimetype": "text/x-python",
   "name": "python",
   "nbconvert_exporter": "python",
   "pygments_lexer": "ipython3",
   "version": "3.10.6"
  }
 },
 "nbformat": 4,
 "nbformat_minor": 5
}
