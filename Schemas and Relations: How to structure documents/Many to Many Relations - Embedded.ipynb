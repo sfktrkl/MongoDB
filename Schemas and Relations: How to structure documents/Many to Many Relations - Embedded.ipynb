{
 "cells": [
  {
   "cell_type": "code",
   "execution_count": 10,
   "id": "04ca7f03",
   "metadata": {},
   "outputs": [
    {
     "data": {
      "text/plain": [
       "['admin', 'config', 'local']"
      ]
     },
     "execution_count": 10,
     "metadata": {},
     "output_type": "execute_result"
    }
   ],
   "source": [
    "from pymongo import MongoClient\n",
    "from pprint import pprint\n",
    "\n",
    "client = MongoClient(\"localhost\", 27017)\n",
    "client.drop_database(\"bookRegistry\")\n",
    "client.list_database_names()\n"
   ]
  },
  {
   "cell_type": "code",
   "execution_count": 11,
   "id": "0a1e598e",
   "metadata": {},
   "outputs": [
    {
     "data": {
      "text/plain": [
       "[]"
      ]
     },
     "execution_count": 11,
     "metadata": {},
     "output_type": "execute_result"
    }
   ],
   "source": [
    "db = client.bookRegistry\n",
    "db.list_collection_names()\n"
   ]
  },
  {
   "cell_type": "code",
   "execution_count": 12,
   "id": "2659839c",
   "metadata": {},
   "outputs": [
    {
     "name": "stdout",
     "output_type": "stream",
     "text": [
      "{'_id': ObjectId('644ffb68853fe768a2c51822'), 'age': 29, 'name': 'Max Schwarz'}\n",
      "{'_id': ObjectId('644ffb68853fe768a2c51823'), 'age': 30, 'name': 'Manuel Lor'}\n"
     ]
    }
   ],
   "source": [
    "db.authors.insert_many(\n",
    "    [{\"name\": \"Max Schwarz\", \"age\": 29}, {\"name\": \"Manuel Lor\", \"age\": 30}]\n",
    ")\n",
    "for x in db.authors.find():\n",
    "    pprint(x)\n"
   ]
  },
  {
   "cell_type": "code",
   "execution_count": 13,
   "id": "b6c78d6f",
   "metadata": {},
   "outputs": [
    {
     "data": {
      "text/plain": [
       "{'_id': ObjectId('644ffb68853fe768a2c51824'),\n",
       " 'name': 'My Favorite Book',\n",
       " 'authors': [{'name': 'Max Schwarz', 'age': 29},\n",
       "  {'name': 'Manuel Lor', 'age': 30}]}"
      ]
     },
     "execution_count": 13,
     "metadata": {},
     "output_type": "execute_result"
    }
   ],
   "source": [
    "db.books.insert_one(\n",
    "    {\n",
    "        \"name\": \"My Favorite Book\",\n",
    "        \"authors\": [\n",
    "            {\"name\": \"Max Schwarz\", \"age\": 29},\n",
    "            {\"name\": \"Manuel Lor\", \"age\": 30},\n",
    "        ],\n",
    "    }\n",
    ")\n",
    "db.books.find_one()\n"
   ]
  },
  {
   "cell_type": "code",
   "execution_count": 14,
   "id": "dc0434ef",
   "metadata": {},
   "outputs": [],
   "source": [
    "client.close()\n"
   ]
  }
 ],
 "metadata": {
  "kernelspec": {
   "display_name": "Python 3 (ipykernel)",
   "language": "python",
   "name": "python3"
  },
  "language_info": {
   "codemirror_mode": {
    "name": "ipython",
    "version": 3
   },
   "file_extension": ".py",
   "mimetype": "text/x-python",
   "name": "python",
   "nbconvert_exporter": "python",
   "pygments_lexer": "ipython3",
   "version": "3.10.6"
  }
 },
 "nbformat": 4,
 "nbformat_minor": 5
}
