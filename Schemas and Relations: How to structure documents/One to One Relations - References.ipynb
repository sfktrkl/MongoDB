{
 "cells": [
  {
   "cell_type": "code",
   "execution_count": 32,
   "id": "04ca7f03",
   "metadata": {},
   "outputs": [
    {
     "data": {
      "text/plain": [
       "['admin', 'company', 'config', 'flights', 'hospital', 'local', 'shop']"
      ]
     },
     "execution_count": 32,
     "metadata": {},
     "output_type": "execute_result"
    }
   ],
   "source": [
    "from pymongo import MongoClient\n",
    "from pprint import pprint\n",
    "\n",
    "client = MongoClient(\"localhost\", 27017)\n",
    "client.drop_database(\"cardata\")\n",
    "client.list_database_names()\n"
   ]
  },
  {
   "cell_type": "code",
   "execution_count": 33,
   "id": "0a1e598e",
   "metadata": {},
   "outputs": [
    {
     "data": {
      "text/plain": [
       "[]"
      ]
     },
     "execution_count": 33,
     "metadata": {},
     "output_type": "execute_result"
    }
   ],
   "source": [
    "db = client.cardata\n",
    "db.list_collection_names()\n"
   ]
  },
  {
   "cell_type": "code",
   "execution_count": 34,
   "id": "88b58f8b",
   "metadata": {},
   "outputs": [],
   "source": [
    "for x in db.people.find():\n",
    "    pprint(x)\n"
   ]
  },
  {
   "cell_type": "code",
   "execution_count": 35,
   "id": "348f4d42",
   "metadata": {},
   "outputs": [
    {
     "data": {
      "text/plain": [
       "{'_id': ObjectId('644ff416672749bdf6adb8ab'),\n",
       " 'name': 'Max',\n",
       " 'age': 29,\n",
       " 'salary': 3000}"
      ]
     },
     "execution_count": 35,
     "metadata": {},
     "output_type": "execute_result"
    }
   ],
   "source": [
    "result = db.people.insert_one({\"name\": \"Max\", \"age\": 29, \"salary\": 3000}).inserted_id\n",
    "db.people.find_one()\n"
   ]
  },
  {
   "cell_type": "code",
   "execution_count": 36,
   "id": "d5131b48",
   "metadata": {},
   "outputs": [
    {
     "data": {
      "text/plain": [
       "{'_id': ObjectId('644ff416672749bdf6adb8ac'),\n",
       " 'model': 'BMW',\n",
       " 'price': 40000,\n",
       " 'owner': ObjectId('644ff416672749bdf6adb8ab')}"
      ]
     },
     "execution_count": 36,
     "metadata": {},
     "output_type": "execute_result"
    }
   ],
   "source": [
    "db.cars.insert_one({\"model\": \"BMW\", \"price\": 40000, \"owner\": result})\n",
    "db.cars.find_one()\n"
   ]
  },
  {
   "cell_type": "code",
   "execution_count": 37,
   "id": "a5399fe2",
   "metadata": {},
   "outputs": [
    {
     "data": {
      "text/plain": [
       "{'_id': ObjectId('644ff416672749bdf6adb8ab'),\n",
       " 'name': 'Max',\n",
       " 'age': 29,\n",
       " 'salary': 3000}"
      ]
     },
     "execution_count": 37,
     "metadata": {},
     "output_type": "execute_result"
    }
   ],
   "source": [
    "owner = db.cars.find_one()[\"owner\"]\n",
    "db.people.find_one({\"_id\": owner})\n"
   ]
  },
  {
   "cell_type": "code",
   "execution_count": 38,
   "id": "dc0434ef",
   "metadata": {},
   "outputs": [],
   "source": [
    "client.close()\n"
   ]
  }
 ],
 "metadata": {
  "kernelspec": {
   "display_name": "Python 3 (ipykernel)",
   "language": "python",
   "name": "python3"
  },
  "language_info": {
   "codemirror_mode": {
    "name": "ipython",
    "version": 3
   },
   "file_extension": ".py",
   "mimetype": "text/x-python",
   "name": "python",
   "nbconvert_exporter": "python",
   "pygments_lexer": "ipython3",
   "version": "3.10.6"
  }
 },
 "nbformat": 4,
 "nbformat_minor": 5
}
