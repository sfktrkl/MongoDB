{
 "cells": [
  {
   "cell_type": "code",
   "execution_count": 15,
   "id": "04ca7f03",
   "metadata": {},
   "outputs": [
    {
     "data": {
      "text/plain": [
       "['admin', 'config', 'local']"
      ]
     },
     "execution_count": 15,
     "metadata": {},
     "output_type": "execute_result"
    }
   ],
   "source": [
    "from pymongo import MongoClient\n",
    "from pprint import pprint\n",
    "\n",
    "client = MongoClient(\"localhost\", 27017)\n",
    "client.drop_database(\"contacts\")\n",
    "client.list_database_names()\n"
   ]
  },
  {
   "cell_type": "code",
   "execution_count": 16,
   "id": "0a1e598e",
   "metadata": {},
   "outputs": [
    {
     "data": {
      "text/plain": [
       "[]"
      ]
     },
     "execution_count": 16,
     "metadata": {},
     "output_type": "execute_result"
    }
   ],
   "source": [
    "db = client.contacts\n",
    "db.list_collection_names()\n"
   ]
  },
  {
   "cell_type": "code",
   "execution_count": 17,
   "id": "57b0db20",
   "metadata": {},
   "outputs": [
    {
     "data": {
      "text/plain": [
       "ObjectId('645012395d9760621498fc22')"
      ]
     },
     "execution_count": 17,
     "metadata": {},
     "output_type": "execute_result"
    }
   ],
   "source": [
    "db.contacts.insert_one(\n",
    "    {\"name\": \"Max\", \"age\": 30, \"hobbies\": [\"Sports\", \"Cooking\"]}\n",
    ").inserted_id\n"
   ]
  },
  {
   "cell_type": "code",
   "execution_count": 18,
   "id": "c3ec7c1a",
   "metadata": {},
   "outputs": [
    {
     "data": {
      "text/plain": [
       "[ObjectId('645012395d9760621498fc23'), ObjectId('645012395d9760621498fc24')]"
      ]
     },
     "execution_count": 18,
     "metadata": {},
     "output_type": "execute_result"
    }
   ],
   "source": [
    "db.contacts.insert_many(\n",
    "    [\n",
    "        {\"name\": \"Manuel\", \"age\": 31, \"hobbies\": [\"Cars\", \"Cooking\"]},\n",
    "        {\"name\": \"Anna\", \"age\": 29, \"hobbies\": [\"Sports\", \"Yoga\"]},\n",
    "    ]\n",
    ").inserted_ids\n"
   ]
  },
  {
   "cell_type": "code",
   "execution_count": 19,
   "id": "88b58f8b",
   "metadata": {},
   "outputs": [
    {
     "name": "stdout",
     "output_type": "stream",
     "text": [
      "{'_id': ObjectId('645012395d9760621498fc22'),\n",
      " 'age': 30,\n",
      " 'hobbies': ['Sports', 'Cooking'],\n",
      " 'name': 'Max'}\n",
      "{'_id': ObjectId('645012395d9760621498fc23'),\n",
      " 'age': 31,\n",
      " 'hobbies': ['Cars', 'Cooking'],\n",
      " 'name': 'Manuel'}\n",
      "{'_id': ObjectId('645012395d9760621498fc24'),\n",
      " 'age': 29,\n",
      " 'hobbies': ['Sports', 'Yoga'],\n",
      " 'name': 'Anna'}\n"
     ]
    }
   ],
   "source": [
    "for x in db.contacts.find():\n",
    "    pprint(x)\n"
   ]
  },
  {
   "cell_type": "code",
   "execution_count": 20,
   "id": "dc0434ef",
   "metadata": {},
   "outputs": [],
   "source": [
    "client.close()\n"
   ]
  }
 ],
 "metadata": {
  "kernelspec": {
   "display_name": "Python 3 (ipykernel)",
   "language": "python",
   "name": "python3"
  },
  "language_info": {
   "codemirror_mode": {
    "name": "ipython",
    "version": 3
   },
   "file_extension": ".py",
   "mimetype": "text/x-python",
   "name": "python",
   "nbconvert_exporter": "python",
   "pygments_lexer": "ipython3",
   "version": "3.10.6"
  }
 },
 "nbformat": 4,
 "nbformat_minor": 5
}
