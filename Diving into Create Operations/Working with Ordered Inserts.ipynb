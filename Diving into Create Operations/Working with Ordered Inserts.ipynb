{
 "cells": [
  {
   "cell_type": "code",
   "execution_count": 43,
   "id": "04ca7f03",
   "metadata": {},
   "outputs": [
    {
     "data": {
      "text/plain": [
       "['admin', 'config', 'local']"
      ]
     },
     "execution_count": 43,
     "metadata": {},
     "output_type": "execute_result"
    }
   ],
   "source": [
    "from pymongo import MongoClient\n",
    "from pprint import pprint\n",
    "\n",
    "client = MongoClient(\"localhost\", 27017)\n",
    "client.drop_database(\"contacts\")\n",
    "client.list_database_names()\n"
   ]
  },
  {
   "cell_type": "code",
   "execution_count": 44,
   "id": "0a1e598e",
   "metadata": {},
   "outputs": [
    {
     "data": {
      "text/plain": [
       "[]"
      ]
     },
     "execution_count": 44,
     "metadata": {},
     "output_type": "execute_result"
    }
   ],
   "source": [
    "db = client.contacts\n",
    "db.list_collection_names()\n"
   ]
  },
  {
   "cell_type": "code",
   "execution_count": 45,
   "id": "57b0db20",
   "metadata": {},
   "outputs": [
    {
     "data": {
      "text/plain": [
       "{'_id': 'max', 'name': 'Max'}"
      ]
     },
     "execution_count": 45,
     "metadata": {},
     "output_type": "execute_result"
    }
   ],
   "source": [
    "db.contacts.insert_one({\"_id\": \"max\", \"name\": \"Max\"})\n",
    "db.contacts.find_one()\n"
   ]
  },
  {
   "cell_type": "code",
   "execution_count": 46,
   "id": "c3ec7c1a",
   "metadata": {},
   "outputs": [
    {
     "name": "stdout",
     "output_type": "stream",
     "text": [
      "batch op errors occurred, full error: {'writeErrors': [{'index': 1, 'code': 11000, 'errmsg': 'E11000 duplicate key error collection: contacts.contacts index: _id_ dup key: { _id: \"max\" }', 'keyPattern': {'_id': 1}, 'keyValue': {'_id': 'max'}, 'op': {'_id': 'max', 'name': 'Max'}}], 'writeConcernErrors': [], 'nInserted': 1, 'nUpserted': 0, 'nMatched': 0, 'nModified': 0, 'nRemoved': 0, 'upserted': []}\n"
     ]
    }
   ],
   "source": [
    "try:\n",
    "    db.contacts.insert_many(\n",
    "        [\n",
    "            {\"_id\": \"manu\", \"name\": \"Manuel\"},\n",
    "            {\"_id\": \"max\", \"name\": \"Max\"},\n",
    "            {\"_id\": \"anna\", \"name\": \"Anna\"},\n",
    "        ]\n",
    "    )\n",
    "except Exception as e:\n",
    "    print(e)\n"
   ]
  },
  {
   "cell_type": "code",
   "execution_count": 47,
   "id": "88b58f8b",
   "metadata": {},
   "outputs": [
    {
     "name": "stdout",
     "output_type": "stream",
     "text": [
      "{'_id': 'max', 'name': 'Max'}\n",
      "{'_id': 'manu', 'name': 'Manuel'}\n"
     ]
    }
   ],
   "source": [
    "for x in db.contacts.find():\n",
    "    pprint(x)\n"
   ]
  },
  {
   "cell_type": "code",
   "execution_count": 48,
   "id": "125881d4",
   "metadata": {},
   "outputs": [
    {
     "name": "stdout",
     "output_type": "stream",
     "text": [
      "batch op errors occurred, full error: {'writeErrors': [{'index': 0, 'code': 11000, 'errmsg': 'E11000 duplicate key error collection: contacts.contacts index: _id_ dup key: { _id: \"manu\" }', 'keyPattern': {'_id': 1}, 'keyValue': {'_id': 'manu'}, 'op': {'_id': 'manu', 'name': 'Manuel'}}, {'index': 1, 'code': 11000, 'errmsg': 'E11000 duplicate key error collection: contacts.contacts index: _id_ dup key: { _id: \"max\" }', 'keyPattern': {'_id': 1}, 'keyValue': {'_id': 'max'}, 'op': {'_id': 'max', 'name': 'Max'}}], 'writeConcernErrors': [], 'nInserted': 1, 'nUpserted': 0, 'nMatched': 0, 'nModified': 0, 'nRemoved': 0, 'upserted': []}\n"
     ]
    }
   ],
   "source": [
    "try:\n",
    "    db.contacts.insert_many(\n",
    "        [\n",
    "            {\"_id\": \"manu\", \"name\": \"Manuel\"},\n",
    "            {\"_id\": \"max\", \"name\": \"Max\"},\n",
    "            {\"_id\": \"anna\", \"name\": \"Anna\"},\n",
    "        ],\n",
    "        ordered=False,\n",
    "    )\n",
    "except Exception as e:\n",
    "    print(e)\n"
   ]
  },
  {
   "cell_type": "code",
   "execution_count": 49,
   "id": "a85881c8",
   "metadata": {},
   "outputs": [
    {
     "name": "stdout",
     "output_type": "stream",
     "text": [
      "{'_id': 'max', 'name': 'Max'}\n",
      "{'_id': 'manu', 'name': 'Manuel'}\n",
      "{'_id': 'anna', 'name': 'Anna'}\n"
     ]
    }
   ],
   "source": [
    "for x in db.contacts.find():\n",
    "    pprint(x)\n"
   ]
  },
  {
   "cell_type": "code",
   "execution_count": 50,
   "id": "dc0434ef",
   "metadata": {},
   "outputs": [],
   "source": [
    "client.close()\n"
   ]
  }
 ],
 "metadata": {
  "kernelspec": {
   "display_name": "Python 3 (ipykernel)",
   "language": "python",
   "name": "python3"
  },
  "language_info": {
   "codemirror_mode": {
    "name": "ipython",
    "version": 3
   },
   "file_extension": ".py",
   "mimetype": "text/x-python",
   "name": "python",
   "nbconvert_exporter": "python",
   "pygments_lexer": "ipython3",
   "version": "3.10.6"
  }
 },
 "nbformat": 4,
 "nbformat_minor": 5
}
