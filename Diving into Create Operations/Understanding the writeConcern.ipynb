{
 "cells": [
  {
   "cell_type": "code",
   "execution_count": 242,
   "id": "04ca7f03",
   "metadata": {},
   "outputs": [
    {
     "data": {
      "text/plain": [
       "['admin', 'config', 'local']"
      ]
     },
     "execution_count": 242,
     "metadata": {},
     "output_type": "execute_result"
    }
   ],
   "source": [
    "from pymongo import MongoClient\n",
    "from pprint import pprint\n",
    "\n",
    "client = MongoClient(\"localhost\", 27017)\n",
    "client.drop_database(\"contacts\")\n",
    "client.list_database_names()\n"
   ]
  },
  {
   "cell_type": "code",
   "execution_count": 243,
   "id": "0a1e598e",
   "metadata": {},
   "outputs": [
    {
     "data": {
      "text/plain": [
       "[]"
      ]
     },
     "execution_count": 243,
     "metadata": {},
     "output_type": "execute_result"
    }
   ],
   "source": [
    "db = client.contacts\n",
    "db.list_collection_names()\n"
   ]
  },
  {
   "cell_type": "code",
   "execution_count": 244,
   "id": "22dbc24f",
   "metadata": {},
   "outputs": [
    {
     "data": {
      "text/plain": [
       "WriteConcern()"
      ]
     },
     "execution_count": 244,
     "metadata": {},
     "output_type": "execute_result"
    }
   ],
   "source": [
    "db.people.write_concern\n"
   ]
  },
  {
   "cell_type": "code",
   "execution_count": 245,
   "id": "10218a29",
   "metadata": {},
   "outputs": [
    {
     "data": {
      "text/plain": [
       "True"
      ]
     },
     "execution_count": 245,
     "metadata": {},
     "output_type": "execute_result"
    }
   ],
   "source": [
    "db.peop.insert_one({\"name\": \"Max\", \"age\": 30}).acknowledged\n"
   ]
  },
  {
   "cell_type": "code",
   "execution_count": 246,
   "id": "d1da6941",
   "metadata": {},
   "outputs": [
    {
     "data": {
      "text/plain": [
       "WriteConcern(w=0)"
      ]
     },
     "execution_count": 246,
     "metadata": {},
     "output_type": "execute_result"
    }
   ],
   "source": [
    "client2 = MongoClient(\"localhost\", 27017, w=0)\n",
    "db = client2.contacts\n",
    "db.people.write_concern\n"
   ]
  },
  {
   "cell_type": "code",
   "execution_count": 247,
   "id": "c4f67e07",
   "metadata": {},
   "outputs": [
    {
     "data": {
      "text/plain": [
       "False"
      ]
     },
     "execution_count": 247,
     "metadata": {},
     "output_type": "execute_result"
    }
   ],
   "source": [
    "db.people.insert_one({\"name\": \"Christy\", \"age\": 41}).acknowledged\n"
   ]
  },
  {
   "cell_type": "code",
   "execution_count": 248,
   "id": "dc0434ef",
   "metadata": {},
   "outputs": [],
   "source": [
    "client.close()\n",
    "client2.close()\n"
   ]
  }
 ],
 "metadata": {
  "kernelspec": {
   "display_name": "Python 3 (ipykernel)",
   "language": "python",
   "name": "python3"
  },
  "language_info": {
   "codemirror_mode": {
    "name": "ipython",
    "version": 3
   },
   "file_extension": ".py",
   "mimetype": "text/x-python",
   "name": "python",
   "nbconvert_exporter": "python",
   "pygments_lexer": "ipython3",
   "version": "3.10.6"
  }
 },
 "nbformat": 4,
 "nbformat_minor": 5
}
