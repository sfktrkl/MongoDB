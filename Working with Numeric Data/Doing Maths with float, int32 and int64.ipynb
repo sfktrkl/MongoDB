{
 "cells": [
  {
   "cell_type": "code",
   "execution_count": 212,
   "id": "04ca7f03",
   "metadata": {},
   "outputs": [],
   "source": [
    "from pymongo import MongoClient\n",
    "\n",
    "client = MongoClient(\"localhost\", 27017)\n",
    "client.drop_database(\"database\")\n",
    "client.list_database_names()\n",
    "db = client.database\n"
   ]
  },
  {
   "cell_type": "code",
   "execution_count": 213,
   "id": "5504c7ec",
   "metadata": {},
   "outputs": [
    {
     "data": {
      "text/plain": [
       "int"
      ]
     },
     "execution_count": 213,
     "metadata": {},
     "output_type": "execute_result"
    }
   ],
   "source": [
    "db.collection.insert_one({\"a\": 1})\n",
    "type(db.collection.find_one({})[\"a\"])\n"
   ]
  },
  {
   "cell_type": "code",
   "execution_count": 214,
   "id": "8dde2426",
   "metadata": {},
   "outputs": [
    {
     "data": {
      "text/plain": [
       "11"
      ]
     },
     "execution_count": 214,
     "metadata": {},
     "output_type": "execute_result"
    }
   ],
   "source": [
    "db.collection.update_one({}, {\"$inc\": {\"a\": 10}})\n",
    "db.collection.find_one({})[\"a\"]\n"
   ]
  },
  {
   "cell_type": "code",
   "execution_count": 215,
   "id": "2fd60bae",
   "metadata": {},
   "outputs": [
    {
     "data": {
      "text/plain": [
       "bson.int64.Int64"
      ]
     },
     "execution_count": 215,
     "metadata": {},
     "output_type": "execute_result"
    }
   ],
   "source": [
    "db.collection.update_one({}, {\"$inc\": {\"a\": 100000000000000}})\n",
    "type(db.collection.find_one({})[\"a\"])\n"
   ]
  },
  {
   "cell_type": "code",
   "execution_count": 216,
   "id": "daa09145",
   "metadata": {},
   "outputs": [
    {
     "data": {
      "text/plain": [
       "100000000000011"
      ]
     },
     "execution_count": 216,
     "metadata": {},
     "output_type": "execute_result"
    }
   ],
   "source": [
    "db.collection.find_one({})[\"a\"]\n"
   ]
  },
  {
   "cell_type": "code",
   "execution_count": 217,
   "id": "994dea64",
   "metadata": {},
   "outputs": [
    {
     "data": {
      "text/plain": [
       "float"
      ]
     },
     "execution_count": 217,
     "metadata": {},
     "output_type": "execute_result"
    }
   ],
   "source": [
    "db.collection.update_one({}, {\"$inc\": {\"a\": 1.1}})\n",
    "type(db.collection.find_one({})[\"a\"])\n"
   ]
  },
  {
   "cell_type": "code",
   "execution_count": 218,
   "id": "ade02cdc",
   "metadata": {},
   "outputs": [
    {
     "data": {
      "text/plain": [
       "100000000000012.1"
      ]
     },
     "execution_count": 218,
     "metadata": {},
     "output_type": "execute_result"
    }
   ],
   "source": [
    "db.collection.find_one({})[\"a\"]\n"
   ]
  },
  {
   "cell_type": "code",
   "execution_count": 219,
   "id": "ef712fd0",
   "metadata": {},
   "outputs": [
    {
     "data": {
      "text/plain": [
       "float"
      ]
     },
     "execution_count": 219,
     "metadata": {},
     "output_type": "execute_result"
    }
   ],
   "source": [
    "db.collection.update_one({}, {\"$inc\": {\"a\": -1.01}})\n",
    "type(db.collection.find_one({})[\"a\"])\n"
   ]
  },
  {
   "cell_type": "code",
   "execution_count": 220,
   "id": "971735d3",
   "metadata": {},
   "outputs": [
    {
     "data": {
      "text/plain": [
       "100000000000011.08"
      ]
     },
     "execution_count": 220,
     "metadata": {},
     "output_type": "execute_result"
    }
   ],
   "source": [
    "db.collection.find_one({})[\"a\"]\n"
   ]
  },
  {
   "cell_type": "code",
   "execution_count": 221,
   "id": "dc0434ef",
   "metadata": {},
   "outputs": [],
   "source": [
    "client.close()\n"
   ]
  }
 ],
 "metadata": {
  "kernelspec": {
   "display_name": "Python 3 (ipykernel)",
   "language": "python",
   "name": "python3"
  },
  "language_info": {
   "codemirror_mode": {
    "name": "ipython",
    "version": 3
   },
   "file_extension": ".py",
   "mimetype": "text/x-python",
   "name": "python",
   "nbconvert_exporter": "python",
   "pygments_lexer": "ipython3",
   "version": "3.10.6"
  }
 },
 "nbformat": 4,
 "nbformat_minor": 5
}
