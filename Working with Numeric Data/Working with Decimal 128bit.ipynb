{
 "cells": [
  {
   "cell_type": "code",
   "execution_count": 107,
   "id": "04ca7f03",
   "metadata": {},
   "outputs": [],
   "source": [
    "from pymongo import MongoClient\n",
    "\n",
    "client = MongoClient(\"localhost\", 27017)\n",
    "client.drop_database(\"database\")\n",
    "client.list_database_names()\n",
    "db = client.database\n"
   ]
  },
  {
   "cell_type": "code",
   "execution_count": 108,
   "id": "5504c7ec",
   "metadata": {},
   "outputs": [
    {
     "data": {
      "text/plain": [
       "100000000000012.1"
      ]
     },
     "execution_count": 108,
     "metadata": {},
     "output_type": "execute_result"
    }
   ],
   "source": [
    "db.collection.insert_one({\"a\": 100000000000012.1})\n",
    "db.collection.find_one({})[\"a\"]\n"
   ]
  },
  {
   "cell_type": "code",
   "execution_count": 109,
   "id": "fa6302dd",
   "metadata": {},
   "outputs": [
    {
     "data": {
      "text/plain": [
       "100000000000011.08"
      ]
     },
     "execution_count": 109,
     "metadata": {},
     "output_type": "execute_result"
    }
   ],
   "source": [
    "db.collection.update_one({}, {\"$inc\": {\"a\": -1.01}})\n",
    "db.collection.find_one({})[\"a\"]\n"
   ]
  },
  {
   "cell_type": "code",
   "execution_count": 110,
   "id": "be361845",
   "metadata": {},
   "outputs": [
    {
     "data": {
      "text/plain": [
       "Decimal128('100000000000012.1')"
      ]
     },
     "execution_count": 110,
     "metadata": {},
     "output_type": "execute_result"
    }
   ],
   "source": [
    "db.collection.delete_one({})\n",
    "from bson.decimal128 import Decimal128\n",
    "db.collection.insert_one({\"a\": Decimal128(\"100000000000012.1\")})\n",
    "db.collection.find_one({})[\"a\"]\n"
   ]
  },
  {
   "cell_type": "code",
   "execution_count": 111,
   "id": "ef712fd0",
   "metadata": {},
   "outputs": [
    {
     "data": {
      "text/plain": [
       "Decimal128('100000000000011.09')"
      ]
     },
     "execution_count": 111,
     "metadata": {},
     "output_type": "execute_result"
    }
   ],
   "source": [
    "db.collection.update_one({}, {\"$inc\": {\"a\": Decimal128(\"-1.01\")}})\n",
    "db.collection.find_one({})[\"a\"]\n"
   ]
  },
  {
   "cell_type": "code",
   "execution_count": 112,
   "id": "f0beea75",
   "metadata": {},
   "outputs": [
    {
     "data": {
      "text/plain": [
       "41.0"
      ]
     },
     "execution_count": 112,
     "metadata": {},
     "output_type": "execute_result"
    }
   ],
   "source": [
    "db.command(\"dbstats\")[\"dataSize\"]\n"
   ]
  },
  {
   "cell_type": "code",
   "execution_count": 113,
   "id": "dc0434ef",
   "metadata": {},
   "outputs": [],
   "source": [
    "client.close()\n"
   ]
  }
 ],
 "metadata": {
  "kernelspec": {
   "display_name": "Python 3 (ipykernel)",
   "language": "python",
   "name": "python3"
  },
  "language_info": {
   "codemirror_mode": {
    "name": "ipython",
    "version": 3
   },
   "file_extension": ".py",
   "mimetype": "text/x-python",
   "name": "python",
   "nbconvert_exporter": "python",
   "pygments_lexer": "ipython3",
   "version": "3.10.6"
  }
 },
 "nbformat": 4,
 "nbformat_minor": 5
}
