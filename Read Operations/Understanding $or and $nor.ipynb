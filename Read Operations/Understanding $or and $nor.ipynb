{
 "cells": [
  {
   "cell_type": "code",
   "execution_count": 109,
   "id": "04ca7f03",
   "metadata": {},
   "outputs": [
    {
     "data": {
      "text/plain": [
       "<pymongo.results.InsertManyResult at 0x7fe6c514b430>"
      ]
     },
     "execution_count": 109,
     "metadata": {},
     "output_type": "execute_result"
    }
   ],
   "source": [
    "from pymongo import MongoClient\n",
    "from pprint import pprint\n",
    "import json\n",
    "\n",
    "client = MongoClient(\"localhost\", 27017)\n",
    "client.drop_database(\"movieData\")\n",
    "\n",
    "db = client.movieData\n",
    "with open(\"tv-shows.json\") as f:\n",
    "    file_data = json.load(f)\n",
    "db.movies.insert_many(file_data)\n"
   ]
  },
  {
   "cell_type": "code",
   "execution_count": 110,
   "id": "e12f6251",
   "metadata": {},
   "outputs": [
    {
     "data": {
      "text/plain": [
       "{'average': 4.4}"
      ]
     },
     "execution_count": 110,
     "metadata": {},
     "output_type": "execute_result"
    }
   ],
   "source": [
    "db.movies.find_one({\"rating.average\": {\"$lt\": 4.5}})[\"rating\"]\n"
   ]
  },
  {
   "cell_type": "code",
   "execution_count": 111,
   "id": "05cfd654",
   "metadata": {},
   "outputs": [
    {
     "data": {
      "text/plain": [
       "{'average': 9.4}"
      ]
     },
     "execution_count": 111,
     "metadata": {},
     "output_type": "execute_result"
    }
   ],
   "source": [
    "db.movies.find_one({\"rating.average\": {\"$gt\": 9.3}})[\"rating\"]\n"
   ]
  },
  {
   "cell_type": "code",
   "execution_count": 112,
   "id": "3de0d490",
   "metadata": {},
   "outputs": [
    {
     "name": "stdout",
     "output_type": "stream",
     "text": [
      "{'average': 9.4}\n",
      "{'average': 4.4}\n",
      "{'average': 9.4}\n"
     ]
    }
   ],
   "source": [
    "for x in db.movies.find(\n",
    "    {\"$or\": [{\"rating.average\": {\"$lt\": 4.5}}, {\"rating.average\": {\"$gt\": 9.3}}]}\n",
    "):\n",
    "    pprint(x[\"rating\"])\n"
   ]
  },
  {
   "cell_type": "code",
   "execution_count": 113,
   "id": "2cc1df60",
   "metadata": {},
   "outputs": [
    {
     "data": {
      "text/plain": [
       "240"
      ]
     },
     "execution_count": 113,
     "metadata": {},
     "output_type": "execute_result"
    }
   ],
   "source": [
    "len(list(db.movies.find()))\n"
   ]
  },
  {
   "cell_type": "code",
   "execution_count": 114,
   "id": "eee63e66",
   "metadata": {},
   "outputs": [
    {
     "data": {
      "text/plain": [
       "3"
      ]
     },
     "execution_count": 114,
     "metadata": {},
     "output_type": "execute_result"
    }
   ],
   "source": [
    "len(\n",
    "    list(\n",
    "        db.movies.find(\n",
    "            {\n",
    "                \"$or\": [\n",
    "                    {\"rating.average\": {\"$lt\": 4.5}},\n",
    "                    {\"rating.average\": {\"$gt\": 9.3}},\n",
    "                ]\n",
    "            }\n",
    "        )\n",
    "    )\n",
    ")\n"
   ]
  },
  {
   "cell_type": "code",
   "execution_count": 115,
   "id": "af9122fd",
   "metadata": {},
   "outputs": [
    {
     "data": {
      "text/plain": [
       "237"
      ]
     },
     "execution_count": 115,
     "metadata": {},
     "output_type": "execute_result"
    }
   ],
   "source": [
    "len(\n",
    "    list(\n",
    "        db.movies.find(\n",
    "            {\n",
    "                \"$nor\": [\n",
    "                    {\"rating.average\": {\"$lt\": 4.5}},\n",
    "                    {\"rating.average\": {\"$gt\": 9.3}},\n",
    "                ]\n",
    "            }\n",
    "        )\n",
    "    )\n",
    ")\n"
   ]
  },
  {
   "cell_type": "code",
   "execution_count": 116,
   "id": "dc0434ef",
   "metadata": {},
   "outputs": [],
   "source": [
    "client.close()\n"
   ]
  }
 ],
 "metadata": {
  "kernelspec": {
   "display_name": "Python 3 (ipykernel)",
   "language": "python",
   "name": "python3"
  },
  "language_info": {
   "codemirror_mode": {
    "name": "ipython",
    "version": 3
   },
   "file_extension": ".py",
   "mimetype": "text/x-python",
   "name": "python",
   "nbconvert_exporter": "python",
   "pygments_lexer": "ipython3",
   "version": "3.10.6"
  }
 },
 "nbformat": 4,
 "nbformat_minor": 5
}
