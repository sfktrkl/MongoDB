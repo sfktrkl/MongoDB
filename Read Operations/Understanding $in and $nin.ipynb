{
 "cells": [
  {
   "cell_type": "code",
   "execution_count": 9,
   "id": "04ca7f03",
   "metadata": {},
   "outputs": [
    {
     "data": {
      "text/plain": [
       "<pymongo.results.InsertManyResult at 0x7fde984926b0>"
      ]
     },
     "execution_count": 9,
     "metadata": {},
     "output_type": "execute_result"
    }
   ],
   "source": [
    "from pymongo import MongoClient\n",
    "from pprint import pprint\n",
    "import json\n",
    "\n",
    "client = MongoClient(\"localhost\", 27017)\n",
    "client.drop_database(\"movieData\")\n",
    "\n",
    "db = client.movieData\n",
    "with open(\"tv-shows.json\") as f:\n",
    "    file_data = json.load(f)\n",
    "db.movies.insert_many(file_data)\n"
   ]
  },
  {
   "cell_type": "code",
   "execution_count": 10,
   "id": "e12f6251",
   "metadata": {},
   "outputs": [
    {
     "data": {
      "text/plain": [
       "30"
      ]
     },
     "execution_count": 10,
     "metadata": {},
     "output_type": "execute_result"
    }
   ],
   "source": [
    "db.movies.find_one({\"runtime\": {\"$in\": [30, 42]}})[\"runtime\"]\n"
   ]
  },
  {
   "cell_type": "code",
   "execution_count": 11,
   "id": "ad31409b",
   "metadata": {},
   "outputs": [
    {
     "data": {
      "text/plain": [
       "60"
      ]
     },
     "execution_count": 11,
     "metadata": {},
     "output_type": "execute_result"
    }
   ],
   "source": [
    "db.movies.find_one({\"runtime\": {\"$nin\": [30, 42]}})[\"runtime\"]\n"
   ]
  },
  {
   "cell_type": "code",
   "execution_count": 13,
   "id": "dc0434ef",
   "metadata": {},
   "outputs": [],
   "source": [
    "client.close()\n"
   ]
  }
 ],
 "metadata": {
  "kernelspec": {
   "display_name": "Python 3 (ipykernel)",
   "language": "python",
   "name": "python3"
  },
  "language_info": {
   "codemirror_mode": {
    "name": "ipython",
    "version": 3
   },
   "file_extension": ".py",
   "mimetype": "text/x-python",
   "name": "python",
   "nbconvert_exporter": "python",
   "pygments_lexer": "ipython3",
   "version": "3.10.6"
  }
 },
 "nbformat": 4,
 "nbformat_minor": 5
}
