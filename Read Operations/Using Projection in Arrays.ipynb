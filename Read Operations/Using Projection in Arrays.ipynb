{
 "cells": [
  {
   "cell_type": "code",
   "execution_count": 243,
   "id": "04ca7f03",
   "metadata": {},
   "outputs": [
    {
     "data": {
      "text/plain": [
       "<pymongo.results.InsertManyResult at 0x7f418c752ce0>"
      ]
     },
     "execution_count": 243,
     "metadata": {},
     "output_type": "execute_result"
    }
   ],
   "source": [
    "from pymongo import MongoClient\n",
    "from pprint import pprint\n",
    "import json\n",
    "\n",
    "client = MongoClient(\"localhost\", 27017)\n",
    "client.drop_database(\"movieData\")\n",
    "\n",
    "db = client.movieData\n",
    "with open(\"tv-shows.json\") as f:\n",
    "    file_data = json.load(f)\n",
    "db.movies.insert_many(file_data)\n"
   ]
  },
  {
   "cell_type": "code",
   "execution_count": 244,
   "id": "48030f86",
   "metadata": {},
   "outputs": [
    {
     "name": "stdout",
     "output_type": "stream",
     "text": [
      "{'_id': ObjectId('6453274faa37d7b2014aac0e'), 'genres': ['Drama']}\n",
      "{'_id': ObjectId('6453274faa37d7b2014aac0f'), 'genres': ['Drama']}\n",
      "{'_id': ObjectId('6453274faa37d7b2014aac10'), 'genres': ['Drama']}\n"
     ]
    }
   ],
   "source": [
    "for x in db.movies.find({\"genres\": \"Drama\"}, {\"genres.$\": 1}).limit(3):\n",
    "    pprint(x)\n"
   ]
  },
  {
   "cell_type": "code",
   "execution_count": 245,
   "id": "18979a0e",
   "metadata": {},
   "outputs": [
    {
     "name": "stdout",
     "output_type": "stream",
     "text": [
      "{'_id': ObjectId('6453274faa37d7b2014aac10'), 'genres': ['Horror']}\n",
      "{'_id': ObjectId('6453274faa37d7b2014aac19'), 'genres': ['Horror']}\n",
      "{'_id': ObjectId('6453274faa37d7b2014aac1c'), 'genres': ['Horror']}\n"
     ]
    }
   ],
   "source": [
    "for x in db.movies.find(\n",
    "    {\"genres\": {\"$all\": [\"Drama\", \"Horror\"]}}, {\"genres.$\": 1}\n",
    ").limit(3):\n",
    "    pprint(x)\n"
   ]
  },
  {
   "cell_type": "code",
   "execution_count": 246,
   "id": "2260a046",
   "metadata": {},
   "outputs": [
    {
     "name": "stdout",
     "output_type": "stream",
     "text": [
      "{'_id': ObjectId('6453274faa37d7b2014aac0e')}\n",
      "{'_id': ObjectId('6453274faa37d7b2014aac0f')}\n",
      "{'_id': ObjectId('6453274faa37d7b2014aac10'), 'genres': ['Horror']}\n"
     ]
    }
   ],
   "source": [
    "for x in db.movies.find(\n",
    "    {\"genres\": \"Drama\"}, {\"genres\": {\"$elemMatch\": {\"$eq\": \"Horror\"}}}\n",
    ").limit(3):\n",
    "    pprint(x)\n"
   ]
  },
  {
   "cell_type": "code",
   "execution_count": 247,
   "id": "dc0434ef",
   "metadata": {},
   "outputs": [],
   "source": [
    "client.close()\n"
   ]
  }
 ],
 "metadata": {
  "kernelspec": {
   "display_name": "Python 3 (ipykernel)",
   "language": "python",
   "name": "python3"
  },
  "language_info": {
   "codemirror_mode": {
    "name": "ipython",
    "version": 3
   },
   "file_extension": ".py",
   "mimetype": "text/x-python",
   "name": "python",
   "nbconvert_exporter": "python",
   "pygments_lexer": "ipython3",
   "version": "3.10.6"
  }
 },
 "nbformat": 4,
 "nbformat_minor": 5
}
