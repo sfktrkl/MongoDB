{
 "cells": [
  {
   "cell_type": "code",
   "execution_count": 27,
   "id": "04ca7f03",
   "metadata": {},
   "outputs": [
    {
     "data": {
      "text/plain": [
       "<pymongo.results.InsertManyResult at 0x7fc7d5167760>"
      ]
     },
     "execution_count": 27,
     "metadata": {},
     "output_type": "execute_result"
    }
   ],
   "source": [
    "from pymongo import MongoClient\n",
    "from pprint import pprint\n",
    "import json\n",
    "\n",
    "client = MongoClient(\"localhost\", 27017)\n",
    "client.drop_database(\"movieData\")\n",
    "\n",
    "db = client.movieData\n",
    "with open(\"tv-shows.json\") as f:\n",
    "    file_data = json.load(f)\n",
    "db.movies.insert_many(file_data)\n"
   ]
  },
  {
   "cell_type": "code",
   "execution_count": 28,
   "id": "48030f86",
   "metadata": {},
   "outputs": [
    {
     "data": {
      "text/plain": [
       "{'average': 9}"
      ]
     },
     "execution_count": 28,
     "metadata": {},
     "output_type": "execute_result"
    }
   ],
   "source": [
    "db.movies.find_one({\"rating.average\": {\"$gt\": 7}})[\"rating\"]\n"
   ]
  },
  {
   "cell_type": "code",
   "execution_count": 29,
   "id": "34f8e885",
   "metadata": {},
   "outputs": [
    {
     "data": {
      "text/plain": [
       "['Drama', 'Science-Fiction', 'Thriller']"
      ]
     },
     "execution_count": 29,
     "metadata": {},
     "output_type": "execute_result"
    }
   ],
   "source": [
    "db.movies.find_one({\"genres\": \"Drama\"})[\"genres\"]\n"
   ]
  },
  {
   "cell_type": "code",
   "execution_count": 30,
   "id": "150f8545",
   "metadata": {},
   "outputs": [
    {
     "data": {
      "text/plain": [
       "['Drama']"
      ]
     },
     "execution_count": 30,
     "metadata": {},
     "output_type": "execute_result"
    }
   ],
   "source": [
    "db.movies.find_one({\"genres\": [\"Drama\"]})[\"genres\"]\n"
   ]
  },
  {
   "cell_type": "code",
   "execution_count": 31,
   "id": "dc0434ef",
   "metadata": {},
   "outputs": [],
   "source": [
    "client.close()\n"
   ]
  }
 ],
 "metadata": {
  "kernelspec": {
   "display_name": "Python 3 (ipykernel)",
   "language": "python",
   "name": "python3"
  },
  "language_info": {
   "codemirror_mode": {
    "name": "ipython",
    "version": 3
   },
   "file_extension": ".py",
   "mimetype": "text/x-python",
   "name": "python",
   "nbconvert_exporter": "python",
   "pygments_lexer": "ipython3",
   "version": "3.10.6"
  }
 },
 "nbformat": 4,
 "nbformat_minor": 5
}
