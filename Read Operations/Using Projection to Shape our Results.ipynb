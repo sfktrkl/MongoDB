{
 "cells": [
  {
   "cell_type": "code",
   "execution_count": 25,
   "id": "04ca7f03",
   "metadata": {},
   "outputs": [
    {
     "data": {
      "text/plain": [
       "<pymongo.results.InsertManyResult at 0x7fcbfc17d150>"
      ]
     },
     "execution_count": 25,
     "metadata": {},
     "output_type": "execute_result"
    }
   ],
   "source": [
    "from pymongo import MongoClient\n",
    "from pprint import pprint\n",
    "import json\n",
    "\n",
    "client = MongoClient(\"localhost\", 27017)\n",
    "client.drop_database(\"movieData\")\n",
    "\n",
    "db = client.movieData\n",
    "with open(\"tv-shows.json\") as f:\n",
    "    file_data = json.load(f)\n",
    "db.movies.insert_many(file_data)\n"
   ]
  },
  {
   "cell_type": "code",
   "execution_count": 26,
   "id": "48030f86",
   "metadata": {},
   "outputs": [
    {
     "data": {
      "text/plain": [
       "{'_id': ObjectId('645323e151d5b701a7eb9bc4'),\n",
       " 'name': 'Under the Dome',\n",
       " 'genres': ['Drama', 'Science-Fiction', 'Thriller'],\n",
       " 'runtime': 60,\n",
       " 'rating': {'average': 6.5}}"
      ]
     },
     "execution_count": 26,
     "metadata": {},
     "output_type": "execute_result"
    }
   ],
   "source": [
    "db.movies.find({}, {\"name\": 1, \"genres\": 1, \"runtime\": 1, \"rating\": 1}).next()\n"
   ]
  },
  {
   "cell_type": "code",
   "execution_count": 27,
   "id": "ade9d830",
   "metadata": {},
   "outputs": [
    {
     "data": {
      "text/plain": [
       "{'name': 'Under the Dome',\n",
       " 'genres': ['Drama', 'Science-Fiction', 'Thriller'],\n",
       " 'runtime': 60,\n",
       " 'rating': {'average': 6.5}}"
      ]
     },
     "execution_count": 27,
     "metadata": {},
     "output_type": "execute_result"
    }
   ],
   "source": [
    "db.movies.find({}, {\"_id\": 0, \"name\": 1, \"genres\": 1, \"runtime\": 1, \"rating\": 1}).next()\n"
   ]
  },
  {
   "cell_type": "code",
   "execution_count": 28,
   "id": "d5d12f91",
   "metadata": {},
   "outputs": [
    {
     "data": {
      "text/plain": [
       "{'name': 'Under the Dome',\n",
       " 'genres': ['Drama', 'Science-Fiction', 'Thriller'],\n",
       " 'runtime': 60,\n",
       " 'schedule': {'time': '22:00'}}"
      ]
     },
     "execution_count": 28,
     "metadata": {},
     "output_type": "execute_result"
    }
   ],
   "source": [
    "db.movies.find(\n",
    "    {}, {\"_id\": 0, \"name\": 1, \"genres\": 1, \"runtime\": 1, \"schedule.time\": 1}\n",
    ").next()\n"
   ]
  },
  {
   "cell_type": "code",
   "execution_count": 31,
   "id": "dc0434ef",
   "metadata": {},
   "outputs": [],
   "source": [
    "client.close()\n"
   ]
  }
 ],
 "metadata": {
  "kernelspec": {
   "display_name": "Python 3 (ipykernel)",
   "language": "python",
   "name": "python3"
  },
  "language_info": {
   "codemirror_mode": {
    "name": "ipython",
    "version": 3
   },
   "file_extension": ".py",
   "mimetype": "text/x-python",
   "name": "python",
   "nbconvert_exporter": "python",
   "pygments_lexer": "ipython3",
   "version": "3.10.6"
  }
 },
 "nbformat": 4,
 "nbformat_minor": 5
}
