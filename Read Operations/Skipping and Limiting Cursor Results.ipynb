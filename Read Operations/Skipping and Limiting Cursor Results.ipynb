{
 "cells": [
  {
   "cell_type": "code",
   "execution_count": 98,
   "id": "04ca7f03",
   "metadata": {},
   "outputs": [
    {
     "data": {
      "text/plain": [
       "<pymongo.results.InsertManyResult at 0x7f791442fbe0>"
      ]
     },
     "execution_count": 98,
     "metadata": {},
     "output_type": "execute_result"
    }
   ],
   "source": [
    "from pymongo import MongoClient\n",
    "from pprint import pprint\n",
    "import json\n",
    "\n",
    "client = MongoClient(\"localhost\", 27017)\n",
    "client.drop_database(\"movieData\")\n",
    "\n",
    "db = client.movieData\n",
    "with open(\"tv-shows.json\") as f:\n",
    "    file_data = json.load(f)\n",
    "db.movies.insert_many(file_data)\n"
   ]
  },
  {
   "cell_type": "code",
   "execution_count": 99,
   "id": "a19afe18",
   "metadata": {},
   "outputs": [
    {
     "name": "stdout",
     "output_type": "stream",
     "text": [
      "{'average': 9.4}\n",
      "30\n",
      "{'average': 9.4}\n",
      "60\n",
      "{'average': 9.3}\n",
      "60\n"
     ]
    }
   ],
   "source": [
    "for x in db.movies.find().sort(\"rating.average\", -1).limit(3):\n",
    "    pprint(x[\"rating\"])\n",
    "    pprint(x[\"runtime\"])\n"
   ]
  },
  {
   "cell_type": "code",
   "execution_count": 100,
   "id": "208d9008",
   "metadata": {},
   "outputs": [
    {
     "name": "stdout",
     "output_type": "stream",
     "text": [
      "{'average': 9.4}\n",
      "60\n",
      "{'average': 9.3}\n",
      "60\n"
     ]
    }
   ],
   "source": [
    "for x in db.movies.find().sort(\"rating.average\", -1).skip(1).limit(2):\n",
    "    pprint(x[\"rating\"])\n",
    "    pprint(x[\"runtime\"])\n"
   ]
  },
  {
   "cell_type": "code",
   "execution_count": 101,
   "id": "11b46b94",
   "metadata": {},
   "outputs": [
    {
     "name": "stdout",
     "output_type": "stream",
     "text": [
      "{'average': 9.4}\n",
      "60\n",
      "{'average': 9.3}\n",
      "60\n"
     ]
    }
   ],
   "source": [
    "# Order doesn't matter\n",
    "for x in db.movies.find().limit(2).skip(1).sort(\"rating.average\", -1):\n",
    "    pprint(x[\"rating\"])\n",
    "    pprint(x[\"runtime\"])\n"
   ]
  },
  {
   "cell_type": "code",
   "execution_count": 102,
   "id": "dc0434ef",
   "metadata": {},
   "outputs": [],
   "source": [
    "client.close()\n"
   ]
  }
 ],
 "metadata": {
  "kernelspec": {
   "display_name": "Python 3 (ipykernel)",
   "language": "python",
   "name": "python3"
  },
  "language_info": {
   "codemirror_mode": {
    "name": "ipython",
    "version": 3
   },
   "file_extension": ".py",
   "mimetype": "text/x-python",
   "name": "python",
   "nbconvert_exporter": "python",
   "pygments_lexer": "ipython3",
   "version": "3.10.6"
  }
 },
 "nbformat": 4,
 "nbformat_minor": 5
}
