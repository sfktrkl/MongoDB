{
 "cells": [
  {
   "cell_type": "code",
   "execution_count": 30,
   "id": "04ca7f03",
   "metadata": {},
   "outputs": [
    {
     "data": {
      "text/plain": [
       "<pymongo.results.InsertManyResult at 0x7fd486337910>"
      ]
     },
     "execution_count": 30,
     "metadata": {},
     "output_type": "execute_result"
    }
   ],
   "source": [
    "from pymongo import MongoClient\n",
    "from pprint import pprint\n",
    "import json\n",
    "\n",
    "client = MongoClient(\"localhost\", 27017)\n",
    "client.drop_database(\"movieData\")\n",
    "\n",
    "db = client.movieData\n",
    "with open(\"tv-shows.json\") as f:\n",
    "    file_data = json.load(f)\n",
    "db.movies.insert_many(file_data)\n"
   ]
  },
  {
   "cell_type": "code",
   "execution_count": 31,
   "id": "48030f86",
   "metadata": {},
   "outputs": [
    {
     "name": "stdout",
     "output_type": "stream",
     "text": [
      "['Drama', 'Horror']\n",
      "['Drama', 'Horror']\n"
     ]
    }
   ],
   "source": [
    "for x in db.movies.find({\"genres\": [\"Drama\", \"Horror\"]}):\n",
    "    pprint(x[\"genres\"])\n"
   ]
  },
  {
   "cell_type": "code",
   "execution_count": 32,
   "id": "c37a9e3f",
   "metadata": {},
   "outputs": [
    {
     "name": "stdout",
     "output_type": "stream",
     "text": [
      "['Drama', 'Horror', 'Romance']\n",
      "['Drama', 'Fantasy', 'Horror']\n",
      "['Drama', 'Action', 'Horror']\n",
      "['Drama', 'Horror', 'Thriller']\n",
      "['Drama', 'Horror', 'Thriller']\n",
      "['Drama', 'Action', 'Anime', 'Horror']\n",
      "['Drama', 'Horror', 'Thriller']\n",
      "['Drama', 'Horror', 'Thriller']\n",
      "['Drama', 'Action', 'Horror']\n",
      "['Drama', 'Horror', 'Romance']\n",
      "['Drama', 'Fantasy', 'Horror']\n",
      "['Drama', 'Crime', 'Horror']\n",
      "['Drama', 'Horror', 'Thriller']\n",
      "['Drama', 'Horror']\n",
      "['Drama', 'Horror', 'Romance']\n",
      "['Drama', 'Horror']\n",
      "['Drama', 'Horror', 'Supernatural']\n"
     ]
    }
   ],
   "source": [
    "for x in db.movies.find({\"genres\": {\"$all\": [\"Drama\", \"Horror\"]}}):\n",
    "    pprint(x[\"genres\"])"
   ]
  },
  {
   "cell_type": "code",
   "execution_count": 33,
   "id": "dc0434ef",
   "metadata": {},
   "outputs": [],
   "source": [
    "client.close()\n"
   ]
  }
 ],
 "metadata": {
  "kernelspec": {
   "display_name": "Python 3 (ipykernel)",
   "language": "python",
   "name": "python3"
  },
  "language_info": {
   "codemirror_mode": {
    "name": "ipython",
    "version": 3
   },
   "file_extension": ".py",
   "mimetype": "text/x-python",
   "name": "python",
   "nbconvert_exporter": "python",
   "pygments_lexer": "ipython3",
   "version": "3.10.6"
  }
 },
 "nbformat": 4,
 "nbformat_minor": 5
}
