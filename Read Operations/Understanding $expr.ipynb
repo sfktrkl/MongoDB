{
 "cells": [
  {
   "cell_type": "code",
   "execution_count": 71,
   "id": "04ca7f03",
   "metadata": {},
   "outputs": [
    {
     "data": {
      "text/plain": [
       "['admin', 'config', 'local']"
      ]
     },
     "execution_count": 71,
     "metadata": {},
     "output_type": "execute_result"
    }
   ],
   "source": [
    "from pymongo import MongoClient\n",
    "from pprint import pprint\n",
    "\n",
    "client = MongoClient(\"localhost\", 27017)\n",
    "client.drop_database(\"financialData\")\n",
    "client.list_database_names()\n"
   ]
  },
  {
   "cell_type": "code",
   "execution_count": 72,
   "id": "0a1e598e",
   "metadata": {},
   "outputs": [
    {
     "data": {
      "text/plain": [
       "[]"
      ]
     },
     "execution_count": 72,
     "metadata": {},
     "output_type": "execute_result"
    }
   ],
   "source": [
    "db = client.financialData\n",
    "db.list_collection_names()\n"
   ]
  },
  {
   "cell_type": "code",
   "execution_count": 73,
   "id": "88b58f8b",
   "metadata": {},
   "outputs": [
    {
     "data": {
      "text/plain": [
       "<pymongo.results.InsertManyResult at 0x7ff78748f670>"
      ]
     },
     "execution_count": 73,
     "metadata": {},
     "output_type": "execute_result"
    }
   ],
   "source": [
    "db.sales.insert_many(\n",
    "    [\n",
    "        {\"volume\": 100, \"target\": 120},\n",
    "        {\"volume\": 89, \"target\": 80},\n",
    "        {\"volume\": 200, \"target\": 177},\n",
    "    ]\n",
    ")\n"
   ]
  },
  {
   "cell_type": "code",
   "execution_count": 74,
   "id": "d3358fd9",
   "metadata": {},
   "outputs": [
    {
     "name": "stdout",
     "output_type": "stream",
     "text": [
      "{'_id': ObjectId('6451cd2d76b41d4ae4152299'), 'target': 80, 'volume': 89}\n",
      "{'_id': ObjectId('6451cd2d76b41d4ae415229a'), 'target': 177, 'volume': 200}\n"
     ]
    }
   ],
   "source": [
    "for x in db.sales.find({\"$expr\": {\"$gt\": [\"$volume\", \"$target\"]}}):\n",
    "    pprint(x)\n"
   ]
  },
  {
   "cell_type": "code",
   "execution_count": 75,
   "id": "2ea6c656",
   "metadata": {},
   "outputs": [
    {
     "name": "stdout",
     "output_type": "stream",
     "text": [
      "{'_id': ObjectId('6451cd2d76b41d4ae4152299'), 'target': 80, 'volume': 89}\n"
     ]
    }
   ],
   "source": [
    "for x in db.sales.find(\n",
    "    {\n",
    "        \"$expr\": {\n",
    "            \"$gt\": [\n",
    "                {\n",
    "                    \"$cond\": {\n",
    "                        \"if\": {\"$gte\": [\"$volume\", 190]},\n",
    "                        \"then\": {\"$subtract\": [\"$volume\", 30]},\n",
    "                        \"else\": \"$volume\",\n",
    "                    }\n",
    "                },\n",
    "                \"$target\",\n",
    "            ]\n",
    "        }\n",
    "    }\n",
    "):\n",
    "    pprint(x)\n"
   ]
  },
  {
   "cell_type": "code",
   "execution_count": 76,
   "id": "dc0434ef",
   "metadata": {},
   "outputs": [],
   "source": [
    "client.close()\n"
   ]
  }
 ],
 "metadata": {
  "kernelspec": {
   "display_name": "Python 3 (ipykernel)",
   "language": "python",
   "name": "python3"
  },
  "language_info": {
   "codemirror_mode": {
    "name": "ipython",
    "version": 3
   },
   "file_extension": ".py",
   "mimetype": "text/x-python",
   "name": "python",
   "nbconvert_exporter": "python",
   "pygments_lexer": "ipython3",
   "version": "3.10.6"
  }
 },
 "nbformat": 4,
 "nbformat_minor": 5
}
