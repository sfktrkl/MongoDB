{
 "cells": [
  {
   "cell_type": "code",
   "execution_count": 22,
   "id": "04ca7f03",
   "metadata": {},
   "outputs": [
    {
     "data": {
      "text/plain": [
       "<pymongo.results.InsertManyResult at 0x7ffb36fdec20>"
      ]
     },
     "execution_count": 22,
     "metadata": {},
     "output_type": "execute_result"
    }
   ],
   "source": [
    "from pymongo import MongoClient\n",
    "from pprint import pprint\n",
    "import json\n",
    "\n",
    "client = MongoClient(\"localhost\", 27017)\n",
    "client.drop_database(\"movieData\")\n",
    "\n",
    "db = client.movieData\n",
    "with open(\"tv-shows.json\") as f:\n",
    "    file_data = json.load(f)\n",
    "db.movies.insert_many(file_data)\n"
   ]
  },
  {
   "cell_type": "code",
   "execution_count": 23,
   "id": "48030f86",
   "metadata": {},
   "outputs": [
    {
     "data": {
      "text/plain": [
       "ObjectId('6451c0184ede9799986238c0')"
      ]
     },
     "execution_count": 23,
     "metadata": {},
     "output_type": "execute_result"
    }
   ],
   "source": [
    "db.movies.find_one()[\"_id\"]\n"
   ]
  },
  {
   "cell_type": "code",
   "execution_count": 24,
   "id": "e12f6251",
   "metadata": {},
   "outputs": [
    {
     "data": {
      "text/plain": [
       "'The Last Ship'"
      ]
     },
     "execution_count": 24,
     "metadata": {},
     "output_type": "execute_result"
    }
   ],
   "source": [
    "db.movies.find_one({\"name\": \"The Last Ship\"})[\"name\"]\n"
   ]
  },
  {
   "cell_type": "code",
   "execution_count": 25,
   "id": "88b58f8b",
   "metadata": {},
   "outputs": [
    {
     "name": "stdout",
     "output_type": "stream",
     "text": [
      "'The Last Ship'\n"
     ]
    }
   ],
   "source": [
    "for x in db.movies.find({\"name\": \"The Last Ship\"}):\n",
    "    pprint(x[\"name\"])\n"
   ]
  },
  {
   "cell_type": "code",
   "execution_count": 26,
   "id": "dc0434ef",
   "metadata": {},
   "outputs": [],
   "source": [
    "client.close()\n"
   ]
  }
 ],
 "metadata": {
  "kernelspec": {
   "display_name": "Python 3 (ipykernel)",
   "language": "python",
   "name": "python3"
  },
  "language_info": {
   "codemirror_mode": {
    "name": "ipython",
    "version": 3
   },
   "file_extension": ".py",
   "mimetype": "text/x-python",
   "name": "python",
   "nbconvert_exporter": "python",
   "pygments_lexer": "ipython3",
   "version": "3.10.6"
  }
 },
 "nbformat": 4,
 "nbformat_minor": 5
}
