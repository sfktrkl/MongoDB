{
 "cells": [
  {
   "cell_type": "code",
   "execution_count": 63,
   "id": "04ca7f03",
   "metadata": {},
   "outputs": [
    {
     "data": {
      "text/plain": [
       "<pymongo.results.InsertManyResult at 0x7fc348c217e0>"
      ]
     },
     "execution_count": 63,
     "metadata": {},
     "output_type": "execute_result"
    }
   ],
   "source": [
    "from pymongo import MongoClient\n",
    "from pprint import pprint\n",
    "import json\n",
    "\n",
    "client = MongoClient(\"localhost\", 27017)\n",
    "client.drop_database(\"movieData\")\n",
    "\n",
    "db = client.movieData\n",
    "with open(\"tv-shows.json\") as f:\n",
    "    file_data = json.load(f)\n",
    "db.movies.insert_many(file_data)\n"
   ]
  },
  {
   "cell_type": "code",
   "execution_count": 64,
   "id": "47a34eb1",
   "metadata": {},
   "outputs": [
    {
     "name": "stdout",
     "output_type": "stream",
     "text": [
      "{'_id': ObjectId('64532846c3e3ffbb67bf1365'),\n",
      " 'genres': ['Drama', 'Horror', 'Romance'],\n",
      " 'name': 'Bitten'}\n",
      "{'_id': ObjectId('64532846c3e3ffbb67bf136e'),\n",
      " 'genres': ['Drama', 'Fantasy', 'Horror'],\n",
      " 'name': 'Lost Girl'}\n",
      "{'_id': ObjectId('64532846c3e3ffbb67bf1371'),\n",
      " 'genres': ['Drama', 'Action', 'Horror'],\n",
      " 'name': 'Constantine'}\n"
     ]
    }
   ],
   "source": [
    "for x in db.movies.find(\n",
    "    {\"genres\": {\"$all\": [\"Drama\", \"Horror\"]}}, {\"name\": 1, \"genres\": 1}\n",
    ").limit(3):\n",
    "    pprint(x)\n"
   ]
  },
  {
   "cell_type": "code",
   "execution_count": 65,
   "id": "18979a0e",
   "metadata": {},
   "outputs": [
    {
     "name": "stdout",
     "output_type": "stream",
     "text": [
      "{'_id': ObjectId('64532846c3e3ffbb67bf1365'),\n",
      " 'genres': ['Drama', 'Horror'],\n",
      " 'name': 'Bitten'}\n",
      "{'_id': ObjectId('64532846c3e3ffbb67bf136e'),\n",
      " 'genres': ['Drama', 'Fantasy'],\n",
      " 'name': 'Lost Girl'}\n",
      "{'_id': ObjectId('64532846c3e3ffbb67bf1371'),\n",
      " 'genres': ['Drama', 'Action'],\n",
      " 'name': 'Constantine'}\n"
     ]
    }
   ],
   "source": [
    "for x in db.movies.find(\n",
    "    {\"genres\": {\"$all\": [\"Drama\", \"Horror\"]}}, {\"name\": 1, \"genres\": {\"$slice\": 2}}\n",
    ").limit(3):\n",
    "    pprint(x)\n"
   ]
  },
  {
   "cell_type": "code",
   "execution_count": 66,
   "id": "2acc057d",
   "metadata": {},
   "outputs": [
    {
     "name": "stdout",
     "output_type": "stream",
     "text": [
      "{'_id': ObjectId('64532846c3e3ffbb67bf1365'),\n",
      " 'genres': ['Drama', 'Horror'],\n",
      " 'name': 'Bitten'}\n",
      "{'_id': ObjectId('64532846c3e3ffbb67bf136e'),\n",
      " 'genres': ['Drama', 'Fantasy'],\n",
      " 'name': 'Lost Girl'}\n",
      "{'_id': ObjectId('64532846c3e3ffbb67bf1371'),\n",
      " 'genres': ['Drama', 'Action'],\n",
      " 'name': 'Constantine'}\n"
     ]
    }
   ],
   "source": [
    "for x in db.movies.find(\n",
    "    {\"genres\": {\"$all\": [\"Drama\", \"Horror\"]}}, {\"name\": 1, \"genres\": {\"$slice\": [0, 2]}}\n",
    ").limit(3):\n",
    "    pprint(x)\n"
   ]
  },
  {
   "cell_type": "code",
   "execution_count": 67,
   "id": "a28e7172",
   "metadata": {},
   "outputs": [
    {
     "name": "stdout",
     "output_type": "stream",
     "text": [
      "{'_id': ObjectId('64532846c3e3ffbb67bf1365'),\n",
      " 'genres': ['Horror'],\n",
      " 'name': 'Bitten'}\n",
      "{'_id': ObjectId('64532846c3e3ffbb67bf136e'),\n",
      " 'genres': ['Fantasy'],\n",
      " 'name': 'Lost Girl'}\n",
      "{'_id': ObjectId('64532846c3e3ffbb67bf1371'),\n",
      " 'genres': ['Action'],\n",
      " 'name': 'Constantine'}\n"
     ]
    }
   ],
   "source": [
    "for x in db.movies.find(\n",
    "    {\"genres\": {\"$all\": [\"Drama\", \"Horror\"]}}, {\"name\": 1, \"genres\": {\"$slice\": [1, 1]}}\n",
    ").limit(3):\n",
    "    pprint(x)\n"
   ]
  },
  {
   "cell_type": "code",
   "execution_count": 69,
   "id": "dc0434ef",
   "metadata": {},
   "outputs": [],
   "source": [
    "client.close()\n"
   ]
  }
 ],
 "metadata": {
  "kernelspec": {
   "display_name": "Python 3 (ipykernel)",
   "language": "python",
   "name": "python3"
  },
  "language_info": {
   "codemirror_mode": {
    "name": "ipython",
    "version": 3
   },
   "file_extension": ".py",
   "mimetype": "text/x-python",
   "name": "python",
   "nbconvert_exporter": "python",
   "pygments_lexer": "ipython3",
   "version": "3.10.6"
  }
 },
 "nbformat": 4,
 "nbformat_minor": 5
}
