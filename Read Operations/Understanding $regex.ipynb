{
 "cells": [
  {
   "cell_type": "code",
   "execution_count": 19,
   "id": "04ca7f03",
   "metadata": {},
   "outputs": [
    {
     "data": {
      "text/plain": [
       "<pymongo.results.InsertManyResult at 0x7fbb0b000190>"
      ]
     },
     "execution_count": 19,
     "metadata": {},
     "output_type": "execute_result"
    }
   ],
   "source": [
    "from pymongo import MongoClient\n",
    "from pprint import pprint\n",
    "import json\n",
    "\n",
    "client = MongoClient(\"localhost\", 27017)\n",
    "client.drop_database(\"movieData\")\n",
    "\n",
    "db = client.movieData\n",
    "with open(\"tv-shows.json\") as f:\n",
    "    file_data = json.load(f)\n",
    "db.movies.insert_many(file_data)\n"
   ]
  },
  {
   "cell_type": "code",
   "execution_count": 20,
   "id": "48030f86",
   "metadata": {},
   "outputs": [],
   "source": [
    "db.movies.find_one({\"summary\": \"musical\"})\n"
   ]
  },
  {
   "cell_type": "code",
   "execution_count": 21,
   "id": "20cfb57e",
   "metadata": {},
   "outputs": [
    {
     "data": {
      "text/plain": [
       "{'_id': ObjectId('6451ca8925f8e42764eb9f78'),\n",
       " 'id': 8,\n",
       " 'url': 'http://www.tvmaze.com/shows/8/glee',\n",
       " 'name': 'Glee',\n",
       " 'type': 'Scripted',\n",
       " 'language': 'English',\n",
       " 'genres': ['Drama', 'Music', 'Romance'],\n",
       " 'status': 'Ended',\n",
       " 'runtime': 60,\n",
       " 'premiered': '2009-05-19',\n",
       " 'officialSite': 'http://www.fox.com/glee',\n",
       " 'schedule': {'time': '21:00', 'days': ['Tuesday']},\n",
       " 'rating': {'average': 6.7},\n",
       " 'weight': 71,\n",
       " 'network': {'id': 4,\n",
       "  'name': 'FOX',\n",
       "  'country': {'name': 'United States',\n",
       "   'code': 'US',\n",
       "   'timezone': 'America/New_York'}},\n",
       " 'webChannel': None,\n",
       " 'externals': {'tvrage': 21704, 'thetvdb': 83610, 'imdb': 'tt1327801'},\n",
       " 'image': {'medium': 'http://static.tvmaze.com/uploads/images/medium_portrait/0/73.jpg',\n",
       "  'original': 'http://static.tvmaze.com/uploads/images/original_untouched/0/73.jpg'},\n",
       " 'summary': '<p><b>Glee </b>is a musical comedy about a group of ambitious and talented young adults in search of strength, acceptance and, ultimately, their voice.</p>',\n",
       " 'updated': 1536145055,\n",
       " '_links': {'self': {'href': 'http://api.tvmaze.com/shows/8'},\n",
       "  'previousepisode': {'href': 'http://api.tvmaze.com/episodes/142185'}}}"
      ]
     },
     "execution_count": 21,
     "metadata": {},
     "output_type": "execute_result"
    }
   ],
   "source": [
    "db.movies.find_one({\"summary\": {\"$regex\": \"musical\"}})\n"
   ]
  },
  {
   "cell_type": "code",
   "execution_count": 22,
   "id": "dc0434ef",
   "metadata": {},
   "outputs": [],
   "source": [
    "client.close()\n"
   ]
  }
 ],
 "metadata": {
  "kernelspec": {
   "display_name": "Python 3 (ipykernel)",
   "language": "python",
   "name": "python3"
  },
  "language_info": {
   "codemirror_mode": {
    "name": "ipython",
    "version": 3
   },
   "file_extension": ".py",
   "mimetype": "text/x-python",
   "name": "python",
   "nbconvert_exporter": "python",
   "pygments_lexer": "ipython3",
   "version": "3.10.6"
  }
 },
 "nbformat": 4,
 "nbformat_minor": 5
}
