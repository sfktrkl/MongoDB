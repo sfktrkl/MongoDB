{
 "cells": [
  {
   "cell_type": "code",
   "execution_count": 62,
   "id": "04ca7f03",
   "metadata": {},
   "outputs": [
    {
     "data": {
      "text/plain": [
       "<pymongo.results.InsertManyResult at 0x7fde2c712050>"
      ]
     },
     "execution_count": 62,
     "metadata": {},
     "output_type": "execute_result"
    }
   ],
   "source": [
    "from pymongo import MongoClient\n",
    "from pprint import pprint\n",
    "import json\n",
    "\n",
    "client = MongoClient(\"localhost\", 27017)\n",
    "client.drop_database(\"movieData\")\n",
    "\n",
    "db = client.movieData\n",
    "with open(\"tv-shows.json\") as f:\n",
    "    file_data = json.load(f)\n",
    "db.movies.insert_many(file_data)\n"
   ]
  },
  {
   "cell_type": "code",
   "execution_count": 63,
   "id": "48030f86",
   "metadata": {},
   "outputs": [
    {
     "name": "stdout",
     "output_type": "stream",
     "text": [
      "{'average': 9.4}\n",
      "['Drama', 'Adventure', 'Fantasy']\n",
      "{'average': 9.3}\n",
      "['Drama', 'Crime', 'Thriller']\n",
      "{'average': 9.3}\n",
      "['Drama', 'Crime']\n"
     ]
    }
   ],
   "source": [
    "for x in db.movies.find(\n",
    "    {\"$and\": [{\"rating.average\": {\"$gt\": 9}}, {\"genres\": \"Drama\"}]}\n",
    "):\n",
    "    pprint(x[\"rating\"])\n",
    "    pprint(x[\"genres\"])\n"
   ]
  },
  {
   "cell_type": "code",
   "execution_count": 64,
   "id": "71860cb4",
   "metadata": {},
   "outputs": [
    {
     "name": "stdout",
     "output_type": "stream",
     "text": [
      "{'average': 9.4}\n",
      "['Drama', 'Adventure', 'Fantasy']\n",
      "{'average': 9.3}\n",
      "['Drama', 'Crime', 'Thriller']\n",
      "{'average': 9.3}\n",
      "['Drama', 'Crime']\n"
     ]
    }
   ],
   "source": [
    "for x in db.movies.find({\"rating.average\": {\"$gt\": 9}, \"genres\": \"Drama\"}):\n",
    "    pprint(x[\"rating\"])\n",
    "    pprint(x[\"genres\"])\n"
   ]
  },
  {
   "cell_type": "code",
   "execution_count": 65,
   "id": "3deffd0c",
   "metadata": {},
   "outputs": [
    {
     "name": "stdout",
     "output_type": "stream",
     "text": [
      "{'average': 9.4}\n",
      "['Drama', 'Adventure', 'Fantasy']\n",
      "{'average': 9.3}\n",
      "['Drama', 'Crime', 'Thriller']\n",
      "{'average': 9.3}\n",
      "['Drama', 'Crime']\n"
     ]
    }
   ],
   "source": [
    "for x in db.movies.find(\n",
    "    {\"rating.average\": {\"$gt\": 9}, \"genres\": \"Crime\", \"genres\": \"Drama\"}\n",
    "):\n",
    "    pprint(x[\"rating\"])\n",
    "    pprint(x[\"genres\"])\n"
   ]
  },
  {
   "cell_type": "code",
   "execution_count": 66,
   "id": "609bbe76",
   "metadata": {},
   "outputs": [
    {
     "name": "stdout",
     "output_type": "stream",
     "text": [
      "{'average': 9.3}\n",
      "['Drama', 'Crime', 'Thriller']\n",
      "{'average': 9.3}\n",
      "['Drama', 'Crime']\n"
     ]
    }
   ],
   "source": [
    "for x in db.movies.find(\n",
    "    {\"rating.average\": {\"$gt\": 9}, \"$and\": [{\"genres\": \"Crime\"}, {\"genres\": \"Drama\"}]}\n",
    "):\n",
    "    pprint(x[\"rating\"])\n",
    "    pprint(x[\"genres\"])\n"
   ]
  },
  {
   "cell_type": "code",
   "execution_count": 67,
   "id": "dc0434ef",
   "metadata": {},
   "outputs": [],
   "source": [
    "client.close()\n"
   ]
  }
 ],
 "metadata": {
  "kernelspec": {
   "display_name": "Python 3 (ipykernel)",
   "language": "python",
   "name": "python3"
  },
  "language_info": {
   "codemirror_mode": {
    "name": "ipython",
    "version": 3
   },
   "file_extension": ".py",
   "mimetype": "text/x-python",
   "name": "python",
   "nbconvert_exporter": "python",
   "pygments_lexer": "ipython3",
   "version": "3.10.6"
  }
 },
 "nbformat": 4,
 "nbformat_minor": 5
}
