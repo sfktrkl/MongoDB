{
 "cells": [
  {
   "cell_type": "code",
   "execution_count": 15,
   "id": "04ca7f03",
   "metadata": {},
   "outputs": [
    {
     "data": {
      "text/plain": [
       "['admin', 'config', 'financialData', 'local', 'movieData']"
      ]
     },
     "execution_count": 15,
     "metadata": {},
     "output_type": "execute_result"
    }
   ],
   "source": [
    "from pymongo import MongoClient\n",
    "from pprint import pprint\n",
    "\n",
    "client = MongoClient(\"localhost\", 27017)\n",
    "client.drop_database(\"userData\")\n",
    "client.list_database_names()\n"
   ]
  },
  {
   "cell_type": "code",
   "execution_count": 16,
   "id": "0a1e598e",
   "metadata": {},
   "outputs": [
    {
     "data": {
      "text/plain": [
       "[]"
      ]
     },
     "execution_count": 16,
     "metadata": {},
     "output_type": "execute_result"
    }
   ],
   "source": [
    "db = client.userData\n",
    "db.list_collection_names()\n"
   ]
  },
  {
   "cell_type": "code",
   "execution_count": 17,
   "id": "88b58f8b",
   "metadata": {},
   "outputs": [
    {
     "data": {
      "text/plain": [
       "<pymongo.results.InsertManyResult at 0x7f31001ac9d0>"
      ]
     },
     "execution_count": 17,
     "metadata": {},
     "output_type": "execute_result"
    }
   ],
   "source": [
    "db.users.insert_many(\n",
    "    [\n",
    "        {\n",
    "            \"name\": \"Max\",\n",
    "            \"hobbies\": [\n",
    "                {\"title\": \"Sports\", \"frequency\": 3},\n",
    "                {\"title\": \"Cooking\", \"frequency\": 6},\n",
    "            ],\n",
    "        },\n",
    "        {\n",
    "            \"name\": \"Anna\",\n",
    "            \"hobbies\": [\n",
    "                {\"title\": \"Sports\", \"frequency\": 2},\n",
    "                {\"title\": \"Cooking\", \"frequency\": 3},\n",
    "            ],\n",
    "        },\n",
    "    ]\n",
    ")\n"
   ]
  },
  {
   "cell_type": "code",
   "execution_count": 18,
   "id": "5f361489",
   "metadata": {},
   "outputs": [
    {
     "name": "stdout",
     "output_type": "stream",
     "text": [
      "{'_id': ObjectId('64531d02d0c7f208feb623b0'),\n",
      " 'hobbies': [{'frequency': 3, 'title': 'Sports'},\n",
      "             {'frequency': 6, 'title': 'Cooking'}],\n",
      " 'name': 'Max'}\n",
      "{'_id': ObjectId('64531d02d0c7f208feb623b1'),\n",
      " 'hobbies': [{'frequency': 2, 'title': 'Sports'},\n",
      "             {'frequency': 3, 'title': 'Cooking'}],\n",
      " 'name': 'Anna'}\n"
     ]
    }
   ],
   "source": [
    "for x in db.users.find(\n",
    "    {\"$and\": [{\"hobbies.title\": \"Sports\"}, {\"hobbies.frequency\": {\"$gte\": 3}}]}\n",
    "):\n",
    "    pprint(x)\n"
   ]
  },
  {
   "cell_type": "code",
   "execution_count": 19,
   "id": "2279208f",
   "metadata": {},
   "outputs": [
    {
     "name": "stdout",
     "output_type": "stream",
     "text": [
      "{'_id': ObjectId('64531d02d0c7f208feb623b0'),\n",
      " 'hobbies': [{'frequency': 3, 'title': 'Sports'},\n",
      "             {'frequency': 6, 'title': 'Cooking'}],\n",
      " 'name': 'Max'}\n"
     ]
    }
   ],
   "source": [
    "for x in db.users.find(\n",
    "    {\"hobbies\": {\"$elemMatch\": {\"title\": \"Sports\", \"frequency\": {\"$gte\": 3}}}}\n",
    "):\n",
    "    pprint(x)\n"
   ]
  },
  {
   "cell_type": "code",
   "execution_count": 21,
   "id": "dc0434ef",
   "metadata": {},
   "outputs": [],
   "source": [
    "client.close()\n"
   ]
  }
 ],
 "metadata": {
  "kernelspec": {
   "display_name": "Python 3 (ipykernel)",
   "language": "python",
   "name": "python3"
  },
  "language_info": {
   "codemirror_mode": {
    "name": "ipython",
    "version": 3
   },
   "file_extension": ".py",
   "mimetype": "text/x-python",
   "name": "python",
   "nbconvert_exporter": "python",
   "pygments_lexer": "ipython3",
   "version": "3.10.6"
  }
 },
 "nbformat": 4,
 "nbformat_minor": 5
}
