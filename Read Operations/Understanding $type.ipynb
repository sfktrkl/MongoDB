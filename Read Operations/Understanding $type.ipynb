{
 "cells": [
  {
   "cell_type": "code",
   "execution_count": 28,
   "id": "04ca7f03",
   "metadata": {},
   "outputs": [
    {
     "data": {
      "text/plain": [
       "['admin', 'config', 'local']"
      ]
     },
     "execution_count": 28,
     "metadata": {},
     "output_type": "execute_result"
    }
   ],
   "source": [
    "from pymongo import MongoClient\n",
    "from pprint import pprint\n",
    "\n",
    "client = MongoClient(\"localhost\", 27017)\n",
    "client.drop_database(\"userData\")\n",
    "client.list_database_names()\n"
   ]
  },
  {
   "cell_type": "code",
   "execution_count": 29,
   "id": "0a1e598e",
   "metadata": {},
   "outputs": [
    {
     "data": {
      "text/plain": [
       "[]"
      ]
     },
     "execution_count": 29,
     "metadata": {},
     "output_type": "execute_result"
    }
   ],
   "source": [
    "db = client.userData\n",
    "db.list_collection_names()\n"
   ]
  },
  {
   "cell_type": "code",
   "execution_count": 30,
   "id": "88b58f8b",
   "metadata": {},
   "outputs": [
    {
     "data": {
      "text/plain": [
       "<pymongo.results.InsertManyResult at 0x7fd4123cbc70>"
      ]
     },
     "execution_count": 30,
     "metadata": {},
     "output_type": "execute_result"
    }
   ],
   "source": [
    "db.users.insert_many([{\"name\": \"Max\", \"age\": 30}, {\"name\": \"Anna\", \"age\": \"30\"}])\n"
   ]
  },
  {
   "cell_type": "code",
   "execution_count": 31,
   "id": "5f361489",
   "metadata": {},
   "outputs": [
    {
     "name": "stdout",
     "output_type": "stream",
     "text": [
      "{'_id': ObjectId('6451c9d5a188619fef94926b'), 'age': 30, 'name': 'Max'}\n"
     ]
    }
   ],
   "source": [
    "for x in db.users.find({\"age\": {\"$type\": \"number\"}}):\n",
    "    pprint(x)\n"
   ]
  },
  {
   "cell_type": "code",
   "execution_count": 32,
   "id": "2279208f",
   "metadata": {},
   "outputs": [
    {
     "name": "stdout",
     "output_type": "stream",
     "text": [
      "{'_id': ObjectId('6451c9d5a188619fef94926c'), 'age': '30', 'name': 'Anna'}\n"
     ]
    }
   ],
   "source": [
    "for x in db.users.find({\"age\": {\"$type\": \"string\"}}):\n",
    "    pprint(x)\n"
   ]
  },
  {
   "cell_type": "code",
   "execution_count": 33,
   "id": "27b56f86",
   "metadata": {},
   "outputs": [
    {
     "name": "stdout",
     "output_type": "stream",
     "text": [
      "{'_id': ObjectId('6451c9d5a188619fef94926b'), 'age': 30, 'name': 'Max'}\n",
      "{'_id': ObjectId('6451c9d5a188619fef94926c'), 'age': '30', 'name': 'Anna'}\n"
     ]
    }
   ],
   "source": [
    "for x in db.users.find({\"age\": {\"$type\": [\"number\", \"string\"]}}):\n",
    "    pprint(x)\n"
   ]
  },
  {
   "cell_type": "code",
   "execution_count": 34,
   "id": "dc0434ef",
   "metadata": {},
   "outputs": [],
   "source": [
    "client.close()\n"
   ]
  }
 ],
 "metadata": {
  "kernelspec": {
   "display_name": "Python 3 (ipykernel)",
   "language": "python",
   "name": "python3"
  },
  "language_info": {
   "codemirror_mode": {
    "name": "ipython",
    "version": 3
   },
   "file_extension": ".py",
   "mimetype": "text/x-python",
   "name": "python",
   "nbconvert_exporter": "python",
   "pygments_lexer": "ipython3",
   "version": "3.10.6"
  }
 },
 "nbformat": 4,
 "nbformat_minor": 5
}
