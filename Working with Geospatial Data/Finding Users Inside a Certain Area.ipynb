{
 "cells": [
  {
   "cell_type": "code",
   "execution_count": 19,
   "id": "04ca7f03",
   "metadata": {},
   "outputs": [
    {
     "data": {
      "text/plain": [
       "['admin', 'config', 'local']"
      ]
     },
     "execution_count": 19,
     "metadata": {},
     "output_type": "execute_result"
    }
   ],
   "source": [
    "from pymongo import MongoClient\n",
    "from pprint import pprint\n",
    "\n",
    "client = MongoClient(\"localhost\", 27017)\n",
    "client.drop_database(\"awesomeplaces\")\n",
    "client.list_database_names()\n"
   ]
  },
  {
   "cell_type": "code",
   "execution_count": 20,
   "id": "0a1e598e",
   "metadata": {},
   "outputs": [
    {
     "data": {
      "text/plain": [
       "[]"
      ]
     },
     "execution_count": 20,
     "metadata": {},
     "output_type": "execute_result"
    }
   ],
   "source": [
    "db = client.awesomeplaces\n",
    "db.list_collection_names()\n"
   ]
  },
  {
   "cell_type": "code",
   "execution_count": 21,
   "id": "46397f52",
   "metadata": {},
   "outputs": [
    {
     "data": {
      "text/plain": [
       "ObjectId('6456eeb17cecb97bdaa27a09')"
      ]
     },
     "execution_count": 21,
     "metadata": {},
     "output_type": "execute_result"
    }
   ],
   "source": [
    "db.areas.insert_one(\n",
    "    {\n",
    "        \"name\": \"California Academy of Sciences\",\n",
    "        \"area\": {\n",
    "            \"type\": \"Polygon\",\n",
    "            \"coordinates\": [\n",
    "                [\n",
    "                    [-122.45475, 37.77473],\n",
    "                    [-122.45303, 37.76641],\n",
    "                    [-122.51026, 37.76411],\n",
    "                    [-122.51088, 37.77131],\n",
    "                    [-122.45475, 37.77473],\n",
    "                ]\n",
    "            ],\n",
    "        },\n",
    "    },\n",
    ").inserted_id\n"
   ]
  },
  {
   "cell_type": "code",
   "execution_count": 22,
   "id": "6c7a55c0",
   "metadata": {},
   "outputs": [
    {
     "data": {
      "text/plain": [
       "'area_2dsphere'"
      ]
     },
     "execution_count": 22,
     "metadata": {},
     "output_type": "execute_result"
    }
   ],
   "source": [
    "db.areas.create_index([(\"area\", \"2dsphere\")])\n"
   ]
  },
  {
   "cell_type": "code",
   "execution_count": 23,
   "id": "88b58f8b",
   "metadata": {},
   "outputs": [
    {
     "name": "stdout",
     "output_type": "stream",
     "text": [
      "{'_id': ObjectId('6456eeb17cecb97bdaa27a09'),\n",
      " 'area': {'coordinates': [[[-122.45475, 37.77473],\n",
      "                           [-122.45303, 37.76641],\n",
      "                           [-122.51026, 37.76411],\n",
      "                           [-122.51088, 37.77131],\n",
      "                           [-122.45475, 37.77473]]],\n",
      "          'type': 'Polygon'},\n",
      " 'name': 'California Academy of Sciences'}\n"
     ]
    }
   ],
   "source": [
    "for x in db.areas.find(\n",
    "    {\n",
    "        \"area\": {\n",
    "            \"$geoIntersects\": {\n",
    "                \"$geometry\": {\"type\": \"Point\", \"coordinates\": [-122.49089, 37.76992]}\n",
    "            }\n",
    "        }\n",
    "    }\n",
    "):\n",
    "    pprint(x)\n"
   ]
  },
  {
   "cell_type": "code",
   "execution_count": 24,
   "id": "31723889",
   "metadata": {},
   "outputs": [],
   "source": [
    "for x in db.areas.find(\n",
    "    {\n",
    "        \"area\": {\n",
    "            \"$geoIntersects\": {\n",
    "                \"$geometry\": {\"type\": \"Point\", \"coordinates\": [-122.48446, 37.77776]}\n",
    "            }\n",
    "        }\n",
    "    }\n",
    "):\n",
    "    pprint(x)\n"
   ]
  },
  {
   "cell_type": "code",
   "execution_count": 25,
   "id": "dc0434ef",
   "metadata": {},
   "outputs": [],
   "source": [
    "client.close()\n"
   ]
  }
 ],
 "metadata": {
  "kernelspec": {
   "display_name": "Python 3 (ipykernel)",
   "language": "python",
   "name": "python3"
  },
  "language_info": {
   "codemirror_mode": {
    "name": "ipython",
    "version": 3
   },
   "file_extension": ".py",
   "mimetype": "text/x-python",
   "name": "python",
   "nbconvert_exporter": "python",
   "pygments_lexer": "ipython3",
   "version": "3.10.6"
  }
 },
 "nbformat": 4,
 "nbformat_minor": 5
}
