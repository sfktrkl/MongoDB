{
 "cells": [
  {
   "cell_type": "code",
   "execution_count": 26,
   "id": "04ca7f03",
   "metadata": {},
   "outputs": [
    {
     "data": {
      "text/plain": [
       "['admin', 'config', 'local']"
      ]
     },
     "execution_count": 26,
     "metadata": {},
     "output_type": "execute_result"
    }
   ],
   "source": [
    "from pymongo import MongoClient\n",
    "from pprint import pprint\n",
    "\n",
    "client = MongoClient(\"localhost\", 27017)\n",
    "client.drop_database(\"awesomeplaces\")\n",
    "client.list_database_names()\n"
   ]
  },
  {
   "cell_type": "code",
   "execution_count": 27,
   "id": "0a1e598e",
   "metadata": {},
   "outputs": [
    {
     "data": {
      "text/plain": [
       "[]"
      ]
     },
     "execution_count": 27,
     "metadata": {},
     "output_type": "execute_result"
    }
   ],
   "source": [
    "db = client.awesomeplaces\n",
    "db.list_collection_names()\n"
   ]
  },
  {
   "cell_type": "code",
   "execution_count": 28,
   "id": "2d197d0d",
   "metadata": {},
   "outputs": [
    {
     "data": {
      "text/plain": [
       "<pymongo.results.InsertOneResult at 0x7faab40e27a0>"
      ]
     },
     "execution_count": 28,
     "metadata": {},
     "output_type": "execute_result"
    }
   ],
   "source": [
    "db.places.insert_one(\n",
    "    {\n",
    "        \"name\": \"California Academy of Sciences\",\n",
    "        \"location\": {\"type\": \"Point\", \"coordinates\": [-122.4724356, 37.7682544]},\n",
    "    }\n",
    ")\n"
   ]
  },
  {
   "cell_type": "code",
   "execution_count": 29,
   "id": "6c7a55c0",
   "metadata": {},
   "outputs": [
    {
     "data": {
      "text/plain": [
       "'location_2dsphere'"
      ]
     },
     "execution_count": 29,
     "metadata": {},
     "output_type": "execute_result"
    }
   ],
   "source": [
    "db.places.create_index([(\"location\", \"2dsphere\")])\n"
   ]
  },
  {
   "cell_type": "code",
   "execution_count": 30,
   "id": "88b58f8b",
   "metadata": {},
   "outputs": [
    {
     "data": {
      "text/plain": [
       "{'_id': ObjectId('6456eb87ee8b71be2ddff875'),\n",
       " 'name': 'California Academy of Sciences',\n",
       " 'location': {'type': 'Point', 'coordinates': [-122.4724356, 37.7682544]}}"
      ]
     },
     "execution_count": 30,
     "metadata": {},
     "output_type": "execute_result"
    }
   ],
   "source": [
    "db.places.find(\n",
    "    {\n",
    "        \"location\": {\n",
    "            \"$near\": {\n",
    "                \"$geometry\": {\"type\": \"Point\", \"coordinates\": [-122.471114, 37.771104]}\n",
    "            }\n",
    "        }\n",
    "    }\n",
    ").next()\n"
   ]
  },
  {
   "cell_type": "code",
   "execution_count": 31,
   "id": "7924f671",
   "metadata": {},
   "outputs": [
    {
     "data": {
      "text/plain": [
       "{'_id': ObjectId('6456eb87ee8b71be2ddff875'),\n",
       " 'name': 'California Academy of Sciences',\n",
       " 'location': {'type': 'Point', 'coordinates': [-122.4724356, 37.7682544]}}"
      ]
     },
     "execution_count": 31,
     "metadata": {},
     "output_type": "execute_result"
    }
   ],
   "source": [
    "db.places.find(\n",
    "    {\n",
    "        \"location\": {\n",
    "            \"$near\": {\n",
    "                \"$geometry\": {\"type\": \"Point\", \"coordinates\": [-122.471114, 37.771104]},\n",
    "                \"$maxDistance\": 500,\n",
    "                \"$minDistance\": 30,\n",
    "            }\n",
    "        }\n",
    "    }\n",
    ").next()\n"
   ]
  },
  {
   "cell_type": "code",
   "execution_count": 32,
   "id": "dc0434ef",
   "metadata": {},
   "outputs": [],
   "source": [
    "client.close()\n"
   ]
  }
 ],
 "metadata": {
  "kernelspec": {
   "display_name": "Python 3 (ipykernel)",
   "language": "python",
   "name": "python3"
  },
  "language_info": {
   "codemirror_mode": {
    "name": "ipython",
    "version": 3
   },
   "file_extension": ".py",
   "mimetype": "text/x-python",
   "name": "python",
   "nbconvert_exporter": "python",
   "pygments_lexer": "ipython3",
   "version": "3.10.6"
  }
 },
 "nbformat": 4,
 "nbformat_minor": 5
}
