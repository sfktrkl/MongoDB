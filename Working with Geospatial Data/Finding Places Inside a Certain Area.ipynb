{
 "cells": [
  {
   "cell_type": "code",
   "execution_count": 8,
   "id": "04ca7f03",
   "metadata": {},
   "outputs": [
    {
     "data": {
      "text/plain": [
       "['admin', 'config', 'local']"
      ]
     },
     "execution_count": 8,
     "metadata": {},
     "output_type": "execute_result"
    }
   ],
   "source": [
    "from pymongo import MongoClient\n",
    "from pprint import pprint\n",
    "\n",
    "client = MongoClient(\"localhost\", 27017)\n",
    "client.drop_database(\"awesomeplaces\")\n",
    "client.list_database_names()\n"
   ]
  },
  {
   "cell_type": "code",
   "execution_count": 9,
   "id": "0a1e598e",
   "metadata": {},
   "outputs": [
    {
     "data": {
      "text/plain": [
       "[]"
      ]
     },
     "execution_count": 9,
     "metadata": {},
     "output_type": "execute_result"
    }
   ],
   "source": [
    "db = client.awesomeplaces\n",
    "db.list_collection_names()\n"
   ]
  },
  {
   "cell_type": "code",
   "execution_count": 10,
   "id": "46397f52",
   "metadata": {},
   "outputs": [
    {
     "data": {
      "text/plain": [
       "<pymongo.results.InsertManyResult at 0x7f3647f33970>"
      ]
     },
     "execution_count": 10,
     "metadata": {},
     "output_type": "execute_result"
    }
   ],
   "source": [
    "db.places.insert_many(\n",
    "    [\n",
    "        {\n",
    "            \"name\": \"California Academy of Sciences\",\n",
    "            \"location\": {\"type\": \"Point\", \"coordinates\": [-122.4724356, 37.7682544]},\n",
    "        },\n",
    "        {\n",
    "            \"name\": \"Conservatory of Flowers\",\n",
    "            \"location\": {\"type\": \"Point\", \"coordinates\": [-122.4615748, 37.7701756]},\n",
    "        },\n",
    "        {\n",
    "            \"name\": \"Golden Gate Tennis Park\",\n",
    "            \"location\": {\"type\": \"Point\", \"coordinates\": [-122.4593702, 37.7705046]},\n",
    "        },\n",
    "        {\n",
    "            \"name\": \"Nopa\",\n",
    "            \"location\": {\"type\": \"Point\", \"coordinates\": [-122.4389058, 37.7747415]},\n",
    "        },\n",
    "    ]\n",
    ")\n"
   ]
  },
  {
   "cell_type": "code",
   "execution_count": 11,
   "id": "6c7a55c0",
   "metadata": {},
   "outputs": [
    {
     "data": {
      "text/plain": [
       "'location_2dsphere'"
      ]
     },
     "execution_count": 11,
     "metadata": {},
     "output_type": "execute_result"
    }
   ],
   "source": [
    "db.places.create_index([(\"location\", \"2dsphere\")])\n"
   ]
  },
  {
   "cell_type": "code",
   "execution_count": 12,
   "id": "88b58f8b",
   "metadata": {},
   "outputs": [
    {
     "name": "stdout",
     "output_type": "stream",
     "text": [
      "{'_id': ObjectId('6456ed5bd6addd794c003bb3'),\n",
      " 'location': {'coordinates': [-122.4615748, 37.7701756], 'type': 'Point'},\n",
      " 'name': 'Conservatory of Flowers'}\n",
      "{'_id': ObjectId('6456ed5bd6addd794c003bb4'),\n",
      " 'location': {'coordinates': [-122.4593702, 37.7705046], 'type': 'Point'},\n",
      " 'name': 'Golden Gate Tennis Park'}\n",
      "{'_id': ObjectId('6456ed5bd6addd794c003bb2'),\n",
      " 'location': {'coordinates': [-122.4724356, 37.7682544], 'type': 'Point'},\n",
      " 'name': 'California Academy of Sciences'}\n"
     ]
    }
   ],
   "source": [
    "for x in db.places.find(\n",
    "    {\n",
    "        \"location\": {\n",
    "            \"$geoWithin\": {\n",
    "                \"$geometry\": {\n",
    "                    \"type\": \"Polygon\",\n",
    "                    \"coordinates\": [\n",
    "                        [\n",
    "                            [-122.45475, 37.77473],\n",
    "                            [-122.45303, 37.76641],\n",
    "                            [-122.51026, 37.76411],\n",
    "                            [-122.51088, 37.77131],\n",
    "                            [-122.45475, 37.77473],\n",
    "                        ]\n",
    "                    ],\n",
    "                }\n",
    "            }\n",
    "        }\n",
    "    }\n",
    "):\n",
    "    pprint(x)\n"
   ]
  },
  {
   "cell_type": "code",
   "execution_count": 14,
   "id": "dc0434ef",
   "metadata": {},
   "outputs": [],
   "source": [
    "client.close()\n"
   ]
  }
 ],
 "metadata": {
  "kernelspec": {
   "display_name": "Python 3 (ipykernel)",
   "language": "python",
   "name": "python3"
  },
  "language_info": {
   "codemirror_mode": {
    "name": "ipython",
    "version": 3
   },
   "file_extension": ".py",
   "mimetype": "text/x-python",
   "name": "python",
   "nbconvert_exporter": "python",
   "pygments_lexer": "ipython3",
   "version": "3.10.6"
  }
 },
 "nbformat": 4,
 "nbformat_minor": 5
}
