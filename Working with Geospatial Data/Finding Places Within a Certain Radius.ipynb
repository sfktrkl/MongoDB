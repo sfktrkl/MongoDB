{
 "cells": [
  {
   "cell_type": "code",
   "execution_count": 1,
   "id": "04ca7f03",
   "metadata": {},
   "outputs": [
    {
     "data": {
      "text/plain": [
       "['admin', 'config', 'local']"
      ]
     },
     "execution_count": 1,
     "metadata": {},
     "output_type": "execute_result"
    }
   ],
   "source": [
    "from pymongo import MongoClient\n",
    "from pprint import pprint\n",
    "\n",
    "client = MongoClient(\"localhost\", 27017)\n",
    "client.drop_database(\"awesomeplaces\")\n",
    "client.list_database_names()\n"
   ]
  },
  {
   "cell_type": "code",
   "execution_count": 2,
   "id": "0a1e598e",
   "metadata": {},
   "outputs": [
    {
     "data": {
      "text/plain": [
       "[]"
      ]
     },
     "execution_count": 2,
     "metadata": {},
     "output_type": "execute_result"
    }
   ],
   "source": [
    "db = client.awesomeplaces\n",
    "db.list_collection_names()\n"
   ]
  },
  {
   "cell_type": "code",
   "execution_count": 3,
   "id": "46397f52",
   "metadata": {},
   "outputs": [
    {
     "data": {
      "text/plain": [
       "<pymongo.results.InsertManyResult at 0x7f2b96aaf850>"
      ]
     },
     "execution_count": 3,
     "metadata": {},
     "output_type": "execute_result"
    }
   ],
   "source": [
    "db.places.insert_many(\n",
    "    [\n",
    "        {\n",
    "            \"name\": \"California Academy of Sciences\",\n",
    "            \"location\": {\"type\": \"Point\", \"coordinates\": [-122.4724356, 37.7682544]},\n",
    "        },\n",
    "        {\n",
    "            \"name\": \"Conservatory of Flowers\",\n",
    "            \"location\": {\"type\": \"Point\", \"coordinates\": [-122.4615748, 37.7701756]},\n",
    "        },\n",
    "        {\n",
    "            \"name\": \"Golden Gate Tennis Park\",\n",
    "            \"location\": {\"type\": \"Point\", \"coordinates\": [-122.4593702, 37.7705046]},\n",
    "        },\n",
    "        {\n",
    "            \"name\": \"Nopa\",\n",
    "            \"location\": {\"type\": \"Point\", \"coordinates\": [-122.4389058, 37.7747415]},\n",
    "        },\n",
    "    ]\n",
    ")\n"
   ]
  },
  {
   "cell_type": "code",
   "execution_count": 4,
   "id": "6c7a55c0",
   "metadata": {},
   "outputs": [
    {
     "data": {
      "text/plain": [
       "'location_2dsphere'"
      ]
     },
     "execution_count": 4,
     "metadata": {},
     "output_type": "execute_result"
    }
   ],
   "source": [
    "db.places.create_index([(\"location\", \"2dsphere\")])\n"
   ]
  },
  {
   "cell_type": "code",
   "execution_count": 5,
   "id": "88b58f8b",
   "metadata": {},
   "outputs": [
    {
     "name": "stdout",
     "output_type": "stream",
     "text": [
      "{'_id': ObjectId('6456ef8b20806fe1ab3dfeea'),\n",
      " 'location': {'coordinates': [-122.4615748, 37.7701756], 'type': 'Point'},\n",
      " 'name': 'Conservatory of Flowers'}\n",
      "{'_id': ObjectId('6456ef8b20806fe1ab3dfeeb'),\n",
      " 'location': {'coordinates': [-122.4593702, 37.7705046], 'type': 'Point'},\n",
      " 'name': 'Golden Gate Tennis Park'}\n"
     ]
    }
   ],
   "source": [
    "for x in db.places.find(\n",
    "    {\n",
    "        \"location\": {\n",
    "            \"$geoWithin\": {\n",
    "                \"$centerSphere\": [[-122.46203, 37.77286], 1/6378.1]\n",
    "            }\n",
    "        }\n",
    "    }\n",
    "):\n",
    "    pprint(x)\n"
   ]
  },
  {
   "cell_type": "code",
   "execution_count": 6,
   "id": "dc0434ef",
   "metadata": {},
   "outputs": [],
   "source": [
    "client.close()\n"
   ]
  }
 ],
 "metadata": {
  "kernelspec": {
   "display_name": "Python 3 (ipykernel)",
   "language": "python",
   "name": "python3"
  },
  "language_info": {
   "codemirror_mode": {
    "name": "ipython",
    "version": 3
   },
   "file_extension": ".py",
   "mimetype": "text/x-python",
   "name": "python",
   "nbconvert_exporter": "python",
   "pygments_lexer": "ipython3",
   "version": "3.10.6"
  }
 },
 "nbformat": 4,
 "nbformat_minor": 5
}
